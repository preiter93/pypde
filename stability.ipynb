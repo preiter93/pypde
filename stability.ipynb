{
 "cells": [
  {
   "cell_type": "code",
   "execution_count": 1,
   "id": "2cb76a2e",
   "metadata": {},
   "outputs": [
    {
     "name": "stdout",
     "output_type": "stream",
     "text": [
      "----------------------------\n",
      "Input Parameter:\n",
      "Ny : 51\n",
      "Ra : 1720\n",
      "Pr : 1.0\n",
      "alpha : 3.14\n",
      "plot : True\n",
      "----------------------------\n",
      "   3 largest eigenvalues:\n",
      "   3: 8.9399e-13 -5.6548e+01j\n",
      "   2: 1.7175e-12 -4.2652e+01j\n",
      "   1: 2.5763e-12 9.1858e-02j\n",
      "Time used:     0.95 s.\n"
     ]
    },
    {
     "data": {
      "image/png": "[encoded data removed]",
      "text/plain": [
       "<Figure size 576x216 with 3 Axes>"
      ]
     },
     "metadata": {
      "needs_background": "light"
     },
     "output_type": "display_data"
    }
   ],
   "source": [
    "import numpy as np \n",
    "from pypde import *\n",
    "from scipy.linalg import eig\n",
    "import matplotlib.pyplot as plt\n",
    "from pypde.stability.rbc1d import solve_rbc1d\n",
    "# Parameters\n",
    "Ny    = 51\n",
    "alpha = 3.14\n",
    "Ra    = 1720\n",
    "Pr    = 1.0\n",
    "\n",
    "# Find the growth rates for given Ra\n",
    "evals,evecs = solve_rbc1d(Ny=Ny,Ra=Ra,Pr=Pr,alpha=alpha,plot=True)\n"
   ]
  },
  {
   "cell_type": "markdown",
   "id": "17961de3",
   "metadata": {},
   "source": [
    "## 1D Convolution"
   ]
  },
  {
   "cell_type": "code",
   "execution_count": 260,
   "id": "dd513d07",
   "metadata": {},
   "outputs": [
    {
     "data": {
      "text/plain": [
       "array([[ 1.        ,  0.44004909,  0.        , -0.0193136 ,  0.        ],\n",
       "       [ 0.88009818,  1.        ,  0.42073549,  0.        , -0.0193136 ],\n",
       "       [ 0.        ,  0.42073549,  1.        ,  0.44004909,  0.        ],\n",
       "       [-0.03862719,  0.        ,  0.44004909,  1.        ,  0.44004909],\n",
       "       [ 0.        , -0.0193136 ,  0.        ,  0.44004909,  1.        ]])"
      ]
     },
     "execution_count": 260,
     "metadata": {},
     "output_type": "execute_result"
    }
   ],
   "source": [
    "def nu(Ra,Pr):\n",
    "    return np.sqrt(Pr/Ra)\n",
    "\n",
    "def kappa(Ra,Pr):\n",
    "    return  np.sqrt(1/Pr/Ra)\n",
    "\n",
    "\n",
    "def convolution_matrix(ahat):\n",
    "    '''\n",
    "    Physical Space \n",
    "        C = A @ B\n",
    "    Spectral Space\n",
    "        C = Conv(A,B) = M @ B\n",
    "        \n",
    "    Returns Convolution matrix M, that can be \n",
    "    multiplied with B to obtain Conv(A,B)\n",
    "    \n",
    "    Literature\n",
    "    [1] The Special Functions And Their Approximations -\n",
    "    Y.L. Luke, section 8.6.1, eq. (24)\n",
    "    \n",
    "    Here, formula (25) of ref. [1] is used\n",
    "\n",
    "    >>>\n",
    "    shape = (10,)\n",
    "    B = Field([Base(shape[0],\"CH\")] )\n",
    "    a = np.sin(B.x)+1\n",
    "    b = np.cos(B.x)+1\n",
    "    c = a*b\n",
    "    ahat = B.forward(a)\n",
    "    bhat = B.forward(b)\n",
    "    chat = B.forward(c)\n",
    "    \n",
    "    np.allclose(chat, convolution_matrix(ahat)@bhat,1e-2)\n",
    "    >>>\n",
    "    '''\n",
    "    N = ahat.size\n",
    "    M = np.zeros((2*N,2*N))\n",
    "    \n",
    "    for i in np.arange(N):\n",
    "        M[i,0] = 1.*ahat[i]\n",
    "    \n",
    "    for i in np.arange(1,N):\n",
    "        M[0,i] = 0.5*M[i,0]\n",
    "        M[i,i] = M[0,0] + .5*M[2*i,0]\n",
    "        for j in np.arange(i+1,N):\n",
    "            M[i,j] = .5*(M[i+j,0] + M[j-i,0])\n",
    "            M[j,i] = M[i,j]\n",
    "            \n",
    "    return M[:N,:N]\n",
    "\n",
    "\n",
    "def convolution_matrix(ahat):\n",
    "    '''\n",
    "    Physical Space \n",
    "        C = A @ B\n",
    "    Spectral Space\n",
    "        C = Conv(A,B) = M @ B\n",
    "        \n",
    "    Returns Convolution matrix M, that can be \n",
    "    multiplied with B to obtain Conv(A,B)\n",
    "    \n",
    "    Literature\n",
    "    [1] The Special Functions And Their Approximations -\n",
    "    Y.L. Luke, section 8.6.1, eq. (24)\n",
    "    [2] Subroutines for Convolution Sums of Chebyshev\n",
    "    and Fourier Series - G. Delic and S.M. Malherbe \n",
    "    \n",
    "    Here, formula (24) of ref. [1] is used\n",
    "\n",
    "    >>>\n",
    "    shape = (10,)\n",
    "    B = Field([Base(shape[0],\"CH\")] )\n",
    "    a = np.sin(B.x)+1\n",
    "    b = np.cos(B.x)+1\n",
    "    c = a*b\n",
    "    ahat = B.forward(a)\n",
    "    bhat = B.forward(b)\n",
    "    chat = B.forward(c)\n",
    "    \n",
    "    np.allclose(chat, convolution_matrix(ahat)@bhat,1e-2)\n",
    "    >>>\n",
    "    '''\n",
    "    N = ahat.size\n",
    "    ahat_padded = np.zeros(2*N)\n",
    "    ahat_padded[:N] = ahat\n",
    "    M = np.zeros((N,N))\n",
    "    eps = np.ones(2*N); eps[1:] *= 2.\n",
    "    \n",
    "    # k = 0\n",
    "    M[0,0] = 1.*ahat[0]\n",
    "    for j in np.arange(1,N):\n",
    "        M[0,j] = 0.5*ahat[j]\n",
    "    # k > 0    \n",
    "    for k in range(1,N):\n",
    "        M[k,0] = 1.*ahat_padded[k]\n",
    "        for j in np.arange(1,N):\n",
    "            j1,j2 = int(k+j), int(np.abs(k-j))\n",
    "            M[k,j] = (ahat_padded[j2]/eps[j2] + .5*ahat_padded[j1])\n",
    "    return M\n",
    "\n",
    "shape = (5,)\n",
    "B = Field([Base(shape[0],\"CH\")] )\n",
    "a = np.sin(B.x)+1\n",
    "b = np.cos(B.x)+1\n",
    "c = a*b\n",
    "ahat = B.forward(a)\n",
    "bhat = B.forward(b)\n",
    "chat = B.forward(c)\n",
    "\n",
    "convolution_matrix(ahat)#@bhat"
   ]
  },
  {
   "cell_type": "code",
   "execution_count": 2,
   "id": "7bdbef44",
   "metadata": {},
   "outputs": [
    {
     "name": "stdout",
     "output_type": "stream",
     "text": [
      "   5 largest eigenvalues:\n",
      "   5: 8.9166e-13 -9.7255e+01j\n",
      "   4: -9.2462e-14 -9.1348e+01j\n",
      "   3: 8.9399e-13 -5.6548e+01j\n",
      "   2: 1.7175e-12 -4.2652e+01j\n",
      "   1: 2.5763e-12 9.1858e-02j\n"
     ]
    }
   ],
   "source": [
    "Ra = 1720\n",
    "Pr = 1\n",
    "N = 51\n",
    "shape = (N,)\n",
    "alpha = 3.14#/2.\n",
    "\n",
    "Lz = 2.\n",
    "\n",
    "#Ra /= (2**3\n",
    "\n",
    "# Normalization 1 (Diffusion)\n",
    "nu = Pr\n",
    "ka = 1\n",
    "beta = Pr*Ra\n",
    "\n",
    "# Normalization 2 (Turnover)\n",
    "#nu = np.sqrt(Pr/Ra)\n",
    "#ka = np.sqrt(1/Pr/Ra)    \n",
    "#beta = 1.0\n",
    "\n",
    "U = Field( [Base(shape[0],\"CD\")] )\n",
    "V = Field( [Base(shape[0],\"CD\")] )\n",
    "T = Field( [Base(shape[0],\"CD\")] )\n",
    "P = Field( [Base(shape[0],\"CN\")] )\n",
    "CH = Field([Base(shape[0],\"CH\",dealias=2)] )\n",
    "z = U.x/Lz\n",
    "\n",
    "# -- Matrices \n",
    "ICH = np.eye(CH.vhat.shape[0])\n",
    "I = np.eye(U.vhat.shape[0])\n",
    "\n",
    "Dz = CH.xs[0].dms(1)*(Lz)\n",
    "Dx = 1.j*alpha*ICH\n",
    "Dz2 = Dz@Dz\n",
    "Dx2 = Dx@Dx\n",
    "\n",
    "\n",
    "# -- Mean Field\n",
    "UU = np.zeros(CH.shape)\n",
    "VV = np.zeros(CH.shape)\n",
    "TT = np.zeros(CH.shape)\n",
    "\n",
    "TT[:] = CH.forward(-1.0*z) \n",
    "UU[:] = CH.forward(-1.0*z)\n",
    "\n",
    "# -- Build\n",
    "\n",
    "# -- Diffusion\n",
    "D2U = nu*U.xs[0].ST@(-Dx2 - Dz2)@U.xs[0].S\n",
    "D2V = nu*V.xs[0].ST@(-Dx2 - Dz2)@V.xs[0].S\n",
    "D2T = ka*T.xs[0].ST@(-Dx2 - Dz2)@T.xs[0].S\n",
    "\n",
    "# -- Buoyancy Uz\n",
    "BVT = V.xs[0].ST@T.xs[0].S\n",
    "\n",
    "# -- Pressure\n",
    "DXP = U.xs[0].ST@Dx@P.xs[0].S\n",
    "DZP = V.xs[0].ST@Dz@P.xs[0].S\n",
    "\n",
    "# -- Divergence\n",
    "DXU = P.xs[0].ST@Dx@U.xs[0].S\n",
    "DZV = P.xs[0].ST@Dz@V.xs[0].S\n",
    "\n",
    "# -- Non-Linear udU\n",
    "\n",
    "# dTdz\n",
    "dTdz = -1.0*ICH#np.diag(Dz@TB.vhat)\n",
    "dTdz = convolution_matrix1d(Dz@TT,field=CH)\n",
    "NTV = T.xs[0].ST@dTdz@V.xs[0].S\n",
    "\n",
    "# dUdz\n",
    "dUdz = convolution_matrix1d(Dz@UU,field=CH)\n",
    "NUV  = U.xs[0].ST@dUdz@V.xs[0].S\n",
    "\n",
    "# -- Non-Linear Udu\n",
    "UU = convolution_matrix1d(UU,field=CH)\n",
    "nUU = U.xs[0].ST@(UU@Dx)@U.xs[0].S\n",
    "nUV = V.xs[0].ST@(UU@Dx)@V.xs[0].S\n",
    "\n",
    "# -- Mass Matrices\n",
    "MU = U.xs[0].ST@U.xs[0].S\n",
    "MV = V.xs[0].ST@V.xs[0].S\n",
    "MP = P.xs[0].ST@P.xs[0].S\n",
    "MT = T.xs[0].ST@T.xs[0].S\n",
    "\n",
    "# ------------\n",
    "# LHS\n",
    "L11 = 1.*D2U+1.*nUU  ; L12 = 1.*NUV         ; L13 = 1.*DXP   ; L14 = 0*I\n",
    "L21 = 0.*I           ; L22 = 1.*D2V+1.*nUV  ; L23 = 1.*DZP   ; L24 =-1.*beta*BVT\n",
    "L31 = 1.*DXU         ; L32 = 1.*DZV         ; L33 = 0.*I     ; L34 = 0.*I\n",
    "L41 = 0.*I           ; L42 = 1.*NTV         ; L43 = 0.*I     ; L44 = 1.*D2T\n",
    "\n",
    "# RHS\n",
    "M11 = 1*MU    ; M12 = 0*I     ; M13 = 0*I      ; M14 = 0*I\n",
    "M21 = 0*I     ; M22 = 1*MV    ; M23 = 0*I      ; M24 = 0*I\n",
    "M31 = 0*I     ; M32 = 0*I     ; M33 = 0*I      ; M34 = 0*I\n",
    "M41 = 0*I     ; M42 = 0*I     ; M43 = 0*I      ; M44 = 1*MT\n",
    "\n",
    "L1 = np.block([ [L11,L12,L13,L14] ]);  M1 = np.block([ [M11,M12,M13,M14] ]) #u\n",
    "L2 = np.block([ [L21,L22,L23,L24] ]);  M2 = np.block([ [M21,M22,M23,M24] ]) #v\n",
    "L3 = np.block([ [L31,L32,L33,L34] ]);  M3 = np.block([ [M31,M32,M33,M34] ]) #p\n",
    "L4 = np.block([ [L41,L42,L43,L44] ]);  M4 = np.block([ [M41,M42,M43,M44] ]) #T\n",
    "    \n",
    "# -- Solve EVP ----\n",
    "L = np.block([ [L1], [L2], [L3], [L4]])\n",
    "M = np.block([ [M1], [M2], [M3], [M4]])\n",
    "evals,evecs = eig(L,1.j*M)\n",
    "\n",
    "# Post Process egenvalues\n",
    "evals, evecs = remove_evals(evals,evecs,higher=1400)\n",
    "evals, evecs = sort_evals(evals,evecs,which=\"I\")\n",
    "\n",
    "print_evals(evals,n=5)"
   ]
  },
  {
   "cell_type": "code",
   "execution_count": 3,
   "id": "0f24107f",
   "metadata": {},
   "outputs": [
    {
     "data": {
      "image/png": "[encoded data removed]",
      "text/plain": [
       "<Figure size 576x216 with 3 Axes>"
      ]
     },
     "metadata": {
      "needs_background": "light"
     },
     "output_type": "display_data"
    }
   ],
   "source": [
    "def split_evec(evecs,m=-1,N=None):\n",
    "    if N is None:\n",
    "        N = evecs.shape[0]//4\n",
    "    u = evecs[0*N:1*N,m]\n",
    "    v = evecs[1*N:2*N,m]\n",
    "    p = evecs[2*N:3*N,m]\n",
    "    t = evecs[3*N:4*N,m]\n",
    "    return u,v,p,t\n",
    "\n",
    "# -- Plot\n",
    "blue = (0/255, 137/255, 204/255)\n",
    "red  = (196/255, 0, 96/255)\n",
    "yel   = (230/255,159/255,0)\n",
    "\n",
    "u,v,p,t = split_evec(evecs,m=-1)\n",
    "U.vhat[:] = np.real(u)\n",
    "V.vhat[:] = np.real(v)\n",
    "P.vhat[:] = np.real(p)\n",
    "T.vhat[:] = np.real(t)\n",
    "U.backward()\n",
    "V.backward()\n",
    "P.backward()\n",
    "T.backward()\n",
    "\n",
    "fig,(ax0,ax1,ax2) = plt.subplots(ncols=3, figsize=(8,3))\n",
    "ax0.set_title(\"Eigenvalues\")\n",
    "ax0.set_xlim(-1,1);  ax0.grid(True)\n",
    "ax0.scatter(np.real(evals[:]),np.imag(evals[:]), marker=\"o\", edgecolors=\"k\", s=60, facecolors='none'); \n",
    "\n",
    "ax1.set_ylabel(\"y\"); ax1.set_title(\"Largest Eigenvector\")\n",
    "ax1.plot(U.v,z,  marker=\"\", color=blue, label=r\"$|u|$\")\n",
    "ax1.plot(V.v,z,  marker=\"\", color=red,  label=r\"$|v|$\")\n",
    "#ax2.plot(P.v,z,  marker=\"\", color=\"k\" , label=r\"$|p|$\")\n",
    "ax1.legend(loc=\"lower right\")\n",
    "ax2.set_ylabel(\"y\"); ax2.set_title(\"Largest Eigenvector\")\n",
    "ax2.plot(T.v,z,  marker=\"\", color=yel , label=r\"$|T|$\")\n",
    "ax2.legend()\n",
    "plt.tight_layout(); "
   ]
  },
  {
   "cell_type": "markdown",
   "id": "27a3daa5",
   "metadata": {},
   "source": [
    "## 2D Stability analysis"
   ]
  },
  {
   "cell_type": "code",
   "execution_count": 49,
   "id": "26aa7df8",
   "metadata": {},
   "outputs": [],
   "source": [
    "import numpy as np \n",
    "from pypde import *\n",
    "from scipy.linalg import eig\n",
    "import matplotlib.pyplot as plt\n",
    "\n",
    "Ra = 1720\n",
    "Pr = 1\n",
    "Nx,Ny = 21, 21\n",
    "shape = (Nx,Ny)\n",
    "\n",
    "Lz = 2.\n",
    "\n",
    "#Ra /= (2**3\n",
    "\n",
    "# Normalization 1 (Diffusion)\n",
    "nu = Pr\n",
    "ka = 1\n",
    "beta = Pr*Ra\n",
    "\n",
    "# Normalization 2 (Turnover)\n",
    "#nu = np.sqrt(Pr/Ra)\n",
    "#ka = np.sqrt(1/Pr/Ra)    \n",
    "#beta = 1.0\n",
    "\n",
    "U = Field( [Base(shape[0],\"CD\"),Base(shape[1],\"CD\")] )\n",
    "V = Field( [Base(shape[0],\"CD\"),Base(shape[1],\"CD\")] )\n",
    "T = Field( [Base(shape[0],\"CN\"),Base(shape[1],\"CD\")] )\n",
    "P = Field( [Base(shape[0],\"CN\"),Base(shape[1],\"CN\")] )\n",
    "CH = Field([Base(shape[0],\"CH\",dealias=2),Base(shape[1],\"CH\",dealias=2)] )\n",
    "x,y = U.x/Lz,U.y/Lz\n",
    "xx,yy = np.meshgrid(x,y,indexing=\"ij\")\n",
    "\n",
    "# -- Matrices \n",
    "Ix,Iy = np.eye(U.vhat.shape[0]),np.eye(U.vhat.shape[1])\n",
    "D1x = CH.xs[0].dms(1)*(Lz)\n",
    "D1y = CH.xs[1].dms(1)*(Lz)\n",
    "#D2x = D1x@D1x\n",
    "#D2y = D1y@D1y\n",
    "\n",
    "N   = Ny*Nx          ; I   = np.eye(Ny*Nx)\n",
    "#D1y = np.kron(Ix,D1y); D2y = np.kron(Ix,D2y)\n",
    "#D1x = np.kron(D1x,Iy); D2x = np.kron(D2x,Iy)\n",
    "\n",
    "\n",
    "# -- Mean Field\n",
    "UU = np.zeros(CH.shape)\n",
    "VV = np.zeros(CH.shape)\n",
    "TT = np.zeros(CH.shape)\n",
    "\n",
    "TT[:] = CH.forward(-1.0*yy) "
   ]
  },
  {
   "cell_type": "code",
   "execution_count": 50,
   "id": "d12ae2e0",
   "metadata": {},
   "outputs": [
    {
     "data": {
      "text/plain": [
       "(21, 21)"
      ]
     },
     "execution_count": 50,
     "metadata": {},
     "output_type": "execute_result"
    }
   ],
   "source": [
    "(D1x@D1x).shape"
   ]
  },
  {
   "cell_type": "code",
   "execution_count": 52,
   "id": "35c82851",
   "metadata": {},
   "outputs": [],
   "source": [
    "D2 = np.kron( U.xs[0].ST@(D1x@D1x)@U.xs[0].S, Iy)"
   ]
  },
  {
   "cell_type": "code",
   "execution_count": 53,
   "id": "bf4964c3",
   "metadata": {},
   "outputs": [],
   "source": [
    "evals,evecs = eig(D2)"
   ]
  },
  {
   "cell_type": "code",
   "execution_count": 57,
   "id": "e0e77da5",
   "metadata": {},
   "outputs": [
    {
     "data": {
      "image/png": "[encoded data removed]",
      "text/plain": [
       "<Figure size 432x288 with 1 Axes>"
      ]
     },
     "metadata": {
      "needs_background": "light"
     },
     "output_type": "display_data"
    }
   ],
   "source": [
    "ev = evecs[:,1].reshape(Nx-2,Ny-2)\n",
    "ev = U.backward(ev)\n",
    "\n",
    "plt.contourf(xx,yy,ev)\n",
    "plt.show()"
   ]
  },
  {
   "cell_type": "code",
   "execution_count": null,
   "id": "56510003",
   "metadata": {},
   "outputs": [],
   "source": []
  }
 ],
 "metadata": {
  "kernelspec": {
   "display_name": "Python 3",
   "language": "python",
   "name": "python3"
  },
  "language_info": {
   "codemirror_mode": {
    "name": "ipython",
    "version": 3
   },
   "file_extension": ".py",
   "mimetype": "text/x-python",
   "name": "python",
   "nbconvert_exporter": "python",
   "pygments_lexer": "ipython3",
   "version": "3.9.0"
  }
 },
 "nbformat": 4,
 "nbformat_minor": 5
}
