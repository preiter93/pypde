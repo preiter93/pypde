{
 "cells": [
  {
   "cell_type": "code",
   "execution_count": 1,
   "id": "09a64db0",
   "metadata": {},
   "outputs": [
    {
     "data": {
      "text/plain": [
       "(4, 3)"
      ]
     },
     "execution_count": 1,
     "metadata": {},
     "output_type": "execute_result"
    }
   ],
   "source": [
    "%load_ext autoreload\n",
    "%autoreload 2\n",
    "import numpy as np \n",
    "import matplotlib.pyplot as plt\n",
    "import scipy.sparse as sp\n",
    "from pypde.solver.matrix import *\n",
    "from pypde.solver.solverplan import *\n",
    "\n",
    "A = np.array([[1,1,2],[0,3,6],[0,0,9]])\n",
    "b = np.array([[0,1,2],[3,4,6],[7,8,9]])\n",
    "x = np.array([1,2,3])\n",
    "b = np.vstack((b,x))\n",
    "b.shape\n",
    "#A@b\n",
    "#b@A.T"
   ]
  },
  {
   "cell_type": "code",
   "execution_count": 2,
   "id": "d7ad1f97",
   "metadata": {},
   "outputs": [
    {
     "data": {
      "text/plain": [
       "array([[ 5, 15, 18],\n",
       "       [19, 48, 54],\n",
       "       [33, 78, 81],\n",
       "       [ 9, 24, 27]])"
      ]
     },
     "execution_count": 2,
     "metadata": {},
     "output_type": "execute_result"
    }
   ],
   "source": [
    "M = MatrixBase(A,axis=1,sparse=False)\n",
    "M.T\n",
    "M.dot(b)"
   ]
  },
  {
   "cell_type": "code",
   "execution_count": 3,
   "id": "a4bfa6fd",
   "metadata": {},
   "outputs": [],
   "source": [
    "lhs = SolverPlanLHS(A,ndim=2,axis=1,method=\"numpy\")\n"
   ]
  },
  {
   "cell_type": "code",
   "execution_count": 4,
   "id": "f8ddb4c6",
   "metadata": {},
   "outputs": [
    {
     "data": {
      "text/plain": [
       "(4, 3)"
      ]
     },
     "execution_count": 4,
     "metadata": {},
     "output_type": "execute_result"
    }
   ],
   "source": [
    "lhs.A\n",
    "lhs.solve(b)\n",
    "\n",
    "b.shape"
   ]
  },
  {
   "cell_type": "markdown",
   "id": "4decb6bf",
   "metadata": {},
   "source": [
    "## twodma"
   ]
  },
  {
   "cell_type": "code",
   "execution_count": 7,
   "id": "de2e3d79",
   "metadata": {},
   "outputs": [
    {
     "name": "stdout",
     "output_type": "stream",
     "text": [
      "[[  0.05385225  -3.7675829    2.78638673   4.36464208  -1.97119937]\n",
      " [  4.81327974  -7.14021712  16.67012427   6.90484528 -17.65999698]\n",
      " [  0.51388985   1.08993697   0.23742693  -0.26131564  -0.16470595]\n",
      " [  0.03456056   0.32778913  -1.16497837   0.4236684    2.01130963]]\n"
     ]
    }
   ],
   "source": [
    "N = 5\n",
    "l = np.random.rand(N-2)\n",
    "d = np.random.rand(N)\n",
    "u = np.random.rand(N-2)\n",
    "u1 = np.random.rand(N-4)\n",
    "A = np.diag(d,0) + np.diag(u,2) + np.diag(u1,4) + np.diag(l,-2)\n",
    "b = np.random.rand(4,N)\n",
    "\n",
    "lhs = SolverPlanLHS(A,ndim=2,axis=1,method=\"fdma\")\n",
    "x = b.copy(order=\"F\")\n",
    "x = lhs.solve(x)\n",
    "print(x)"
   ]
  },
  {
   "cell_type": "code",
   "execution_count": 8,
   "id": "001eafa3",
   "metadata": {},
   "outputs": [
    {
     "name": "stdout",
     "output_type": "stream",
     "text": [
      "[[  0.05385225  -3.7675829    2.78638673   4.36464208  -1.97119937]\n",
      " [  4.81327974  -7.14021712  16.67012427   6.90484528 -17.65999698]\n",
      " [  0.51388985   1.08993697   0.23742693  -0.26131564  -0.16470595]\n",
      " [  0.03456056   0.32778913  -1.16497837   0.4236684    2.01130963]]\n"
     ]
    }
   ],
   "source": [
    "\n",
    "x = np.linalg.solve(A,b.T).T\n",
    "print(x)"
   ]
  },
  {
   "cell_type": "code",
   "execution_count": null,
   "id": "19d33139",
   "metadata": {},
   "outputs": [],
   "source": []
  },
  {
   "cell_type": "code",
   "execution_count": null,
   "id": "6f8f0cf6",
   "metadata": {},
   "outputs": [],
   "source": []
  },
  {
   "cell_type": "code",
   "execution_count": null,
   "id": "638abbe2",
   "metadata": {},
   "outputs": [],
   "source": []
  },
  {
   "cell_type": "code",
   "execution_count": null,
   "id": "3a6b3e9b",
   "metadata": {},
   "outputs": [],
   "source": []
  }
 ],
 "metadata": {
  "kernelspec": {
   "display_name": "Python 3",
   "language": "python",
   "name": "python3"
  },
  "language_info": {
   "codemirror_mode": {
    "name": "ipython",
    "version": 3
   },
   "file_extension": ".py",
   "mimetype": "text/x-python",
   "name": "python",
   "nbconvert_exporter": "python",
   "pygments_lexer": "ipython3",
   "version": "3.9.1"
  }
 },
 "nbformat": 4,
 "nbformat_minor": 5
}
