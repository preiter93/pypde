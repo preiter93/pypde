{
 "cells": [
  {
   "cell_type": "code",
   "execution_count": 14,
   "id": "09a64db0",
   "metadata": {},
   "outputs": [
    {
     "name": "stdout",
     "output_type": "stream",
     "text": [
      "The autoreload extension is already loaded. To reload it, use:\n",
      "  %reload_ext autoreload\n"
     ]
    },
    {
     "data": {
      "text/plain": [
       "(4, 3)"
      ]
     },
     "execution_count": 14,
     "metadata": {},
     "output_type": "execute_result"
    }
   ],
   "source": [
    "%load_ext autoreload\n",
    "%autoreload 2\n",
    "import numpy as np \n",
    "import matplotlib.pyplot as plt\n",
    "import scipy.sparse as sp\n",
    "from pypde.solver.matrix import *\n",
    "from pypde.solver.plans import *\n",
    "from pypde.solver.solverplan import *\n",
    "\n",
    "A = np.array([[1,1,2],[0,3,6],[0,0,9]])\n",
    "b = np.array([[0,1,2],[3,4,6],[7,8,9]])\n",
    "x = np.array([1,2,3])\n",
    "b = np.vstack((b,x))\n",
    "b.shape\n",
    "#A@b\n",
    "#b@A.T"
   ]
  },
  {
   "cell_type": "code",
   "execution_count": 45,
   "id": "a4bfa6fd",
   "metadata": {},
   "outputs": [],
   "source": [
    "lhs = PlanLHS(A,ndim=2,axis=1,method=\"numpy\")\n"
   ]
  },
  {
   "cell_type": "code",
   "execution_count": null,
   "id": "4dfc80b1",
   "metadata": {},
   "outputs": [],
   "source": []
  },
  {
   "cell_type": "code",
   "execution_count": 16,
   "id": "f8ddb4c6",
   "metadata": {},
   "outputs": [
    {
     "data": {
      "text/plain": [
       "(4, 3)"
      ]
     },
     "execution_count": 16,
     "metadata": {},
     "output_type": "execute_result"
    }
   ],
   "source": [
    "lhs.A\n",
    "lhs.solve(b)\n",
    "\n",
    "b.shape"
   ]
  },
  {
   "cell_type": "code",
   "execution_count": 17,
   "id": "86e6e4ae",
   "metadata": {},
   "outputs": [
    {
     "data": {
      "text/plain": [
       "<3x3 sparse matrix of type '<class 'numpy.int64'>'\n",
       "\twith 6 stored elements in Compressed Sparse Row format>"
      ]
     },
     "execution_count": 17,
     "metadata": {},
     "output_type": "execute_result"
    }
   ],
   "source": [
    "rhs = PlanRHS(A,ndim=2,axis=1)\n",
    "rhs.A.value"
   ]
  },
  {
   "cell_type": "code",
   "execution_count": 18,
   "id": "ebd6c253",
   "metadata": {},
   "outputs": [
    {
     "data": {
      "text/plain": [
       "array([[ 5, 15, 18],\n",
       "       [19, 48, 54],\n",
       "       [33, 78, 81],\n",
       "       [ 9, 24, 27]])"
      ]
     },
     "execution_count": 18,
     "metadata": {},
     "output_type": "execute_result"
    }
   ],
   "source": [
    "rhs.solve(b)"
   ]
  },
  {
   "cell_type": "code",
   "execution_count": 19,
   "id": "abdf2eda",
   "metadata": {},
   "outputs": [
    {
     "data": {
      "text/plain": [
       "array([[ 5, 19, 33,  9],\n",
       "       [15, 48, 78, 24],\n",
       "       [18, 54, 81, 27]])"
      ]
     },
     "execution_count": 19,
     "metadata": {},
     "output_type": "execute_result"
    }
   ],
   "source": [
    "A@b.T"
   ]
  },
  {
   "cell_type": "markdown",
   "id": "d8289fd5",
   "metadata": {},
   "source": [
    "## Solverplan"
   ]
  },
  {
   "cell_type": "code",
   "execution_count": 56,
   "id": "71f0a68a",
   "metadata": {},
   "outputs": [
    {
     "name": "stdout",
     "output_type": "stream",
     "text": [
      "The autoreload extension is already loaded. To reload it, use:\n",
      "  %reload_ext autoreload\n",
      "(2, 3)\n"
     ]
    }
   ],
   "source": [
    "%load_ext autoreload\n",
    "%autoreload 2\n",
    "import numpy as np \n",
    "import matplotlib.pyplot as plt\n",
    "import scipy.sparse as sp\n",
    "from pypde.solver.matrix import *\n",
    "from pypde.solver.plans import *\n",
    "from pypde.solver.solverplan import *\n",
    "\n",
    "A = np.array([[1,1,2],[0,3,6],[0,0,9]])\n",
    "b = np.array([[0,1,2],[3,4,6]])\n",
    "#x = np.array([1,2,3])\n",
    "#b = np.vstack((b,x))\n",
    "print(b.shape)\n",
    "\n",
    "solver = SolverPlan()\n",
    "\n",
    "rhs = PlanRHS(A,ndim=2,axis=1)\n",
    "lhs = PlanLHS(A,ndim=2,axis=1,method=\"numpy\")\n",
    "\n",
    "solver.add_lhs(lhs)\n",
    "solver.add_rhs(rhs)"
   ]
  },
  {
   "cell_type": "code",
   "execution_count": 57,
   "id": "686b5667",
   "metadata": {},
   "outputs": [
    {
     "name": "stdout",
     "output_type": "stream",
     "text": [
      "Plans RHS:\n",
      "1 ) Apply method 'multiply' along axis 1 \n",
      "\n",
      "Plans LHS:\n",
      "1 ) Apply method 'numpy' along axis 1 \n",
      "\n"
     ]
    }
   ],
   "source": [
    "solver.show_plan()"
   ]
  },
  {
   "cell_type": "code",
   "execution_count": 54,
   "id": "f54a992e",
   "metadata": {},
   "outputs": [
    {
     "data": {
      "text/plain": [
       "array([[0., 1., 2.],\n",
       "       [3., 4., 6.]])"
      ]
     },
     "execution_count": 54,
     "metadata": {},
     "output_type": "execute_result"
    }
   ],
   "source": [
    "rhs = solver.solve_rhs(b)\n",
    "solver.solve_lhs(rhs)"
   ]
  },
  {
   "cell_type": "code",
   "execution_count": 48,
   "id": "20ccc153",
   "metadata": {},
   "outputs": [
    {
     "data": {
      "text/plain": [
       "array([[0., 1., 2.],\n",
       "       [3., 4., 6.]])"
      ]
     },
     "execution_count": 48,
     "metadata": {},
     "output_type": "execute_result"
    }
   ],
   "source": [
    "rhs = b@A.T\n",
    "np.linalg.solve(A,rhs.T).T"
   ]
  },
  {
   "cell_type": "code",
   "execution_count": null,
   "id": "156b30f5",
   "metadata": {},
   "outputs": [],
   "source": []
  }
 ],
 "metadata": {
  "kernelspec": {
   "display_name": "Python 3",
   "language": "python",
   "name": "python3"
  },
  "language_info": {
   "codemirror_mode": {
    "name": "ipython",
    "version": 3
   },
   "file_extension": ".py",
   "mimetype": "text/x-python",
   "name": "python",
   "nbconvert_exporter": "python",
   "pygments_lexer": "ipython3",
   "version": "3.9.1"
  }
 },
 "nbformat": 4,
 "nbformat_minor": 5
}
