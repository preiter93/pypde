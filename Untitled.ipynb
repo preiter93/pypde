{
 "cells": [
  {
   "cell_type": "code",
   "execution_count": 7,
   "metadata": {},
   "outputs": [
    {
     "name": "stdout",
     "output_type": "stream",
     "text": [
      "Check\n",
      "A\n",
      "Check\n",
      "Key CH^1,CD^1 has been derived from CH^1,CH^1.\n",
      "[[  0.   0.   0.   0.]\n",
      " [  0.  -2.   0.  -2.]\n",
      " [ -8.   0.  -8.   0.]\n",
      " [  0. -24.   0. -18.]\n",
      " [-16.   0. -48.   0.]\n",
      " [  0. -40.   0. -80.]]\n",
      "[[  0.   0.   0.   0.]\n",
      " [  0.  -2.   0.  -2.]\n",
      " [ -8.   0.  -8.   0.]\n",
      " [  0. -24.   0. -18.]\n",
      " [-16.   0. -48.   0.]\n",
      " [  0. -40.   0. -80.]]\n"
     ]
    }
   ],
   "source": [
    "import numpy as np \n",
    "from pypde.bases.dmsuite import chebdif\n",
    "import matplotlib.pyplot as plt \n",
    "import numpy as np \n",
    "import matplotlib.pyplot as plt\n",
    "from numpy.linalg import solve\n",
    "from pypde.bases.dmsuite import *\n",
    "\n",
    "from scipy.fftpack import dctn\n",
    "from pypde.bases.chebyshev import *\n",
    "from pypde.bases.inner import *\n",
    "from pypde.bases.utils import to_sparse\n",
    "from scipy.sparse import diags\n",
    "from scipy.sparse.linalg import inv\n",
    "from scipy.sparse import csr_matrix, csc_matrix \n",
    "import sys\n",
    "\n",
    "N = 6\n",
    "x,D = chebdif(N,2)\n",
    "#print(x)\n",
    "\n",
    "CD = ChebDirichlet(N)\n",
    "CH = Chebyshev(N)\n",
    "\n",
    "#D2 = CD.stiff.toarray()\n",
    "#print(D2)\n",
    "D2 = CH.inner(CD,(1,1))\n",
    "print(to_sparse(D2).toarray())\n",
    "\n",
    "D2 = CH.inner(CD,(1,1),lookup=False)\n",
    "print(to_sparse(D2).toarray())\n",
    "\n",
    "\n",
    "#D2 = CD.inner(CH,(1,0),lookup=False)\n",
    "#print(to_sparse(D2).toarray())\n",
    "\n",
    "#D2 = CH.inner(CD,(0,1))\n",
    "#print(to_sparse(D2).toarray())\n",
    "\n",
    "#D2 = CD.inner(CD,(0,0))\n",
    "#print(to_sparse(D2).toarray())\n",
    "\n",
    "#D2 = CD.stencil()@CH.inner(CH,(0,2))\n",
    "#print(to_sparse(D2).toarray())\n",
    "\n",
    "#D2 = CH.inner(CH,(0,1))@CD.stencil(inv=True)\n",
    "#print(to_sparse(D2).toarray())"
   ]
  },
  {
   "cell_type": "code",
   "execution_count": 54,
   "metadata": {},
   "outputs": [
    {
     "name": "stdout",
     "output_type": "stream",
     "text": [
      "Check\n",
      "Key CD^0,CD^0 exists. Use lookup value.\n",
      "Check\n",
      "Key CD^0,CD^2 exists. Use lookup value.\n",
      "[[ 1.5  0.  -0.5 ...  0.   0.   0. ]\n",
      " [ 0.   1.   0.  ...  0.   0.   0. ]\n",
      " [-0.5  0.   1.  ...  0.   0.   0. ]\n",
      " ...\n",
      " [ 0.   0.   0.  ...  1.   0.  -0.5]\n",
      " [ 0.   0.   0.  ...  0.   1.   0. ]\n",
      " [ 0.   0.   0.  ... -0.5  0.   1.5]]\n",
      "[[-2.50000000e-01  0.00000000e+00  4.16666667e-02 ...  0.00000000e+00\n",
      "   5.40143462e-06  0.00000000e+00]\n",
      " [ 0.00000000e+00 -8.33333333e-02  0.00000000e+00 ...  5.69605833e-06\n",
      "   0.00000000e+00  5.12678540e-06]\n",
      " [ 0.00000000e+00  0.00000000e+00 -4.16666667e-02 ...  0.00000000e+00\n",
      "   5.40143462e-06  0.00000000e+00]\n",
      " ...\n",
      " [ 0.00000000e+00  0.00000000e+00  0.00000000e+00 ... -1.56641604e-04\n",
      "   0.00000000e+00  5.12678540e-06]\n",
      " [ 0.00000000e+00  0.00000000e+00  0.00000000e+00 ...  0.00000000e+00\n",
      "  -1.51240169e-04  0.00000000e+00]\n",
      " [ 0.00000000e+00  0.00000000e+00  0.00000000e+00 ...  0.00000000e+00\n",
      "   0.00000000e+00 -1.46113384e-04]]\n",
      "[[-3.95833333e-01  0.00000000e+00  1.62500000e-01 ...  0.00000000e+00\n",
      "   2.39518161e-06  0.00000000e+00]\n",
      " [ 0.00000000e+00 -9.16666667e-02  0.00000000e+00 ... -4.37526446e-08\n",
      "   0.00000000e+00  4.84214894e-06]\n",
      " [ 2.08333333e-02  0.00000000e+00 -4.58333333e-02 ...  0.00000000e+00\n",
      "   2.39518161e-06  0.00000000e+00]\n",
      " ...\n",
      " [ 0.00000000e+00  0.00000000e+00  0.00000000e+00 ... -1.59204997e-04\n",
      "   0.00000000e+00  8.60109801e-05]\n",
      " [ 0.00000000e+00  0.00000000e+00  0.00000000e+00 ...  0.00000000e+00\n",
      "  -1.51240169e-04  0.00000000e+00]\n",
      " [ 0.00000000e+00  0.00000000e+00  0.00000000e+00 ...  7.30566920e-05\n",
      "   0.00000000e+00 -2.19170076e-04]]\n"
     ]
    },
    {
     "data": {
      "text/plain": [
       "<matplotlib.image.AxesImage at 0x7f5a15e0c4e0>"
      ]
     },
     "execution_count": 54,
     "metadata": {},
     "output_type": "execute_result"
    },
    {
     "data": {
      "image/png": "[encoded data removed]",
      "text/plain": [
       "<Figure size 432x288 with 1 Axes>"
      ]
     },
     "metadata": {
      "needs_background": "light"
     },
     "output_type": "display_data"
    }
   ],
   "source": [
    "def solveUpperTriangularMatrix(R, b):\n",
    "    # Convert R and b to Fraction\n",
    "    from fractions import Fraction\n",
    "\n",
    "    for x, line in enumerate(R):\n",
    "        for y, el in enumerate(line):\n",
    "            R[x][y] = Fraction(el)\n",
    "    for x, el in enumerate(b):\n",
    "        b[x] = Fraction(el)\n",
    "\n",
    "    # The solution will be here\n",
    "    for step in range(len(b) - 1, 0 - 1, -1):\n",
    "        if R[step][step] == 0:\n",
    "            if b[step] != 0:\n",
    "                return \"No solution\"\n",
    "            else:\n",
    "                return \"Infinity solutions\"\n",
    "        else:\n",
    "            b[step] = b[step] / R[step][step]\n",
    "\n",
    "        for row in range(step - 1, 0 - 1, -1):\n",
    "            b[row] -= R[row][step] * b[step]\n",
    "            \n",
    "def f(x):   \n",
    "    y = np.zeros(x.size)\n",
    "    y[x.size//2] = 1\n",
    "    return y\n",
    "\n",
    "def f(x):\n",
    "    y = np.cos(1*np.pi/2*x)\n",
    "    return y\n",
    "\n",
    "N = 60\n",
    "CD = ChebDirichlet(N,bc=(0.,0))\n",
    "\n",
    "I = CD.mass.toarray()\n",
    "D = CD.stiff.toarray()\n",
    "DI = np.linalg.pinv(D)\n",
    "print(I)\n",
    "print(to_sparse(DI).toarray())\n",
    "print(to_sparse(DI@I).toarray())\n",
    "plt.spy(to_sparse(DI@I).toarray())"
   ]
  },
  {
   "cell_type": "code",
   "execution_count": 55,
   "metadata": {},
   "outputs": [
    {
     "name": "stdout",
     "output_type": "stream",
     "text": [
      "U:\n",
      "array([[-2.5000e+00,  0.0000e+00, -4.5000e+00, ...,  0.0000e+00,\n",
      "        -4.0000e+00,  0.0000e+00],\n",
      "       [ 0.0000e+00, -1.1000e+01,  0.0000e+00, ..., -8.0000e+00,\n",
      "         0.0000e+00, -8.0000e+00],\n",
      "       [-5.0000e-01,  0.0000e+00, -2.3000e+01, ...,  0.0000e+00,\n",
      "        -1.2000e+01,  0.0000e+00],\n",
      "       ...,\n",
      "       [ 0.0000e+00,  0.0000e+00,  0.0000e+00, ..., -6.3830e+03,\n",
      "         0.0000e+00, -2.2450e+02],\n",
      "       [ 0.0000e+00,  0.0000e+00,  0.0000e+00, ...,  0.0000e+00,\n",
      "        -6.6110e+03,  0.0000e+00],\n",
      "       [ 0.0000e+00,  0.0000e+00,  0.0000e+00, ..., -5.0000e-01,\n",
      "         0.0000e+00, -6.8425e+03]])\n",
      "P:\n",
      "array([[1., 0., 0., ..., 0., 0., 0.],\n",
      "       [0., 1., 0., ..., 0., 0., 0.],\n",
      "       [0., 0., 1., ..., 0., 0., 0.],\n",
      "       ...,\n",
      "       [0., 0., 0., ..., 1., 0., 0.],\n",
      "       [0., 0., 0., ..., 0., 1., 0.],\n",
      "       [0., 0., 0., ..., 0., 0., 1.]])\n",
      "L:\n",
      "array([[ 1.00000000e+00,  0.00000000e+00,  0.00000000e+00, ...,\n",
      "         0.00000000e+00,  0.00000000e+00,  0.00000000e+00],\n",
      "       [-0.00000000e+00,  1.00000000e+00,  0.00000000e+00, ...,\n",
      "         0.00000000e+00,  0.00000000e+00,  0.00000000e+00],\n",
      "       [ 2.00000000e-01, -0.00000000e+00,  1.00000000e+00, ...,\n",
      "         0.00000000e+00,  0.00000000e+00,  0.00000000e+00],\n",
      "       ...,\n",
      "       [-0.00000000e+00, -0.00000000e+00, -0.00000000e+00, ...,\n",
      "         1.00000000e+00,  0.00000000e+00,  0.00000000e+00],\n",
      "       [-0.00000000e+00, -0.00000000e+00, -0.00000000e+00, ...,\n",
      "        -0.00000000e+00,  1.00000000e+00,  0.00000000e+00],\n",
      "       [-0.00000000e+00, -0.00000000e+00, -0.00000000e+00, ...,\n",
      "         7.83332959e-05, -0.00000000e+00,  1.00000000e+00]])\n",
      "U:\n",
      "array([[-2.50000000e+00,  0.00000000e+00, -4.50000000e+00, ...,\n",
      "         0.00000000e+00, -4.00000000e+00,  0.00000000e+00],\n",
      "       [ 0.00000000e+00, -1.10000000e+01,  0.00000000e+00, ...,\n",
      "        -8.00000000e+00,  0.00000000e+00, -8.00000000e+00],\n",
      "       [ 0.00000000e+00,  0.00000000e+00, -2.21000000e+01, ...,\n",
      "         0.00000000e+00, -1.12000000e+01,  0.00000000e+00],\n",
      "       ...,\n",
      "       [ 0.00000000e+00,  0.00000000e+00,  0.00000000e+00, ...,\n",
      "        -6.38298177e+03,  0.00000000e+00, -2.24481817e+02],\n",
      "       [ 0.00000000e+00,  0.00000000e+00,  0.00000000e+00, ...,\n",
      "         0.00000000e+00, -6.61098210e+03,  0.00000000e+00],\n",
      "       [ 0.00000000e+00,  0.00000000e+00,  0.00000000e+00, ...,\n",
      "         0.00000000e+00,  0.00000000e+00, -6.84248242e+03]])\n"
     ]
    },
    {
     "data": {
      "image/png": "[encoded data removed]",
      "text/plain": [
       "<Figure size 432x288 with 1 Axes>"
      ]
     },
     "metadata": {
      "needs_background": "light"
     },
     "output_type": "display_data"
    },
    {
     "data": {
      "image/png": "[encoded data removed]",
      "text/plain": [
       "<Figure size 432x288 with 1 Axes>"
      ]
     },
     "metadata": {
      "needs_background": "light"
     },
     "output_type": "display_data"
    }
   ],
   "source": [
    "import pprint\n",
    "import scipy\n",
    "import scipy.linalg\n",
    "\n",
    "A = D+I\n",
    "P, L, U = scipy.linalg.lu(A)\n",
    "\n",
    "print (\"U:\")\n",
    "pprint.pprint(A)\n",
    "\n",
    "print (\"P:\")\n",
    "pprint.pprint(P)\n",
    "\n",
    "print (\"L:\")\n",
    "pprint.pprint(L)\n",
    "\n",
    "print (\"U:\")\n",
    "pprint.pprint(U)\n",
    "\n",
    "plt.spy(U)\n",
    "plt.show()\n",
    "\n",
    "plt.spy(L)\n",
    "plt.show()"
   ]
  },
  {
   "cell_type": "code",
   "execution_count": 24,
   "metadata": {},
   "outputs": [
    {
     "data": {
      "image/png": "[encoded data removed]",
      "text/plain": [
       "<Figure size 432x288 with 1 Axes>"
      ]
     },
     "metadata": {
      "needs_background": "light"
     },
     "output_type": "display_data"
    },
    {
     "name": "stdout",
     "output_type": "stream",
     "text": [
      "CPU times: user 203 ms, sys: 3.39 ms, total: 207 ms\n",
      "Wall time: 203 ms\n"
     ]
    },
    {
     "data": {
      "text/plain": [
       "1"
      ]
     },
     "execution_count": 24,
     "metadata": {},
     "output_type": "execute_result"
    }
   ],
   "source": [
    "%%time\n",
    "fhat = CD.forward_fft(rhs)[sl]\n",
    "fhat = I@fhat\n",
    "uhat = solve(A,fhat)\n",
    "u = CD.backward_fft(uhat)\n",
    "plt.plot(x,u)\n",
    "plt.plot(x,-rhs* (1*np.pi/2)**-2+0.5*(1-x),\"r--\" )\n",
    "plt.show()\n",
    "rhs.ndim"
   ]
  },
  {
   "cell_type": "code",
   "execution_count": 8,
   "metadata": {},
   "outputs": [
    {
     "data": {
      "image/png": "[encoded data removed]",
      "text/plain": [
       "<Figure size 432x288 with 1 Axes>"
      ]
     },
     "metadata": {
      "needs_background": "light"
     },
     "output_type": "display_data"
    },
    {
     "name": "stdout",
     "output_type": "stream",
     "text": [
      "CPU times: user 352 ms, sys: 158 ms, total: 510 ms\n",
      "Wall time: 256 ms\n"
     ]
    }
   ],
   "source": [
    "%%time\n",
    "from scipy.linalg import solve_triangular\n",
    "\n",
    "fhat = CD.forward_fft(rhs)[sl]\n",
    "fhat = I@fhat\n",
    "uhat = solve_triangular(A, fhat, lower=False)\n",
    "u = CD.backward_fft(uhat)\n",
    "plt.plot(x,u)\n",
    "plt.plot(x,-rhs* (1*np.pi/2)**-2+0.5*(1-x),\"r--\" )\n",
    "plt.show()"
   ]
  },
  {
   "cell_type": "code",
   "execution_count": 5,
   "metadata": {},
   "outputs": [
    {
     "data": {
      "image/png": "[encoded data removed]",
      "text/plain": [
       "<Figure size 432x288 with 1 Axes>"
      ]
     },
     "metadata": {
      "needs_background": "light"
     },
     "output_type": "display_data"
    }
   ],
   "source": [
    "plt.spy(A)\n",
    "plt.show()"
   ]
  },
  {
   "cell_type": "code",
   "execution_count": null,
   "metadata": {},
   "outputs": [],
   "source": []
  }
 ],
 "metadata": {
  "kernelspec": {
   "display_name": "Python 3",
   "language": "python",
   "name": "python3"
  },
  "language_info": {
   "codemirror_mode": {
    "name": "ipython",
    "version": 3
   },
   "file_extension": ".py",
   "mimetype": "text/x-python",
   "name": "python",
   "nbconvert_exporter": "python",
   "pygments_lexer": "ipython3",
   "version": "3.6.9"
  }
 },
 "nbformat": 4,
 "nbformat_minor": 4
}
