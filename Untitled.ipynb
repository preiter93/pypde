{
 "cells": [
  {
   "cell_type": "code",
   "execution_count": 4,
   "metadata": {},
   "outputs": [
    {
     "name": "stdout",
     "output_type": "stream",
     "text": [
      "[[-3.16666667  4.         -1.33333333  0.5       ]\n",
      " [-1.          0.33333333  1.         -0.33333333]\n",
      " [ 0.33333333 -1.         -0.33333333  1.        ]\n",
      " [-0.5         1.33333333 -4.          3.16666667]]\n"
     ]
    }
   ],
   "source": [
    "import numpy as np \n",
    "from pypde.bases.dmsuite import chebdif\n",
    "\n",
    "N = 4\n",
    "x,D = chebdif(N,1)\n",
    "print(D)"
   ]
  },
  {
   "cell_type": "code",
   "execution_count": null,
   "metadata": {},
   "outputs": [],
   "source": []
  }
 ],
 "metadata": {
  "kernelspec": {
   "display_name": "Python 3",
   "language": "python",
   "name": "python3"
  },
  "language_info": {
   "codemirror_mode": {
    "name": "ipython",
    "version": 3
   },
   "file_extension": ".py",
   "mimetype": "text/x-python",
   "name": "python",
   "nbconvert_exporter": "python",
   "pygments_lexer": "ipython3",
   "version": "3.6.9"
  }
 },
 "nbformat": 4,
 "nbformat_minor": 4
}
