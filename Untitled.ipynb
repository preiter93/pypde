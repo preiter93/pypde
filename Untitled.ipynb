{
 "cells": [
  {
   "cell_type": "code",
   "execution_count": 2,
   "metadata": {},
   "outputs": [
    {
     "name": "stdout",
     "output_type": "stream",
     "text": [
      "Check\n",
      "A\n",
      "Check\n",
      "Key CH^1,CD^1 has been derived from CH^1,CH^1.\n",
      "[[  0.   0.   0.   0.]\n",
      " [  0.  -2.   0.  -2.]\n",
      " [ -8.   0.  -8.   0.]\n",
      " [  0. -24.   0. -18.]\n",
      " [-16.   0. -48.   0.]\n",
      " [  0. -40.   0. -80.]]\n",
      "[[  0.   0.   0.   0.]\n",
      " [  0.  -2.   0.  -2.]\n",
      " [ -8.   0.  -8.   0.]\n",
      " [  0. -24.   0. -18.]\n",
      " [-16.   0. -48.   0.]\n",
      " [  0. -40.   0. -80.]]\n"
     ]
    }
   ],
   "source": [
    "import numpy as np \n",
    "from pypde.bases.dmsuite import chebdif\n",
    "import matplotlib.pyplot as plt \n",
    "import numpy as np \n",
    "import matplotlib.pyplot as plt\n",
    "from numpy.linalg import solve\n",
    "from pypde.bases.dmsuite import *\n",
    "\n",
    "from scipy.fftpack import dctn\n",
    "from pypde.bases.chebyshev import *\n",
    "from pypde.bases.inner import *\n",
    "from pypde.bases.utils import to_sparse\n",
    "from scipy.sparse import diags\n",
    "from scipy.sparse.linalg import inv\n",
    "from scipy.sparse import csr_matrix, csc_matrix \n",
    "import sys\n",
    "\n",
    "N = 6\n",
    "x,D = chebdif(N,2)\n",
    "#print(x)\n",
    "\n",
    "CD = ChebDirichlet(N)\n",
    "CH = Chebyshev(N)\n",
    "\n",
    "#D2 = CD.stiff.toarray()\n",
    "#print(D2)\n",
    "D2 = CH.inner(CD,(1,1))\n",
    "print(to_sparse(D2).toarray())\n",
    "\n",
    "D2 = CH.inner(CD,(1,1),lookup=False)\n",
    "print(to_sparse(D2).toarray())\n",
    "\n",
    "\n",
    "#D2 = CD.inner(CH,(1,0),lookup=False)\n",
    "#print(to_sparse(D2).toarray())\n",
    "\n",
    "#D2 = CH.inner(CD,(0,1))\n",
    "#print(to_sparse(D2).toarray())\n",
    "\n",
    "#D2 = CD.inner(CD,(0,0))\n",
    "#print(to_sparse(D2).toarray())\n",
    "\n",
    "#D2 = CD.stencil()@CH.inner(CH,(0,2))\n",
    "#print(to_sparse(D2).toarray())\n",
    "\n",
    "#D2 = CH.inner(CH,(0,1))@CD.stencil(inv=True)\n",
    "#print(to_sparse(D2).toarray())"
   ]
  },
  {
   "cell_type": "code",
   "execution_count": 4,
   "metadata": {},
   "outputs": [
    {
     "name": "stdout",
     "output_type": "stream",
     "text": [
      "Key CD^0,CD^2 exists. Use lookup value.\n",
      "Key CD^0,CD^0 exists. Use lookup value.\n"
     ]
    }
   ],
   "source": [
    "def solveUpperTriangularMatrix(R, b):\n",
    "    # Convert R and b to Fraction\n",
    "    from fractions import Fraction\n",
    "\n",
    "    for x, line in enumerate(R):\n",
    "        for y, el in enumerate(line):\n",
    "            R[x][y] = Fraction(el)\n",
    "    for x, el in enumerate(b):\n",
    "        b[x] = Fraction(el)\n",
    "\n",
    "    # The solution will be here\n",
    "    for step in range(len(b) - 1, 0 - 1, -1):\n",
    "        if R[step][step] == 0:\n",
    "            if b[step] != 0:\n",
    "                return \"No solution\"\n",
    "            else:\n",
    "                return \"Infinity solutions\"\n",
    "        else:\n",
    "            b[step] = b[step] / R[step][step]\n",
    "\n",
    "        for row in range(step - 1, 0 - 1, -1):\n",
    "            b[row] -= R[row][step] * b[step]\n",
    "            \n",
    "def f(x):   \n",
    "    y = np.zeros(x.size)\n",
    "    y[x.size//2] = 1\n",
    "    return y\n",
    "\n",
    "def f(x):\n",
    "    y = np.cos(1*np.pi/2*x)\n",
    "    return y\n",
    "\n",
    "N = 1000\n",
    "CD = ChebDirichlet(N,bc=(1.,0))\n",
    "CH = Chebyshev(N)\n",
    "x = CD.x\n",
    "sl = slice(0,N-2)\n",
    "A = CD._stiff().toarray()\n",
    "A = A[sl,sl]\n",
    "I = CD._mass().toarray()\n",
    "rhs = -f(x)"
   ]
  },
  {
   "cell_type": "code",
   "execution_count": 7,
   "metadata": {},
   "outputs": [
    {
     "name": "stdout",
     "output_type": "stream",
     "text": [
      "Key CD^0,CD^0 exists. Use lookup value.\n"
     ]
    },
    {
     "data": {
      "image/png": "[encoded data removed]",
      "text/plain": [
       "<Figure size 432x288 with 1 Axes>"
      ]
     },
     "metadata": {
      "needs_background": "light"
     },
     "output_type": "display_data"
    },
    {
     "name": "stdout",
     "output_type": "stream",
     "text": [
      "CPU times: user 793 ms, sys: 174 ms, total: 967 ms\n",
      "Wall time: 642 ms\n"
     ]
    }
   ],
   "source": [
    "%%time\n",
    "fhat = CD.forward_fft(rhs)[sl]\n",
    "fhat = I@fhat\n",
    "uhat = solve(A,fhat)\n",
    "u = CD.backward_fft(uhat)\n",
    "plt.plot(x,u)\n",
    "plt.plot(x,-rhs* (1*np.pi/2)**-2+0.5*(1-x),\"r--\" )\n",
    "plt.show()"
   ]
  },
  {
   "cell_type": "code",
   "execution_count": 8,
   "metadata": {},
   "outputs": [
    {
     "data": {
      "image/png": "[encoded data removed]",
      "text/plain": [
       "<Figure size 432x288 with 1 Axes>"
      ]
     },
     "metadata": {
      "needs_background": "light"
     },
     "output_type": "display_data"
    },
    {
     "name": "stdout",
     "output_type": "stream",
     "text": [
      "CPU times: user 352 ms, sys: 158 ms, total: 510 ms\n",
      "Wall time: 256 ms\n"
     ]
    }
   ],
   "source": [
    "%%time\n",
    "from scipy.linalg import solve_triangular\n",
    "\n",
    "fhat = CD.forward_fft(rhs)[sl]\n",
    "fhat = I@fhat\n",
    "uhat = solve_triangular(A, fhat, lower=False)\n",
    "u = CD.backward_fft(uhat)\n",
    "plt.plot(x,u)\n",
    "plt.plot(x,-rhs* (1*np.pi/2)**-2+0.5*(1-x),\"r--\" )\n",
    "plt.show()"
   ]
  },
  {
   "cell_type": "code",
   "execution_count": 5,
   "metadata": {},
   "outputs": [
    {
     "data": {
      "image/png": "[encoded data removed]",
      "text/plain": [
       "<Figure size 432x288 with 1 Axes>"
      ]
     },
     "metadata": {
      "needs_background": "light"
     },
     "output_type": "display_data"
    }
   ],
   "source": [
    "plt.spy(A)\n",
    "plt.show()"
   ]
  },
  {
   "cell_type": "code",
   "execution_count": null,
   "metadata": {},
   "outputs": [],
   "source": []
  }
 ],
 "metadata": {
  "kernelspec": {
   "display_name": "Python 3",
   "language": "python",
   "name": "python3"
  },
  "language_info": {
   "codemirror_mode": {
    "name": "ipython",
    "version": 3
   },
   "file_extension": ".py",
   "mimetype": "text/x-python",
   "name": "python",
   "nbconvert_exporter": "python",
   "pygments_lexer": "ipython3",
   "version": "3.6.9"
  }
 },
 "nbformat": 4,
 "nbformat_minor": 4
}
