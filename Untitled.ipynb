{
 "cells": [
  {
   "cell_type": "code",
   "execution_count": 1,
   "metadata": {},
   "outputs": [
    {
     "name": "stdout",
     "output_type": "stream",
     "text": [
      "Key CH^0,CH^2 exists. Use lookup value.\n",
      "[[  0.   0.   4.   0.  32.   0. 108.   0.]\n",
      " [  0.   0.   0.  12.   0.  60.   0. 168.]\n",
      " [  0.   0.   0.   0.  24.   0.  96.   0.]\n",
      " [  0.   0.   0.   0.   0.  40.   0. 140.]\n",
      " [  0.   0.   0.   0.   0.   0.  60.   0.]\n",
      " [  0.   0.   0.   0.   0.   0.   0.  84.]\n",
      " [  0.   0.   0.   0.   0.   0.   0.   0.]\n",
      " [  0.   0.   0.   0.   0.   0.   0.   0.]]\n",
      "Key CH^0,CH^2 exists. Use lookup value.\n"
     ]
    },
    {
     "data": {
      "text/plain": [
       "array([[  0.,   0.,   4.,   0.,  32.,   0., 108.,   0.],\n",
       "       [  0.,   0.,   0.,  12.,   0.,  60.,   0., 168.],\n",
       "       [  0.,   0.,   0.,   0.,  24.,   0.,  96.,   0.],\n",
       "       [  0.,   0.,   0.,   0.,   0.,  40.,   0., 140.],\n",
       "       [  0.,   0.,   0.,   0.,   0.,   0.,  60.,   0.],\n",
       "       [  0.,   0.,   0.,   0.,   0.,   0.,   0.,  84.],\n",
       "       [  0.,   0.,   0.,   0.,   0.,   0.,   0.,   0.],\n",
       "       [  0.,   0.,   0.,   0.,   0.,   0.,   0.,   0.]])"
      ]
     },
     "execution_count": 1,
     "metadata": {},
     "output_type": "execute_result"
    }
   ],
   "source": [
    "import numpy as np \n",
    "from pypde.bases.dmsuite import chebdif\n",
    "import matplotlib.pyplot as plt \n",
    "import numpy as np \n",
    "import matplotlib.pyplot as plt\n",
    "from numpy.linalg import solve\n",
    "from pypde.bases.dmsuite import *\n",
    "\n",
    "from scipy.fftpack import dctn\n",
    "from pypde.bases.chebyshev import *\n",
    "from pypde.bases.inner import *\n",
    "from scipy.sparse import diags\n",
    "from scipy.sparse.linalg import inv\n",
    "from scipy.sparse import csr_matrix, csc_matrix \n",
    "import sys\n",
    "\n",
    "\n",
    "N = 8\n",
    "x,D = chebdif(N,2)\n",
    "#print(x)\n",
    "\n",
    "CD = Chebyshev(N)\n",
    "\n",
    "print(inner(CD,CD,w=\"GL\",D=(0,2)))\n",
    "\n",
    "CD._stiff().toarray()"
   ]
  },
  {
   "cell_type": "code",
   "execution_count": 4,
   "metadata": {},
   "outputs": [
    {
     "name": "stdout",
     "output_type": "stream",
     "text": [
      "Key CD^0,CD^2 exists. Use lookup value.\n",
      "Key CD^0,CD^0 exists. Use lookup value.\n",
      "Key CD^0,CD^0 exists. Use lookup value.\n"
     ]
    },
    {
     "data": {
      "image/png": "[encoded data removed]",
      "text/plain": [
       "<Figure size 432x288 with 1 Axes>"
      ]
     },
     "metadata": {
      "needs_background": "light"
     },
     "output_type": "display_data"
    }
   ],
   "source": [
    "def f(x):   \n",
    "    y = np.zeros(x.size)\n",
    "    y[x.size//2] = 1\n",
    "    return y\n",
    "\n",
    "def f(x):\n",
    "    y = np.cos(1*np.pi/2*x)\n",
    "    return y\n",
    "\n",
    "N = 100\n",
    "CD = ChebDirichlet(N,bc=(0.,1))\n",
    "x = CD.x\n",
    "\n",
    "sl = slice(0,N-2)\n",
    "\n",
    "A = CD._stiff().toarray()\n",
    "A = A[sl,sl]\n",
    "\n",
    "I = CD._mass().toarray()\n",
    "#I = I[sl,sl]\n",
    "\n",
    "rhs = -f(x)\n",
    "uhat = np.zeros(N-2)\n",
    "fhat = CD.forward_fft(rhs)[sl]\n",
    "fhat = I@fhat\n",
    "uhat = solve(A,fhat)\n",
    "u = CD.backward_fft(uhat)\n",
    "plt.plot(x,u)\n",
    "plt.plot(x,-rhs* (1*np.pi/2)**-2+0.5*(1-x),\"r--\" )\n",
    "plt.show()"
   ]
  },
  {
   "cell_type": "code",
   "execution_count": 3,
   "metadata": {},
   "outputs": [
    {
     "data": {
      "image/png": "[encoded data removed]",
      "text/plain": [
       "<Figure size 432x288 with 1 Axes>"
      ]
     },
     "metadata": {
      "needs_background": "light"
     },
     "output_type": "display_data"
    }
   ],
   "source": [
    "plt.spy(A)\n",
    "plt.show()"
   ]
  },
  {
   "cell_type": "code",
   "execution_count": 11,
   "metadata": {},
   "outputs": [
    {
     "name": "stdout",
     "output_type": "stream",
     "text": [
      "[[ 2  3]\n",
      " [ 6  7]\n",
      " [10 11]]\n"
     ]
    }
   ],
   "source": [
    "a = np.array([1, 2, 3])\n",
    "b = np.array([[1, 2],\n",
    "       [4, 5],\n",
    "       [7, 8]])\n",
    "\n",
    "def prod(a, b):\n",
    "    '''Product across the first dimension of b.\n",
    "\n",
    "    Assumes a is 1-dimensional.\n",
    "    Raises AssertionError if a.ndim > b.ndim or\n",
    "     - the first dimensions are different\n",
    "    '''\n",
    "    assert a.shape[0] == b.shape[0], 'First dimension is different'\n",
    "    assert b.ndim >= a.ndim, 'a has more dimensions than b'\n",
    "\n",
    "    # add extra dimensions so that a will broadcast\n",
    "    extra_dims = b.ndim - a.ndim\n",
    "    newshape = a.shape + (1,)*extra_dims\n",
    "    new_a = a.reshape(newshape)\n",
    "\n",
    "    return new_a * b\n",
    "\n",
    "def add(a, b):\n",
    "    '''Summation across the first dimension of b.\n",
    "\n",
    "    Assumes a is 1-dimensional.\n",
    "    Raises AssertionError if a.ndim > b.ndim or\n",
    "     - the first dimensions are different\n",
    "    '''\n",
    "    assert a.shape[0] == b.shape[0], 'First dimension is different'\n",
    "    assert b.ndim >= a.ndim, 'a has more dimensions than b'\n",
    "\n",
    "    # add extra dimensions so that a will broadcast\n",
    "    extra_dims = b.ndim - a.ndim\n",
    "    newshape = a.shape + (1,)*extra_dims\n",
    "    new_a = a.reshape(newshape)\n",
    "\n",
    "    return new_a + b\n",
    "\n",
    "c = add(a,b)\n",
    "print(c)"
   ]
  },
  {
   "cell_type": "code",
   "execution_count": 17,
   "metadata": {},
   "outputs": [],
   "source": [
    "class A(object):\n",
    "    def foo(self, x):\n",
    "        print(f\"executing foo({self}, {x})\")\n",
    "\n",
    "    @classmethod\n",
    "    def class_foo(cls, x):\n",
    "        print(f\"executing class_foo({cls}, {x})\")\n",
    "\n",
    "    @property\n",
    "    @staticmethod\n",
    "    def static_foo():\n",
    "        return 2\n",
    "\n",
    "a = A()\n"
   ]
  },
  {
   "cell_type": "code",
   "execution_count": 18,
   "metadata": {},
   "outputs": [
    {
     "ename": "TypeError",
     "evalue": "'staticmethod' object is not callable",
     "output_type": "error",
     "traceback": [
      "\u001b[0;31m---------------------------------------------------------------------------\u001b[0m",
      "\u001b[0;31mTypeError\u001b[0m                                 Traceback (most recent call last)",
      "\u001b[0;32m<ipython-input-18-738b81b64b5a>\u001b[0m in \u001b[0;36m<module>\u001b[0;34m\u001b[0m\n\u001b[0;32m----> 1\u001b[0;31m \u001b[0ma\u001b[0m\u001b[0;34m.\u001b[0m\u001b[0mstatic_foo\u001b[0m\u001b[0;34m\u001b[0m\u001b[0;34m\u001b[0m\u001b[0m\n\u001b[0m",
      "\u001b[0;31mTypeError\u001b[0m: 'staticmethod' object is not callable"
     ]
    }
   ],
   "source": [
    "a.static_foo"
   ]
  },
  {
   "cell_type": "code",
   "execution_count": 29,
   "metadata": {},
   "outputs": [
    {
     "name": "stdout",
     "output_type": "stream",
     "text": [
      "[[0. 0. 0. 0. 0. 0.]\n",
      " [0. 0. 0. 0. 0. 0.]\n",
      " [0. 0. 0. 0. 0. 0.]\n",
      " [0. 0. 0. 0. 0. 0.]]\n",
      "[[ 1.  0.  0.  0.]\n",
      " [ 0.  1.  0.  0.]\n",
      " [-1.  0.  1.  0.]\n",
      " [ 0. -1.  0.  1.]\n",
      " [ 0.  0. -1.  0.]\n",
      " [ 0.  0.  0. -1.]]\n"
     ]
    },
    {
     "data": {
      "text/plain": [
       "<4x6 sparse matrix of type '<class 'numpy.float64'>'\n",
       "\twith 8 stored elements in Compressed Sparse Column format>"
      ]
     },
     "execution_count": 29,
     "metadata": {},
     "output_type": "execute_result"
    }
   ],
   "source": [
    "from scipy.sparse import diags\n",
    "from scipy.sparse import csr_matrix, csc_matrix \n",
    "\n",
    "N = 6\n",
    "M = 4\n",
    "S = np.zeros((M,N))\n",
    "print(S)\n",
    "for i in range(M):\n",
    "    S[i,i],S[i,i+2] = 1, -1\n",
    "print(S.T)\n",
    "csc_matrix(S)"
   ]
  },
  {
   "cell_type": "code",
   "execution_count": 26,
   "metadata": {},
   "outputs": [
    {
     "data": {
      "text/plain": [
       "array([[ 1.,  0., -1.,  0.,  0.,  0.],\n",
       "       [ 0.,  1.,  0., -1.,  0.,  0.],\n",
       "       [ 0.,  0.,  1.,  0., -1.,  0.],\n",
       "       [ 0.,  0.,  0.,  1.,  0., -1.],\n",
       "       [ 0.,  0.,  0.,  0.,  1.,  0.],\n",
       "       [ 0.,  0.,  0.,  0.,  0.,  1.]])"
      ]
     },
     "execution_count": 26,
     "metadata": {},
     "output_type": "execute_result"
    }
   ],
   "source": [
    "CD = ChebDirichlet(N)\n",
    "CD.stencil().toarray()"
   ]
  },
  {
   "cell_type": "code",
   "execution_count": 48,
   "metadata": {},
   "outputs": [
    {
     "name": "stderr",
     "output_type": "stream",
     "text": [
      "/home/preiter/anaconda3/lib/python3.7/site-packages/ipykernel_launcher.py:12: FutureWarning: Using a non-tuple sequence for multidimensional indexing is deprecated; use `arr[tuple(seq)]` instead of `arr[seq]`. In the future this will be interpreted as an array index, `arr[np.array(seq)]`, which will result either in an error or a different result.\n",
      "  if sys.path[0] == '':\n"
     ]
    },
    {
     "data": {
      "text/plain": [
       "array([1., 1., 0., 0., 0.])"
      ]
     },
     "execution_count": 48,
     "metadata": {},
     "output_type": "execute_result"
    }
   ],
   "source": [
    "def pad(array, reference, offsets):\n",
    "    \"\"\"\n",
    "    array: Array to be padded\n",
    "    reference: Reference array with the desired shape\n",
    "    offsets: list of offsets (number of elements must be equal to the dimension of the array)\n",
    "    \"\"\"\n",
    "    # Create an array of zeros with the reference shape\n",
    "    result = np.zeros(reference.shape)\n",
    "    # Create a list of slices from offset to offset + shape in each dimension\n",
    "    insertHere = [slice(offset[dim], offset[dim] + array.shape[dim]) for dim in range(a.ndim)]\n",
    "    # Insert the array in the result at the specified offsets\n",
    "    result[insertHere] = a\n",
    "    return result\n",
    "\n",
    "# 1 Dimension\n",
    "a = np.ones(2)\n",
    "b = np.ones(5)\n",
    "offset = [0]\n",
    "pad(a, b, offset)\n",
    "\n"
   ]
  },
  {
   "cell_type": "code",
   "execution_count": 46,
   "metadata": {},
   "outputs": [
    {
     "name": "stderr",
     "output_type": "stream",
     "text": [
      "/home/preiter/anaconda3/lib/python3.7/site-packages/ipykernel_launcher.py:12: FutureWarning: Using a non-tuple sequence for multidimensional indexing is deprecated; use `arr[tuple(seq)]` instead of `arr[seq]`. In the future this will be interpreted as an array index, `arr[np.array(seq)]`, which will result either in an error or a different result.\n",
      "  if sys.path[0] == '':\n"
     ]
    },
    {
     "data": {
      "text/plain": [
       "array([[[0., 0., 0.],\n",
       "        [0., 0., 0.],\n",
       "        [0., 0., 0.],\n",
       "        [0., 0., 0.]],\n",
       "\n",
       "       [[1., 1., 1.],\n",
       "        [1., 1., 1.],\n",
       "        [1., 1., 1.],\n",
       "        [0., 0., 0.]],\n",
       "\n",
       "       [[1., 1., 1.],\n",
       "        [1., 1., 1.],\n",
       "        [1., 1., 1.],\n",
       "        [0., 0., 0.]],\n",
       "\n",
       "       [[1., 1., 1.],\n",
       "        [1., 1., 1.],\n",
       "        [1., 1., 1.],\n",
       "        [0., 0., 0.]],\n",
       "\n",
       "       [[0., 0., 0.],\n",
       "        [0., 0., 0.],\n",
       "        [0., 0., 0.],\n",
       "        [0., 0., 0.]]])"
      ]
     },
     "execution_count": 46,
     "metadata": {},
     "output_type": "execute_result"
    }
   ],
   "source": [
    "# 3 Dimensions\n",
    "\n",
    "a = np.ones((3,3,3))\n",
    "b = np.ones((5,4,3))\n",
    "offset = [1,0,0]\n",
    "pad(a, b, offset)"
   ]
  },
  {
   "cell_type": "code",
   "execution_count": 57,
   "metadata": {},
   "outputs": [
    {
     "data": {
      "text/plain": [
       "(3,)"
      ]
     },
     "execution_count": 57,
     "metadata": {},
     "output_type": "execute_result"
    }
   ],
   "source": [
    "a = np.ones((3))\n",
    "np.pad(a, [(0, 1)], mode='constant')\n",
    "a.shape"
   ]
  },
  {
   "cell_type": "code",
   "execution_count": 58,
   "metadata": {},
   "outputs": [
    {
     "data": {
      "text/plain": [
       "2"
      ]
     },
     "execution_count": 58,
     "metadata": {},
     "output_type": "execute_result"
    }
   ],
   "source": [
    "a=2\n",
    "A=3\n",
    "a"
   ]
  },
  {
   "cell_type": "code",
   "execution_count": null,
   "metadata": {},
   "outputs": [],
   "source": []
  }
 ],
 "metadata": {
  "kernelspec": {
   "display_name": "Python 3",
   "language": "python",
   "name": "python3"
  },
  "language_info": {
   "codemirror_mode": {
    "name": "ipython",
    "version": 3
   },
   "file_extension": ".py",
   "mimetype": "text/x-python",
   "name": "python",
   "nbconvert_exporter": "python",
   "pygments_lexer": "ipython3",
   "version": "3.6.9"
  }
 },
 "nbformat": 4,
 "nbformat_minor": 4
}
