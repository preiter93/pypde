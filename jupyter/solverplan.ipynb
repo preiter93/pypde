{
 "cells": [
  {
   "cell_type": "markdown",
   "metadata": {},
   "source": [
    "## Solverplan"
   ]
  },
  {
   "cell_type": "code",
   "execution_count": 4,
   "metadata": {},
   "outputs": [
    {
     "name": "stdout",
     "output_type": "stream",
     "text": [
      "Plans RHS:\n",
      "1 ) Apply method 'multiply' along axis 1 \n",
      "\n",
      "Plans LHS:\n",
      "1 ) Apply method 'numpy' along axis 1 \n",
      "\n",
      "[[0. 1. 2.]\n",
      " [3. 4. 6.]]\n"
     ]
    },
    {
     "data": {
      "text/plain": [
       "array([[0., 1., 2.],\n",
       "       [3., 4., 6.]])"
      ]
     },
     "execution_count": 4,
     "metadata": {},
     "output_type": "execute_result"
    }
   ],
   "source": [
    "%load_ext autoreload\n",
    "%autoreload 2\n",
    "from pypde.solver.plans import *\n",
    "from pypde.solver.solverplan import *\n",
    "A = np.array([[1,1,2],[0,3,6],[0,0,9]])\n",
    "b = np.array([[0,1,2],[3,4,6]])\n",
    "\n",
    "# Make Plans\n",
    "rhs = PlanRHS(A,ndim=2,axis=1)\n",
    "lhs = PlanLHS(A,ndim=2,axis=1,method=\"numpy\")\n",
    "\n",
    "# Add them\n",
    "solver = SolverPlan()\n",
    "solver.add_lhs(lhs)\n",
    "solver.add_rhs(rhs)\n",
    "\n",
    "# Print them\n",
    "solver.show_plan()\n",
    "\n",
    "# Solve them\n",
    "rhs = solver.solve_rhs(b)\n",
    "x = solver.solve_lhs(rhs)\n",
    "print(x)\n",
    "\n",
    "# The above results should be the same as\n",
    "rhs = b@A.T\n",
    "np.linalg.solve(A,rhs.T).T"
   ]
  },
  {
   "cell_type": "code",
   "execution_count": null,
   "metadata": {},
   "outputs": [],
   "source": []
  }
 ],
 "metadata": {
  "kernelspec": {
   "display_name": "Python 3",
   "language": "python",
   "name": "python3"
  },
  "language_info": {
   "codemirror_mode": {
    "name": "ipython",
    "version": 3
   },
   "file_extension": ".py",
   "mimetype": "text/x-python",
   "name": "python",
   "nbconvert_exporter": "python",
   "pygments_lexer": "ipython3",
   "version": "3.6.9"
  }
 },
 "nbformat": 4,
 "nbformat_minor": 5
}
