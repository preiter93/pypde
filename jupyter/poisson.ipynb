{
 "cells": [
  {
   "cell_type": "code",
   "execution_count": 1,
   "metadata": {},
   "outputs": [],
   "source": [
    "%load_ext autoreload\n",
    "%autoreload 2\n",
    "import sys\n",
    "sys.path.append(\"../\") # go to parent directory\n",
    "import numpy as np \n",
    "import matplotlib.pyplot as plt\n",
    "from pypde import *\n",
    "from pypde.solver.utils import eigdecomp\n",
    "\n",
    "N,M = 20,20\n",
    "shape = (N,M)\n",
    "\n",
    "def _f(xx,yy,arg=np.pi/2):\n",
    "    return np.cos(arg*xx)*np.cos(arg*yy)\n",
    "\n",
    "def _fsol(xx,yy,arg=np.pi/2):\n",
    "        return np.cos(arg*xx)*np.cos(arg*yy)*-1/arg**2/2\n"
   ]
  },
  {
   "cell_type": "markdown",
   "metadata": {},
   "source": [
    "## Setup Field"
   ]
  },
  {
   "cell_type": "code",
   "execution_count": 2,
   "metadata": {},
   "outputs": [],
   "source": [
    "u = Field(shape,(\"CD\",\"CD\"))\n",
    "x,y = u.x, u.y\n",
    "xx,yy = np.meshgrid(x,y,indexing=\"ij\")\n",
    "\n",
    "f = Field(shape,(\"CH\",\"CH\"))\n",
    "f.v = _f(xx,yy)\n",
    "f.forward()\n",
    "fhat = f.vhat\n",
    "\n",
    "sol = _fsol(xx,yy)"
   ]
  },
  {
   "cell_type": "markdown",
   "metadata": {},
   "source": [
    "## Matrices"
   ]
  },
  {
   "cell_type": "code",
   "execution_count": 3,
   "metadata": {},
   "outputs": [],
   "source": [
    "# --- Matrices ----\n",
    "Sx = u.xs[0].S\n",
    "Bx = u.xs[0].family.B(2,2)\n",
    "Ix = u.xs[0].family.I(2)\n",
    "Ax = Ix@Sx\n",
    "Cx = Bx@Sx\n",
    "\n",
    "Sy = u.xs[1].S\n",
    "By = u.xs[1].family.B(2,2)\n",
    "Iy = u.xs[1].family.I(2)\n",
    "Ay = Iy@Sy\n",
    "Cy = By@Sy\n",
    "\n",
    "# -- Eigendecomposition ---\n",
    "CyI = np.linalg.inv(Cy)\n",
    "wy,Qy,QyI = eigdecomp( CyI@Ay )\n",
    "\n",
    "Hy = QyI@CyI@By"
   ]
  },
  {
   "cell_type": "markdown",
   "metadata": {},
   "source": [
    "## SolverPlan"
   ]
  },
  {
   "cell_type": "code",
   "execution_count": 4,
   "metadata": {},
   "outputs": [
    {
     "name": "stdout",
     "output_type": "stream",
     "text": [
      "Plans RHS:\n",
      "1 ) Apply method 'multiply' along axis 0 \n",
      "2 ) Apply method 'multiply' along axis 1 \n",
      "\n",
      "Plans LHS:\n",
      "1 ) Apply method 'poisson' along axis 0 \n",
      "2 ) Apply method 'multiply' along axis 1 \n",
      "\n"
     ]
    }
   ],
   "source": [
    "# --- Solver Plans ---\n",
    "solver = SolverPlan()\n",
    "solver.add_rhs(PlanRHS(Bx,ndim=2,axis=0))      # rhs\n",
    "solver.add_rhs(PlanRHS(Hy,ndim=2,axis=1))    # rhs\n",
    "\n",
    "plan_poisson = PlanLHS(Ax,alpha=wy,C=Cx,ndim=2,axis=0,method=\"poisson\")\n",
    "solver.add_lhs( plan_poisson ) #lhs\n",
    "solver.add_lhs( PlanLHS(Qy,ndim=2,axis=1,method=\"multiply\") ) #lhs\n",
    "\n",
    "solver.show_plan()"
   ]
  },
  {
   "cell_type": "code",
   "execution_count": 5,
   "metadata": {},
   "outputs": [],
   "source": [
    "rhs = solver.solve_rhs(fhat)\n",
    "vhat = solver.solve_lhs(rhs)\n",
    "vhat = vhat#@Qy.T"
   ]
  },
  {
   "cell_type": "code",
   "execution_count": 6,
   "metadata": {},
   "outputs": [],
   "source": [
    "u.vhat = vhat\n",
    "u.backward()"
   ]
  },
  {
   "cell_type": "code",
   "execution_count": 7,
   "metadata": {},
   "outputs": [
    {
     "data": {
      "image/png": "[encoded data removed]",
      "text/plain": [
       "<Figure size 432x288 with 1 Axes>"
      ]
     },
     "metadata": {
      "needs_background": "light"
     },
     "output_type": "display_data"
    },
    {
     "name": "stdout",
     "output_type": "stream",
     "text": [
      "-0.1992517740855377\n"
     ]
    }
   ],
   "source": [
    "plt.contourf(xx,yy,u.v)\n",
    "plt.show()\n",
    "print(u.v.min())"
   ]
  },
  {
   "cell_type": "code",
   "execution_count": 8,
   "metadata": {},
   "outputs": [
    {
     "data": {
      "image/png": "[encoded data removed]",
      "text/plain": [
       "<Figure size 432x288 with 1 Axes>"
      ]
     },
     "metadata": {
      "needs_background": "light"
     },
     "output_type": "display_data"
    },
    {
     "name": "stdout",
     "output_type": "stream",
     "text": [
      "-0.19925177408555428\n"
     ]
    }
   ],
   "source": [
    "plt.contourf(xx,yy,sol)\n",
    "plt.show()\n",
    "print(sol.min())"
   ]
  },
  {
   "cell_type": "code",
   "execution_count": null,
   "metadata": {},
   "outputs": [],
   "source": []
  }
 ],
 "metadata": {
  "kernelspec": {
   "display_name": "Python 3",
   "language": "python",
   "name": "python3"
  },
  "language_info": {
   "codemirror_mode": {
    "name": "ipython",
    "version": 3
   },
   "file_extension": ".py",
   "mimetype": "text/x-python",
   "name": "python",
   "nbconvert_exporter": "python",
   "pygments_lexer": "ipython3",
   "version": "3.6.9"
  }
 },
 "nbformat": 4,
 "nbformat_minor": 4
}
