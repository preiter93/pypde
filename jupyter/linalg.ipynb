{
 "cells": [
  {
   "cell_type": "code",
   "execution_count": 1,
   "metadata": {},
   "outputs": [],
   "source": [
    "import sys\n",
    "sys.path.append(\"../\")\n",
    "\n",
    "import numpy as np \n",
    "from pypde.bases.linalg.tdma import TDMA"
   ]
  },
  {
   "cell_type": "markdown",
   "metadata": {},
   "source": [
    "## Diagonals -1, 0, +1"
   ]
  },
  {
   "cell_type": "code",
   "execution_count": 2,
   "metadata": {},
   "outputs": [],
   "source": [
    "%load_ext autoreload\n",
    "%autoreload 2\n",
    "\n",
    "N = 10\n",
    "a = np.arange(N-1) +1\n",
    "b = np.arange(N) + 2\n",
    "c = np.arange(N-1) + 3\n",
    "\n",
    "d = range(N)\n",
    "\n",
    "A = np.diag(a,-1) + np.diag(b,0) + np.diag(c,1)"
   ]
  },
  {
   "cell_type": "markdown",
   "metadata": {},
   "source": [
    "## Diagonals -2, 0, +2"
   ]
  },
  {
   "cell_type": "code",
   "execution_count": 8,
   "metadata": {},
   "outputs": [
    {
     "name": "stdout",
     "output_type": "stream",
     "text": [
      "(10, 2)\n"
     ]
    }
   ],
   "source": [
    "import numpy as np\n",
    "from pypde.bases.linalg.tdma import TDMA_offset as TDMA\n",
    "N = 10\n",
    "a = np.arange(N-2) +1\n",
    "b = np.arange(N) + 3\n",
    "c = np.arange(N-2) + 6\n",
    "\n",
    "d = np.array( np.arange(N) )\n",
    "d = np.array([d,d]).T\n",
    "\n",
    "A = np.diag(a,-2) + np.diag(b,0) + np.diag(c,2)"
   ]
  },
  {
   "cell_type": "code",
   "execution_count": 9,
   "metadata": {},
   "outputs": [
    {
     "data": {
      "text/plain": [
       "array([[-4.44837758, -4.44837758],\n",
       "       [-4.16961091, -4.16961091],\n",
       "       [ 2.22418879,  2.22418879],\n",
       "       [ 2.52549195,  2.52549195],\n",
       "       [-0.5840708 , -0.5840708 ],\n",
       "       [-0.42374776, -0.42374776],\n",
       "       [ 0.14159292,  0.14159292],\n",
       "       [-0.15563506, -0.15563506],\n",
       "       [ 0.63716814,  0.63716814],\n",
       "       [ 0.85375671,  0.85375671]])"
      ]
     },
     "execution_count": 9,
     "metadata": {},
     "output_type": "execute_result"
    }
   ],
   "source": [
    "xnp = np.linalg.solve(A,d)\n",
    "xnp"
   ]
  },
  {
   "cell_type": "code",
   "execution_count": 7,
   "metadata": {},
   "outputs": [
    {
     "data": {
      "text/plain": [
       "array([-4.44837758, -4.16961091,  2.22418879,  2.52549195, -0.5840708 ,\n",
       "       -0.42374776,  0.14159292, -0.15563506,  0.63716814,  0.85375671])"
      ]
     },
     "execution_count": 7,
     "metadata": {},
     "output_type": "execute_result"
    }
   ],
   "source": [
    "x = TDMA(a,b,c,d,2)\n",
    "x"
   ]
  },
  {
   "cell_type": "markdown",
   "metadata": {},
   "source": [
    "## Fortran"
   ]
  },
  {
   "cell_type": "code",
   "execution_count": 3,
   "metadata": {},
   "outputs": [
    {
     "data": {
      "text/plain": [
       "array([-4.44837758, -4.16961091,  2.22418879,  2.52549195, -0.5840708 ,\n",
       "       -0.42374776,  0.14159292, -0.15563506,  0.63716814,  0.85375671])"
      ]
     },
     "execution_count": 3,
     "metadata": {},
     "output_type": "execute_result"
    }
   ],
   "source": [
    "import sys\n",
    "sys.path.append(\"../\")\n",
    "import numpy as np \n",
    "from pypde.bases.linalg.fortran import tdma\n",
    "from pypde.bases.linalg.tdma import TDMA_Fortran as TDMA\n",
    "\n",
    "N = 10\n",
    "a = np.arange(N-2) +1\n",
    "b = np.arange(N) + 3\n",
    "c = np.arange(N-2) + 6\n",
    "\n",
    "d = np.array( np.arange(N) )\n",
    "d2 = np.array([d,d]).T\n",
    "\n",
    "x = TDMA(a,b,c,d,2)\n",
    "x"
   ]
  },
  {
   "cell_type": "code",
   "execution_count": 5,
   "metadata": {},
   "outputs": [
    {
     "data": {
      "text/plain": [
       "array([[-4.44837758, -4.44837758],\n",
       "       [-4.16961091, -4.16961091],\n",
       "       [ 2.22418879,  2.22418879],\n",
       "       [ 2.52549195,  2.52549195],\n",
       "       [-0.5840708 , -0.5840708 ],\n",
       "       [-0.42374776, -0.42374776],\n",
       "       [ 0.14159292,  0.14159292],\n",
       "       [-0.15563506, -0.15563506],\n",
       "       [ 0.63716814,  0.63716814],\n",
       "       [ 0.85375671,  0.85375671]])"
      ]
     },
     "execution_count": 5,
     "metadata": {},
     "output_type": "execute_result"
    }
   ],
   "source": [
    "x = TDMA(a,b,c,d2,2)\n",
    "x"
   ]
  },
  {
   "cell_type": "code",
   "execution_count": 16,
   "metadata": {},
   "outputs": [
    {
     "name": "stdout",
     "output_type": "stream",
     "text": [
      "This module 'tdma' is auto-generated with f2py (version:2).\n",
      "Functions:\n",
      "  solve_tdma_1d(l,d,u,k,x,n=len(x))\n",
      ".\n"
     ]
    }
   ],
   "source": [
    "print(tdma.__doc__)\n"
   ]
  },
  {
   "cell_type": "code",
   "execution_count": 13,
   "metadata": {},
   "outputs": [
    {
     "data": {
      "text/plain": [
       "array([ 3,  4,  5,  6,  7,  8,  9, 10, 11, 12])"
      ]
     },
     "execution_count": 13,
     "metadata": {},
     "output_type": "execute_result"
    }
   ],
   "source": [
    "b"
   ]
  },
  {
   "cell_type": "code",
   "execution_count": 14,
   "metadata": {},
   "outputs": [
    {
     "data": {
      "text/plain": [
       "array([ 6,  7,  8,  9, 10, 11, 12, 13])"
      ]
     },
     "execution_count": 14,
     "metadata": {},
     "output_type": "execute_result"
    }
   ],
   "source": [
    "c"
   ]
  },
  {
   "cell_type": "code",
   "execution_count": 9,
   "metadata": {},
   "outputs": [
    {
     "data": {
      "text/plain": [
       "array([-4.44837758, -4.16961091,  2.22418879,  2.52549195, -0.5840708 ,\n",
       "       -0.42374776,  0.14159292, -0.15563506,  0.63716814,  0.85375671])"
      ]
     },
     "execution_count": 9,
     "metadata": {},
     "output_type": "execute_result"
    }
   ],
   "source": [
    "x"
   ]
  },
  {
   "cell_type": "code",
   "execution_count": null,
   "metadata": {},
   "outputs": [],
   "source": []
  }
 ],
 "metadata": {
  "kernelspec": {
   "display_name": "Python 3",
   "language": "python",
   "name": "python3"
  },
  "language_info": {
   "codemirror_mode": {
    "name": "ipython",
    "version": 3
   },
   "file_extension": ".py",
   "mimetype": "text/x-python",
   "name": "python",
   "nbconvert_exporter": "python",
   "pygments_lexer": "ipython3",
   "version": "3.9.1"
  }
 },
 "nbformat": 4,
 "nbformat_minor": 4
}
