{
 "cells": [
  {
   "cell_type": "code",
   "execution_count": 132,
   "metadata": {},
   "outputs": [
    {
     "data": {
      "image/png": "[encoded data removed]",
      "text/plain": [
       "<Figure size 432x288 with 1 Axes>"
      ]
     },
     "metadata": {
      "needs_background": "light"
     },
     "output_type": "display_data"
    },
    {
     "ename": "AttributeError",
     "evalue": "'Chebyshev' object has no attribute '_stiff'",
     "output_type": "error",
     "traceback": [
      "\u001b[0;31m---------------------------------------------------------------------------\u001b[0m",
      "\u001b[0;31mAttributeError\u001b[0m                            Traceback (most recent call last)",
      "\u001b[0;32m<ipython-input-132-64f88de48c82>\u001b[0m in \u001b[0;36m<module>\u001b[0;34m\u001b[0m\n\u001b[1;32m    197\u001b[0m \u001b[0mplt\u001b[0m\u001b[0;34m.\u001b[0m\u001b[0mshow\u001b[0m\u001b[0;34m(\u001b[0m\u001b[0;34m)\u001b[0m\u001b[0;34m\u001b[0m\u001b[0;34m\u001b[0m\u001b[0m\n\u001b[1;32m    198\u001b[0m \u001b[0;34m\u001b[0m\u001b[0m\n\u001b[0;32m--> 199\u001b[0;31m \u001b[0mpm\u001b[0m\u001b[0;34m(\u001b[0m\u001b[0mCD\u001b[0m\u001b[0;34m.\u001b[0m\u001b[0m_stiff\u001b[0m\u001b[0;34m(\u001b[0m\u001b[0;34m)\u001b[0m\u001b[0;34m)\u001b[0m\u001b[0;34m\u001b[0m\u001b[0;34m\u001b[0m\u001b[0m\n\u001b[0m\u001b[1;32m    200\u001b[0m \u001b[0;34m\u001b[0m\u001b[0m\n\u001b[1;32m    201\u001b[0m \u001b[0mdu\u001b[0m \u001b[0;34m=\u001b[0m \u001b[0mCD\u001b[0m\u001b[0;34m.\u001b[0m\u001b[0mderivative\u001b[0m\u001b[0;34m(\u001b[0m\u001b[0mu\u001b[0m\u001b[0;34m,\u001b[0m\u001b[0mderiv\u001b[0m\u001b[0;34m=\u001b[0m\u001b[0;36m2\u001b[0m\u001b[0;34m,\u001b[0m\u001b[0mmethod\u001b[0m\u001b[0;34m=\u001b[0m\u001b[0;34m\"fft\"\u001b[0m\u001b[0;34m)\u001b[0m\u001b[0;34m\u001b[0m\u001b[0;34m\u001b[0m\u001b[0m\n",
      "\u001b[0;31mAttributeError\u001b[0m: 'Chebyshev' object has no attribute '_stiff'"
     ]
    }
   ],
   "source": [
    "#https://mikaem.github.io/shenfun-demos/content/poisson.html#shen1\n",
    "import numpy as np \n",
    "import matplotlib.pyplot as plt\n",
    "from pypde.bases.dmsuite import *\n",
    "from scipy.fftpack import dctn\n",
    "from pypde.bases.chebyshev import *\n",
    "from pypde.bases.inner import *\n",
    "from scipy.sparse import diags\n",
    "from scipy.sparse.linalg import inv\n",
    "from numpy.polynomial import chebyshev as n_cheb\n",
    "\n",
    "def f(x,m=1):\n",
    "    arg = 2*np.pi/2*m\n",
    "    return np.sin(arg*x)#+np.cos(arg*x)\n",
    "\n",
    "def df(x,m=1):\n",
    "    arg = 2*np.pi/2*m\n",
    "    return -arg**2*np.sin(arg*x)#+np.cos(arg*x)\n",
    "\n",
    "def pm(M):\n",
    "    np.set_printoptions(formatter={'float': \"{: 4.2f}\\t\".format})\n",
    "    print(M)\n",
    "    np.set_printoptions()\n",
    "\n",
    "class ChebDirichlet(Spectralbase):\n",
    "    \"\"\"\n",
    "    Function space for Dirichlet boundary conditions\n",
    "    .. math::\n",
    "        \\phi_k = T_k - T_{k+2}\n",
    "    \n",
    "    Parameters:\n",
    "        N: int\n",
    "            Number of grid points\n",
    "        bc: 2-tuple of floats, optional\n",
    "            Boundary conditions at, respectively, x=(-1, 1).\n",
    "            \n",
    "    \"\"\"\n",
    "    def __init__(self,N,bc=(0,0)):\n",
    "        Spectralbase.__init__(self,N)\n",
    "        \n",
    "        #self.bc = BoundaryValues(self, bc=bc) # TODO\n",
    "\n",
    "    def eval(self,c):\n",
    "        ''' \n",
    "        Evaluate f(x) from spectral coefficients c \n",
    "        '''\n",
    "        y = np.zeros(self.N) \n",
    "        for i in range(self.N):\n",
    "            y += c[i]*self.get_basis(i)\n",
    "        return y\n",
    "    \n",
    "    def get_basis(self, i=0, x=None):\n",
    "        if x is None: x = self.x\n",
    "        if i < self.N-2:\n",
    "            w = np.arccos(x)\n",
    "            return np.cos(i*w) - np.cos((i+2)*w)\n",
    "        elif i == self.N-2:\n",
    "            return 0.5*(1-x)\n",
    "        elif i == self.N-1:\n",
    "            return 0.5*(1+x)\n",
    "        \n",
    "    def get_basis_derivative(self, i=0, k=0, x=None):\n",
    "        if x is None: x = self.x\n",
    "        output_array = np.zeros(x.shape)\n",
    "        x = np.atleast_1d(x)\n",
    "        if i < self.N-2:\n",
    "            basis = np.zeros(self.N)\n",
    "            basis[np.array([i, i+2])] = (1, -1)\n",
    "            basis = n_cheb.Chebyshev(basis)\n",
    "            if k > 0:\n",
    "                basis = basis.deriv(k)\n",
    "            output_array[:] = basis(x)\n",
    "        elif i == self.N-2:\n",
    "            output_array[:] = 0\n",
    "            if k == 1:\n",
    "                output_array[:] = -0.5\n",
    "            elif k == 0:\n",
    "                output_array[:] = 0.5*(1-x)\n",
    "        elif i == self.N-1:\n",
    "            output_array[:] = 0\n",
    "            if k == 1:\n",
    "                output_array[:] = 0.5\n",
    "            elif k == 0:\n",
    "                output_array[:] = 0.5*(1+x)\n",
    "        return output_array\n",
    "    \n",
    "    def _mass(self):\n",
    "        ''' \n",
    "        Eq. (2.5) of Shen - Effcient Spectral-Galerkin Method II.\n",
    "        '''\n",
    "        diag0 = [1.5, *[1.0]*(self.N-4), 1.5]\n",
    "        diag2 = [*[-0.5]*(self.N-4) ]\n",
    "        return diags([diag2, diag0, diag2], [-2, 0, 2],format=\"csc\")\n",
    "    \n",
    "    def _mass_inv(self):\n",
    "        return inv(self._mass())\n",
    "    \n",
    "    def _stiff(self):\n",
    "        deriv = 2\n",
    "        M = []\n",
    "        N = self.N\n",
    "        u = self\n",
    "        v = self\n",
    "        w = np.concatenate(([0.5],np.ones(N-2),[0.5] ))\n",
    "        for j,vv in enumerate(v.iter_basis_deriv(deriv)):\n",
    "            M.append( \n",
    "                [inner(vv,uu,w) \n",
    "                for uu in u.iter_basis()]\n",
    "                )\n",
    "        return np.vstack(M).transpose()\n",
    "    \n",
    "    def _D2(self):\n",
    "        return diffmat_spectral_chebdirichlet(self.N-2,deriv=2)\n",
    "    \n",
    "    def iter_basis_deriv(self,deriv,sl=None):\n",
    "        ''' Return iterator over all bases '''\n",
    "        if sl is None: sl=self.slice()\n",
    "        return (self.get_basis_derivative(i,deriv) \n",
    "            for i in range(self.N)[self.slice()])\n",
    "    \n",
    "    def slice(self):\n",
    "        ''' \n",
    "        Chebdirichlet space defined for [0,N-3] bases + 2 BCs\n",
    "        '''\n",
    "        return slice(0, self.N-2)\n",
    "\n",
    "    def forward_fft(self,f):\n",
    "        '''  \n",
    "        Transform to spectral space via DCT \n",
    "        '''\n",
    "        c = Chebyshev.forward_fft(self,f,nomass=True)\n",
    "        c = self._map(c)\n",
    "        c[self.slice()] = self._mass_inv()@c[self.slice()]\n",
    "        c[ [-2,-1] ] = 0 # BCs\n",
    "        return c\n",
    "    \n",
    "    def backward_fft(self,c):\n",
    "        '''  \n",
    "        Transform to physical space via DCT \n",
    "        ''' \n",
    "        c = self._map(c,inv=True)\n",
    "        return Chebyshev.backward_fft(self,c)\n",
    "    \n",
    "    @property\n",
    "    def _s0(self):\n",
    "        return slice(0, self.N-2)\n",
    "    \n",
    "    @property\n",
    "    def _s1(self):\n",
    "        return slice(2, self.N)\n",
    "    \n",
    "    def derivative(self,f,deriv,method=\"fft\"):\n",
    "        ''' \n",
    "        Calculate derivative of input array f \n",
    "        '''\n",
    "        if method in (\"fft\", \"spectral\"):\n",
    "            c = self.forward_fft(f)\n",
    "            #dc = diff_recursion_spectral(c,deriv)\n",
    "            dc = diffmat_spectral_chebdirichlet(\n",
    "                self.N,deriv)@c[:-2]\n",
    "            return Chebyshev.backward_fft(self,dc)\n",
    "        \n",
    "        elif method in (\"dm\", \"physical\"):\n",
    "            return self.get_deriv_mat(deriv)@f\n",
    "        else: \n",
    "            raise NotImplementedError(\"Not implemented method: {:s}\".format(method))\n",
    "    \n",
    "    def _map(self,c,inv=False):\n",
    "        ''' \n",
    "        Map from Galerkin to Chebshev representation.\n",
    "        K. Julien: doi:10.1016/j.jcp.2008.10.043 \n",
    "        '''\n",
    "        _c = c; \n",
    "        if inv:\n",
    "            _c[self._s1] -= _c[self._s0]\n",
    "        else:\n",
    "            _c[self._s0] -= _c[self._s1]\n",
    "        return _c\n",
    "    \n",
    "    @memoized\n",
    "    def get_deriv_mat(self,deriv):\n",
    "        D = chebdif(self.N,deriv)[1]\n",
    "        I = np.eye(self.N)\n",
    "        D[:,[0,-1]] = I[:,[0,-1]] # replace row for dirichlet bcs\n",
    "        return D\n",
    "\n",
    "N = 40\n",
    "CD = Chebyshev(N)\n",
    "CD1 = Chebyshev(N)\n",
    "x = CD.x\n",
    "u = CD.get_basis(i=2)\n",
    "dua = np.gradient(np.gradient(u,x),x)\n",
    "#du = CD.get_basis_derivative(i=2,k=2)\n",
    "plt.plot(x,u)\n",
    "plt.plot(x,du,\"r\")\n",
    "plt.plot(x,dua,\"--\")\n",
    "plt.show()\n",
    "\n",
    "pm(CD._stiff())\n",
    "\n",
    "du = CD.derivative(u,deriv=2,method=\"fft\")\n",
    "plt.plot(x,u)\n",
    "plt.plot(x,du,\"r\")\n",
    "plt.plot(x,dua,\"--\")\n",
    "plt.show()"
   ]
  },
  {
   "cell_type": "code",
   "execution_count": 133,
   "metadata": {},
   "outputs": [
    {
     "name": "stdout",
     "output_type": "stream",
     "text": [
      "[[-4.00\t  0.00\t -4.00\t  0.00\t -4.00\t]\n",
      " [ 0.00\t -12.00\t  0.00\t -8.00\t  0.00\t]\n",
      " [ 0.00\t  0.00\t -24.00\t  0.00\t -12.00\t]\n",
      " [ 0.00\t  0.00\t  0.00\t -40.00\t  0.00\t]\n",
      " [ 0.00\t  0.00\t  0.00\t  0.00\t -60.00\t]\n",
      " [ 0.00\t  0.00\t  0.00\t  0.00\t  0.00\t]\n",
      " [ 0.00\t  0.00\t  0.00\t  0.00\t  0.00\t]]\n"
     ]
    },
    {
     "data": {
      "text/plain": [
       "(7, 5)"
      ]
     },
     "execution_count": 133,
     "metadata": {},
     "output_type": "execute_result"
    }
   ],
   "source": [
    "def diffmat_spectral_chebdirichlet(N,deriv):\n",
    "    '''Derivative matrix in spectral space of classical Chebyshev \n",
    "    polynomial on Gauss Lobattor points, see\n",
    "    Jan S. Hesthaven - Appendix B p. 256  \n",
    "\n",
    "    Input:\n",
    "        N: int\n",
    "            Number of grit points\n",
    "        deriv: int\n",
    "            Order of derivative\n",
    "\n",
    "    Output:\n",
    "        ndarray (N x N)\n",
    "            Derivative matrix, must be applied in spectral\n",
    "            space to chebyshev coefficients array\n",
    "            '''\n",
    "    M = N-2\n",
    "    D = np.zeros( (N,M) )\n",
    "    if deriv==1:\n",
    "        for n in range(N):\n",
    "            for p in range(n+1,N):\n",
    "                if (p+n)%2!=0: D[n,p] = p*2\n",
    "    if deriv==2:\n",
    "        for m in range(N):\n",
    "            for n in range(m,M):\n",
    "                if (n==m):\n",
    "                    D[m,n] = -2*(m+1)*(m+2)\n",
    "                elif (n-m)%2==0:\n",
    "                    D[m,n] = -4*(m+1)\n",
    "    if deriv>2:\n",
    "        raise NotImplementedError(\"derivatives larger 2 not implemented\")\n",
    "    return D\n",
    "N = 7\n",
    "D = diffmat_spectral_chebdirichlet(N,deriv=2)\n",
    "pm(D)\n",
    "D.shape"
   ]
  },
  {
   "cell_type": "code",
   "execution_count": 125,
   "metadata": {},
   "outputs": [
    {
     "name": "stdout",
     "output_type": "stream",
     "text": [
      "[[ 0.75\t  0.00\t  0.25\t]\n",
      " [ 0.00\t  1.00\t  0.00\t]\n",
      " [ 0.25\t  0.00\t  0.75\t]]\n"
     ]
    }
   ],
   "source": [
    "import scipy\n",
    "import scipy.linalg\n",
    "\n",
    "MI = CD._mass()\n",
    "#pm( MI.toarray() )\n",
    "\n",
    "MI = CD._mass_inv()\n",
    "pm( MI.toarray()  )\n",
    "\n",
    "#P, L, U = scipy.linalg.lu(MI)\n",
    "\n",
    "#pm(U)"
   ]
  },
  {
   "cell_type": "code",
   "execution_count": 31,
   "metadata": {},
   "outputs": [
    {
     "data": {
      "text/plain": [
       "{'_shape': (4, 4),\n",
       " 'maxprint': 50,\n",
       " 'indices': array([0, 1, 2, 3], dtype=int32),\n",
       " 'indptr': array([0, 1, 2, 3, 4], dtype=int32),\n",
       " 'data': array([0.25, 1.  , 1.  , 0.25])}"
      ]
     },
     "execution_count": 31,
     "metadata": {},
     "output_type": "execute_result"
    }
   ],
   "source": [
    "s = sparse.diags([0.5, *[1.0]*2, 0.5],0)\n",
    "out = s@s\n",
    "out.__dict__"
   ]
  },
  {
   "cell_type": "code",
   "execution_count": 7,
   "metadata": {},
   "outputs": [
    {
     "name": "stdout",
     "output_type": "stream",
     "text": [
      "[[1 2 3]\n",
      " [4 5 6]\n",
      " [7 8 9]]\n"
     ]
    },
    {
     "data": {
      "text/plain": [
       "(3, 3)"
      ]
     },
     "execution_count": 7,
     "metadata": {},
     "output_type": "execute_result"
    }
   ],
   "source": [
    "import numpy as np\n",
    "A = [[1,2,3],[4,5,6],[7,8,9]]\n",
    "A = np.array(A)\n",
    "Ah = np.vstack(A)\n",
    "Av = np.hstack(A)\n",
    "print(Ah)\n",
    "Ah.shape"
   ]
  },
  {
   "cell_type": "code",
   "execution_count": 2,
   "metadata": {},
   "outputs": [
    {
     "name": "stdout",
     "output_type": "stream",
     "text": [
      "0\n",
      "1\n",
      "2\n",
      "3\n"
     ]
    }
   ],
   "source": [
    "sl = slice(0,4)\n",
    "for i in range(10)[sl]:\n",
    "    print(i)"
   ]
  },
  {
   "cell_type": "code",
   "execution_count": 2,
   "metadata": {},
   "outputs": [
    {
     "data": {
      "image/png": "[encoded data removed]",
      "text/plain": [
       "<Figure size 432x288 with 1 Axes>"
      ]
     },
     "metadata": {
      "needs_background": "light"
     },
     "output_type": "display_data"
    }
   ],
   "source": [
    "N = 7\n",
    "CD = ChebDirichlet(N)\n",
    "x = CD.x\n",
    "\n",
    "def fun(x):\n",
    "    return np.sin(2*np.pi/2*x)\n",
    "\n",
    "c = CD.project_via_mass(fun(x))\n",
    "y = CD.eval(c)\n",
    "plt.plot(x,fun(x),\"k\")\n",
    "plt.plot(x,y,\"r--\")\n",
    "plt.show()"
   ]
  },
  {
   "cell_type": "code",
   "execution_count": 6,
   "metadata": {},
   "outputs": [
    {
     "data": {
      "image/png": "[encoded data removed]",
      "text/plain": [
       "<Figure size 432x288 with 1 Axes>"
      ]
     },
     "metadata": {
      "needs_background": "light"
     },
     "output_type": "display_data"
    }
   ],
   "source": [
    "\n",
    "from shenfun import *\n",
    "N = 20\n",
    "D0 = FunctionSpace(N, 'C', basis='Orthogonal'   ,quad=\"GL\")\n",
    "DS = FunctionSpace(N, 'C', basis='ShenDirichlet',quad=\"GL\")\n",
    "x = D0.mesh()\n",
    "plt.plot(x,D0.evaluate_basis(x,i=1))\n",
    "plt.plot(x,DS.evaluate_basis(x,i=1))\n",
    "plt.plot(x,fun(x),\"k\")\n",
    "plt.show()\n",
    "\n",
    "\n",
    "c = project(fun(x), D0)"
   ]
  }
 ],
 "metadata": {
  "kernelspec": {
   "display_name": "Python 3",
   "language": "python",
   "name": "python3"
  },
  "language_info": {
   "codemirror_mode": {
    "name": "ipython",
    "version": 3
   },
   "file_extension": ".py",
   "mimetype": "text/x-python",
   "name": "python",
   "nbconvert_exporter": "python",
   "pygments_lexer": "ipython3",
   "version": "3.7.3"
  }
 },
 "nbformat": 4,
 "nbformat_minor": 4
}
