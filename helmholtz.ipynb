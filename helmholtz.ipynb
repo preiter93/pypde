{
 "cells": [
  {
   "cell_type": "markdown",
   "metadata": {},
   "source": [
    "### Helmholtz equation\n",
    "\n",
    "$$u(x) - \\lambda \\nabla^2 u(x) = f(x)$$\n",
    "\n",
    "with $f(x)=(1+\\lambda\\pi^2/4)u(x)$ the exact solution is\n",
    "\n",
    "$u(x) = cos(\\pi/2 x)$"
   ]
  },
  {
   "cell_type": "code",
   "execution_count": 35,
   "metadata": {},
   "outputs": [],
   "source": [
    "import numpy as np\n",
    "import scipy as sp\n",
    "from pypde.bases.chebyshev import *\n",
    "import matplotlib.pyplot as plt\n",
    "from scipy.linalg import solve_triangular\n",
    "\n",
    "def fun(x,lam):\n",
    "    return  (1.0+lam*np.pi**2/4)*np.cos(np.pi/2*x)\n",
    "\n",
    "N = 6\n",
    "lam = 1/np.pi**2\n",
    "CD = ChebDirichlet(N)\n",
    "x = CD.x\n",
    "I  = CD.mass.toarray()\n",
    "D2 = CD.stiff.toarray()\n",
    "f = fun(x,lam)\n",
    "fhat = CD.forward_fft(f)\n",
    "\n",
    "def rhs(fhat):\n",
    "    return I@fhat\n",
    "\n",
    "def lhs():\n",
    "    return I-lam*D2\n",
    "\n",
    "\n",
    "A = lhs()\n",
    "b = rhs(fhat)\n"
   ]
  },
  {
   "cell_type": "markdown",
   "metadata": {},
   "source": [
    "### Brute Force"
   ]
  },
  {
   "cell_type": "code",
   "execution_count": 36,
   "metadata": {},
   "outputs": [
    {
     "name": "stdout",
     "output_type": "stream",
     "text": [
      "544 µs ± 7.67 µs per loop (mean ± std. dev. of 7 runs, 1000 loops each)\n"
     ]
    }
   ],
   "source": [
    "%%timeit\n",
    "\n",
    "uhat = np.linalg.solve(A,b)\n",
    "u = CD.backward_fft(uhat)\n",
    "\n",
    "\n",
    "#plt.plot(x,f)\n",
    "#plt.plot(x,u,\"b\")\n",
    "#plt.plot(x,np.cos(np.pi/2*x),\"r--\")\n",
    "#plt.show()"
   ]
  },
  {
   "cell_type": "markdown",
   "metadata": {},
   "source": [
    "### LU Decomposiion"
   ]
  },
  {
   "cell_type": "code",
   "execution_count": 63,
   "metadata": {},
   "outputs": [
    {
     "name": "stdout",
     "output_type": "stream",
     "text": [
      "[[ 1.          0.          0.          0.          0.          0.        ]\n",
      " [ 0.          1.          0.          0.          0.          0.        ]\n",
      " [-0.38137129  0.          1.          0.          0.          0.        ]\n",
      " [ 0.         -0.08846249  0.          1.          0.          0.        ]\n",
      " [ 0.          0.         -0.25104888  0.          1.          0.        ]\n",
      " [ 0.          0.          0.         -0.42499375  0.          1.        ]]\n",
      "[0.93420577 0.16258416 1.22625597 0.16060308 0.35124858 0.59635901]\n",
      "[0.93420577 0.16258416 1.22625597 0.16060308 0.35124858 0.59635901]\n",
      "This module 'tdma' is auto-generated with f2py (version:2).\n",
      "Functions:\n",
      "  twodma_solve(d,u1,x,n=len(d))\n",
      ".\n",
      "[0.93420577 0.16258416 1.22625597 0.16060308 0.35124858 0.59635901]\n"
     ]
    }
   ],
   "source": [
    "def TwoDMA_Solve(d, u1, x, axis=0):\n",
    "    ''' \n",
    "    d: N\n",
    "        diagonal\n",
    "    u1: N-2\n",
    "        Diagonal with offset +2\n",
    "    x: array ndim==1\n",
    "        rhs\n",
    "    '''\n",
    "    assert x.ndim == 1, \"Use optimized version for multidimensional solve\"\n",
    "    n = d.shape[0]\n",
    "    x[n-1] = x[n-1]/d[n-1]\n",
    "    x[n-2] = x[n-2]/d[n-2]\n",
    "    for i in range(n - 3, -1, -1):\n",
    "        x[i] = (x[i] - u1[i]*x[i+2])/d[i]\n",
    "\n",
    "def TwoDMA_SolveU(d, u1, x, axis=0):\n",
    "    ''' \n",
    "    d: N\n",
    "        diagonal\n",
    "    u1: N-2\n",
    "        Diagonal with offset -2\n",
    "    x: array ndim==1\n",
    "        rhs\n",
    "    '''\n",
    "    assert x.ndim == 1, \"Use optimized version for multidimensional solve\"\n",
    "    n = d.shape[0]\n",
    "    x[0] = x[0]/d[0]\n",
    "    x[1] = x[1]/d[1]\n",
    "    for i in range(2,n):\n",
    "        x[i] = (x[i] - u1[i-2]*x[i-2])/d[i]\n",
    "        \n",
    "P,L,U = sp.linalg.lu(A)\n",
    "bb = b.copy()\n",
    "\n",
    "print(L)\n",
    "b = np.random.random(N)\n",
    "\n",
    "x1 = np.linalg.solve(L,b)\n",
    "print(x1)\n",
    "\n",
    "d,u1 = np.diag(L), np.diag(L,-2)\n",
    "bb = b.copy()\n",
    "TwoDMA_SolveU(d,u1,bb)\n",
    "\n",
    "print(bb)\n",
    "\n",
    "import tdma\n",
    "print(tdma.__doc__)\n",
    "bb = b.copy()\n",
    "tdma.twodma_solve(d,u1,bb)\n",
    "print(bb)"
   ]
  },
  {
   "cell_type": "code",
   "execution_count": 66,
   "metadata": {},
   "outputs": [
    {
     "name": "stdout",
     "output_type": "stream",
     "text": [
      "This module 'utda' is auto-generated with f2py (version:2).\n",
      "Functions:\n",
      "  x = solve_triangular(r,b,n=shape(r,0))\n",
      ".\n"
     ]
    }
   ],
   "source": [
    "import pypde.bases.solver.utda as utda\n",
    "print(utda.__doc__)"
   ]
  },
  {
   "cell_type": "code",
   "execution_count": 5,
   "metadata": {},
   "outputs": [
    {
     "name": "stdout",
     "output_type": "stream",
     "text": [
      "959 µs ± 47.7 µs per loop (mean ± std. dev. of 7 runs, 1000 loops each)\n"
     ]
    }
   ],
   "source": [
    "%%timeit\n",
    "            \n",
    "# L is almost pentadiagonal \n",
    "d,u1 = np.diag(L), np.diag(L,-2)\n",
    "\n",
    "\n",
    "TwoDMA_SolveU(d,u1,bb)\n",
    "uhat = solve_triangular(U,bb)\n",
    "u = CD.backward_fft(uhat)\n",
    "\n",
    "#plt.plot(x,f)\n",
    "#plt.plot(x,u,\"b\")\n",
    "#plt.plot(x,np.cos(np.pi/2*x),\"r--\")\n",
    "#plt.show()"
   ]
  },
  {
   "cell_type": "code",
   "execution_count": 6,
   "metadata": {},
   "outputs": [],
   "source": [
    "#plt.spy(P)\n",
    "#plt.show()\n",
    "#plt.spy(L)\n",
    "#print(L)\n",
    "#plt.show()\n",
    "#plt.spy(U)\n",
    "#plt.show()"
   ]
  },
  {
   "cell_type": "code",
   "execution_count": 40,
   "metadata": {},
   "outputs": [
    {
     "name": "stdout",
     "output_type": "stream",
     "text": [
      "[[ 1.          0.          0.          0.          0.          0.        ]\n",
      " [ 0.          1.          0.          0.          0.          0.        ]\n",
      " [-0.38137129  0.          1.          0.          0.          0.        ]\n",
      " [ 0.         -0.08846249  0.          1.          0.          0.        ]\n",
      " [ 0.          0.         -0.25104888  0.          1.          0.        ]\n",
      " [ 0.          0.          0.         -0.42499375  0.          1.        ]]\n",
      "[0.52156248 0.57364034 1.07128987 0.27665162 0.45838383 0.58301218]\n",
      "[0.52156248 0.57364034 1.07128987 0.27665162 0.45838383 0.70058739]\n"
     ]
    },
    {
     "data": {
      "text/plain": [
       "False"
      ]
     },
     "execution_count": 40,
     "metadata": {},
     "output_type": "execute_result"
    }
   ],
   "source": [
    "def TwoDMA_SolveU(d, u1, x, axis=0):\n",
    "    ''' \n",
    "    d: N\n",
    "        diagonal\n",
    "    u1: N-2\n",
    "        Diagonal with offset -2\n",
    "    x: array ndim==1\n",
    "        rhs\n",
    "    '''\n",
    "    assert x.ndim == 1, \"Use optimized version for multidimensional solve\"\n",
    "    n = d.shape[0]\n",
    "    x[0] = x[0]/d[0]\n",
    "    x[1] = x[1]/d[1]\n",
    "    for i in range(2,n - 1):\n",
    "        x[i] = (x[i] - u1[i-2]*x[i-2])/d[i]\n",
    "        \n",
    "N = 6\n",
    "a1 = np.random.random(N)*0+1\n",
    "a2 = -np.random.random(N-2)\n",
    "A = np.diag(a1,k=0) + np.diag(a2,k=-2)\n",
    "b = np.random.random(N)\n",
    "print(A)\n",
    "bb = b.copy()\n",
    "a1,a2 = np.diag(A), np.diag(A,-2)\n",
    "TwoDMA_SolveU(a1,a2,bb)\n",
    "print(bb)\n",
    "b2 = np.linalg.solve(A,b)\n",
    "print(b2)\n",
    "np.allclose(bb,b2)\n"
   ]
  },
  {
   "cell_type": "code",
   "execution_count": 20,
   "metadata": {},
   "outputs": [
    {
     "data": {
      "text/plain": [
       "array([ -0.72511192,   3.5455193 ,  -0.23743854,   0.2602639 ,\n",
       "         0.9235988 , -59.85356413])"
      ]
     },
     "execution_count": 20,
     "metadata": {},
     "output_type": "execute_result"
    }
   ],
   "source": [
    "A@bb"
   ]
  },
  {
   "cell_type": "code",
   "execution_count": 19,
   "metadata": {},
   "outputs": [
    {
     "data": {
      "text/plain": [
       "array([-0.72511192,  3.5455193 , -0.23743854,  0.2602639 ,  0.9235988 ,\n",
       "       -0.12756077])"
      ]
     },
     "execution_count": 19,
     "metadata": {},
     "output_type": "execute_result"
    }
   ],
   "source": [
    "b"
   ]
  },
  {
   "cell_type": "code",
   "execution_count": null,
   "metadata": {},
   "outputs": [],
   "source": []
  }
 ],
 "metadata": {
  "kernelspec": {
   "display_name": "Python 3",
   "language": "python",
   "name": "python3"
  },
  "language_info": {
   "codemirror_mode": {
    "name": "ipython",
    "version": 3
   },
   "file_extension": ".py",
   "mimetype": "text/x-python",
   "name": "python",
   "nbconvert_exporter": "python",
   "pygments_lexer": "ipython3",
   "version": "3.6.9"
  }
 },
 "nbformat": 4,
 "nbformat_minor": 4
}
