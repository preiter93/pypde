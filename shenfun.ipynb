{
 "cells": [
  {
   "cell_type": "code",
   "execution_count": 30,
   "metadata": {},
   "outputs": [
    {
     "data": {
      "text/plain": [
       "Function([-3.79284273e-17,  1.00000000e+00, -3.98624313e-17,\n",
       "           5.81510143e-16, -2.43032255e-16,  3.06833271e-16,\n",
       "           2.65136090e-17,  1.51651675e-16,  0.00000000e+00,\n",
       "           0.00000000e+00])"
      ]
     },
     "execution_count": 30,
     "metadata": {},
     "output_type": "execute_result"
    }
   ],
   "source": [
    "from shenfun import *\n",
    "import matplotlib.pyplot as plt\n",
    "\n",
    "N = 10\n",
    "SD = FunctionSpace(N, 'C', basis='ShenDirichlet',quad=\"GL\")\n",
    "x = SD.mesh()\n",
    "u = TrialFunction(SD)\n",
    "v = TestFunction(SD)\n",
    "\n",
    "\n",
    "u1 = SD.evaluate_basis(x,i=1)\n",
    "v1 = SD.evaluate_basis(x,i=0)\n",
    "C = project(u1,SD)\n",
    "C"
   ]
  },
  {
   "cell_type": "code",
   "execution_count": 31,
   "metadata": {},
   "outputs": [
    {
     "data": {
      "text/plain": [
       "{0: array([4.71238898, 3.14159265, 3.14159265, 3.14159265, 3.14159265,\n",
       "        3.14159265, 3.14159265, 4.71238898]),\n",
       " 2: array([-1.57079633]),\n",
       " -2: array([-1.57079633])}"
      ]
     },
     "execution_count": 31,
     "metadata": {},
     "output_type": "execute_result"
    }
   ],
   "source": [
    "inner(u,v)._storage"
   ]
  },
  {
   "cell_type": "markdown",
   "metadata": {},
   "source": [
    "## Differentiation"
   ]
  },
  {
   "cell_type": "code",
   "execution_count": 47,
   "metadata": {},
   "outputs": [],
   "source": [
    "from shenfun import Dx\n",
    "T = FunctionSpace(12, 'Chebyshev')\n",
    "u = TrialFunction(T)\n",
    "v = TestFunction(T)\n",
    "uf = Function(T)\n",
    "ua = Array(T)\n",
    "A = inner(v, u)   # Mass matrix\n",
    "c = inner(v, ua)  # ok, a scalar product\n",
    "d = inner(v, uf)  # ok, a scalar product (slower than above)\n",
    "e = inner(1, ua)  # ok, non-weighted integral of ua over domain\n",
    "df = Dx(uf, 0, 1) # ok\n",
    "#da = Dx(ua, 0, 1) # Not ok"
   ]
  },
  {
   "cell_type": "code",
   "execution_count": 48,
   "metadata": {},
   "outputs": [
    {
     "data": {
      "text/plain": [
       "'\\\\frac{\\\\partial  u}{\\\\partial x  }'"
      ]
     },
     "execution_count": 48,
     "metadata": {},
     "output_type": "execute_result"
    }
   ],
   "source": [
    "dir(df)\n",
    "df.tolatex()\n",
    "#df.num_components()"
   ]
  },
  {
   "cell_type": "code",
   "execution_count": null,
   "metadata": {},
   "outputs": [],
   "source": []
  }
 ],
 "metadata": {
  "kernelspec": {
   "display_name": "Python 3",
   "language": "python",
   "name": "python3"
  },
  "language_info": {
   "codemirror_mode": {
    "name": "ipython",
    "version": 3
   },
   "file_extension": ".py",
   "mimetype": "text/x-python",
   "name": "python",
   "nbconvert_exporter": "python",
   "pygments_lexer": "ipython3",
   "version": "3.6.9"
  }
 },
 "nbformat": 4,
 "nbformat_minor": 4
}
