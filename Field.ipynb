{
 "cells": [
  {
   "cell_type": "code",
   "execution_count": 1,
   "metadata": {},
   "outputs": [
    {
     "name": "stdout",
     "output_type": "stream",
     "text": [
      "[[ 0.70807342  0.40342268 -0.40342268 -0.70807342]\n",
      " [ 0.54665063  0.31145254 -0.31145254 -0.54665063]\n",
      " [-0.         -0.          0.          0.        ]\n",
      " [-0.54665063 -0.31145254  0.31145254  0.54665063]\n",
      " [-0.70807342 -0.40342268  0.40342268  0.70807342]]\n",
      "[[ 0.70807342  0.40342268 -0.40342268 -0.70807342]\n",
      " [ 0.54665063  0.31145254 -0.31145254 -0.54665063]\n",
      " [ 0.          0.          0.          0.        ]\n",
      " [-0.54665063 -0.31145254  0.31145254  0.54665063]\n",
      " [-0.70807342 -0.40342268  0.40342268  0.70807342]]\n"
     ]
    }
   ],
   "source": [
    "import numpy as np\n",
    "from pypde.bases.chebyshev import *\n",
    "from numpy.linalg import solve\n",
    "from pypde.field import *\n",
    "from pypde.spectralspace import *\n",
    "import matplotlib.pyplot as plt    \n",
    "            \n",
    "N = 5\n",
    "shape = (N,N-1)\n",
    "field = SpectralField(N,\"CH\")\n",
    "field = SpectralField(shape,(\"CH\",\"CH\"))\n",
    "\n",
    "xx,yy = np.meshgrid(field.x,field.y,indexing=\"ij\")\n",
    "u = np.sin(xx)*np.sin(yy)\n",
    "\n",
    "print(u)\n",
    "uhat = field.forward(u)\n",
    "u = field.backward(uhat)\n",
    "field.check()\n",
    "print(u)"
   ]
  },
  {
   "cell_type": "code",
   "execution_count": 2,
   "metadata": {},
   "outputs": [
    {
     "ename": "NameError",
     "evalue": "name 'Field' is not defined",
     "output_type": "error",
     "traceback": [
      "\u001b[0;31m---------------------------------------------------------------------------\u001b[0m",
      "\u001b[0;31mNameError\u001b[0m                                 Traceback (most recent call last)",
      "\u001b[0;32m<ipython-input-2-add97189ec0d>\u001b[0m in \u001b[0;36m<module>\u001b[0;34m\u001b[0m\n\u001b[1;32m      1\u001b[0m \u001b[0mN\u001b[0m \u001b[0;34m=\u001b[0m \u001b[0;36m10\u001b[0m\u001b[0;34m\u001b[0m\u001b[0;34m\u001b[0m\u001b[0m\n\u001b[1;32m      2\u001b[0m \u001b[0mshape\u001b[0m \u001b[0;34m=\u001b[0m \u001b[0;34m(\u001b[0m\u001b[0mN\u001b[0m\u001b[0;34m,\u001b[0m\u001b[0mN\u001b[0m\u001b[0;34m)\u001b[0m\u001b[0;34m\u001b[0m\u001b[0;34m\u001b[0m\u001b[0m\n\u001b[0;32m----> 3\u001b[0;31m \u001b[0mfield\u001b[0m \u001b[0;34m=\u001b[0m \u001b[0mField\u001b[0m\u001b[0;34m(\u001b[0m\u001b[0mshape\u001b[0m\u001b[0;34m)\u001b[0m\u001b[0;34m\u001b[0m\u001b[0;34m\u001b[0m\u001b[0m\n\u001b[0m",
      "\u001b[0;31mNameError\u001b[0m: name 'Field' is not defined"
     ]
    }
   ],
   "source": [
    "N = 10\n",
    "shape = (N,N)\n",
    "field = Field(shape)"
   ]
  },
  {
   "cell_type": "code",
   "execution_count": 16,
   "metadata": {},
   "outputs": [
    {
     "data": {
      "text/plain": [
       "<matplotlib.image.AxesImage at 0x7f14b3a4a6a0>"
      ]
     },
     "execution_count": 16,
     "metadata": {},
     "output_type": "execute_result"
    },
    {
     "data": {
      "image/png": "[encoded data removed]",
      "text/plain": [
       "<Figure size 432x288 with 1 Axes>"
      ]
     },
     "metadata": {
      "needs_background": "light"
     },
     "output_type": "display_data"
    }
   ],
   "source": [
    "from pypde.bases.inner import *\n",
    "from pypde.bases import *\n",
    "from pypde.utils import *\n",
    "import matplotlib.pyplot as plt\n",
    "N = 10\n",
    "\n",
    "F = Fourier(N)\n",
    "F.k\n",
    "M = inner(F,F,w=\"NO\",D=(0,0))\n",
    "M = to_sparse(M).toarray()\n",
    "plt.spy(M)"
   ]
  },
  {
   "cell_type": "code",
   "execution_count": 2,
   "metadata": {},
   "outputs": [
    {
     "ename": "NameError",
     "evalue": "name 'M' is not defined",
     "output_type": "error",
     "traceback": [
      "\u001b[0;31m---------------------------------------------------------------------------\u001b[0m",
      "\u001b[0;31mNameError\u001b[0m                                 Traceback (most recent call last)",
      "\u001b[0;32m<ipython-input-2-1f0c5216a480>\u001b[0m in \u001b[0;36m<module>\u001b[0;34m\u001b[0m\n\u001b[0;32m----> 1\u001b[0;31m \u001b[0mnp\u001b[0m\u001b[0;34m.\u001b[0m\u001b[0mreal\u001b[0m\u001b[0;34m(\u001b[0m\u001b[0mM\u001b[0m\u001b[0;34m)\u001b[0m\u001b[0;34m\u001b[0m\u001b[0;34m\u001b[0m\u001b[0m\n\u001b[0m",
      "\u001b[0;31mNameError\u001b[0m: name 'M' is not defined"
     ]
    }
   ],
   "source": [
    "np.real(M)"
   ]
  },
  {
   "cell_type": "code",
   "execution_count": 9,
   "metadata": {},
   "outputs": [
    {
     "data": {
      "image/png": "[encoded data removed]",
      "text/plain": [
       "<Figure size 432x288 with 1 Axes>"
      ]
     },
     "metadata": {
      "needs_background": "light"
     },
     "output_type": "display_data"
    },
    {
     "data": {
      "text/plain": [
       "0.510204081632653"
      ]
     },
     "execution_count": 9,
     "metadata": {},
     "output_type": "execute_result"
    }
   ],
   "source": [
    "\n",
    "x = F.x\n",
    "y = F.get_basis_derivative(i=1,k=4)\n",
    "plt.plot(x,y)\n",
    "plt.show()\n",
    "\n",
    "y = np.real(y)\n",
    "inner(y,y,w=\"NO\")"
   ]
  },
  {
   "cell_type": "code",
   "execution_count": 4,
   "metadata": {},
   "outputs": [
    {
     "name": "stdout",
     "output_type": "stream",
     "text": [
      "[0 1 2 3] 3\n"
     ]
    },
    {
     "data": {
      "text/plain": [
       "array([[ 0. ,  0. ,  0. ,  0. ],\n",
       "       [ 0. ,  0.5,  0. ,  0. ],\n",
       "       [ 0. ,  0. ,  4. ,  0. ],\n",
       "       [ 0. ,  0. ,  0. , 13.5]])"
      ]
     },
     "execution_count": 4,
     "metadata": {},
     "output_type": "execute_result"
    }
   ],
   "source": [
    "from pypde.bases.inner import *\n",
    "from pypde.bases import *\n",
    "from pypde.utils import *\n",
    "import matplotlib.pyplot as plt\n",
    "N = 7\n",
    "\n",
    "F = Fourier(N)\n",
    "F.k\n",
    "y = np.sin(F.x)\n",
    "yhat = F.forward_fft(y)\n",
    "#print(yhat)\n",
    "yhat.size\n",
    "\n",
    "inner(F,F,D=(0,3))"
   ]
  },
  {
   "cell_type": "code",
   "execution_count": 25,
   "metadata": {},
   "outputs": [
    {
     "data": {
      "image/png": "[encoded data removed]",
      "text/plain": [
       "<Figure size 432x288 with 1 Axes>"
      ]
     },
     "metadata": {
      "needs_background": "light"
     },
     "output_type": "display_data"
    },
    {
     "data": {
      "text/plain": [
       "0.5050505062949441"
      ]
     },
     "execution_count": 25,
     "metadata": {},
     "output_type": "execute_result"
    }
   ],
   "source": [
    "x = F.x\n",
    "y = F.get_basis_derivative(i=1,k=4)\n",
    "y = F.derivative(y,deriv=4,method=\"dm\")\n",
    "plt.plot(x,y)\n",
    "plt.show()\n",
    "\n",
    "y = np.real(y)\n",
    "inner(y,y,w=\"NO\")"
   ]
  },
  {
   "cell_type": "code",
   "execution_count": 56,
   "metadata": {},
   "outputs": [
    {
     "name": "stdout",
     "output_type": "stream",
     "text": [
      "[-2.43492987e-11  9.65273059e-13  2.02400517e-01 -1.71323188e-14\n",
      " -1.13447626e-02 -3.90238532e-15  2.41831454e-04  5.10152182e-15\n",
      " -2.71718889e-06 -2.23193579e-15  1.88588290e-08  4.36906587e-16\n",
      " -8.88976205e-11  2.10077074e-18  3.03205599e-13  6.68589837e-17\n",
      " -7.56666082e-16 -2.39353375e-16 -4.91744500e-17  1.79041823e-16\n",
      " -1.06343756e-16 -2.06255975e-17  2.82924257e-17  2.79962503e-17\n",
      " -1.07882822e-16 -2.77678222e-17  1.96138523e-16 -4.09090726e-17\n",
      " -2.20346407e-16  1.21578792e-17  2.78692090e-16  5.63963219e-17\n",
      " -3.60335093e-16 -4.37424194e-17  2.00761354e-16 -1.91396937e-17\n",
      "  4.82642135e-17  2.03124577e-17 -1.58207858e-16 -1.32761155e-17\n",
      "  1.24977275e-16  1.57735778e-17 -1.39206839e-16 -1.17447810e-17\n",
      "  3.62023200e-17  4.06976736e-18  7.84336721e-17  2.87265101e-18\n",
      " -2.54016241e-17 -9.24236752e-18]\n"
     ]
    },
    {
     "data": {
      "image/png": "[encoded data removed]",
      "text/plain": [
       "<Figure size 432x288 with 1 Axes>"
      ]
     },
     "metadata": {
      "needs_background": "light"
     },
     "output_type": "display_data"
    }
   ],
   "source": [
    "N = 50\n",
    "C = Chebyshev(N)\n",
    "x = C.x\n",
    "D2 = C.spec_deriv_mat(2)\n",
    "\n",
    "arg = 1*np.pi/2\n",
    "f = np.cos(arg*x)\n",
    "fsol = -arg**-2*np.cos(1*np.pi/2*x)\n",
    "\n",
    "fhat = C.forward_fft(f)\n",
    "\n",
    "chat = np.zeros(f.size)\n",
    "chat[:] = np.linalg.lstsq(D2[:,:],fhat[:],rcond=None)[0]\n",
    "print(chat)\n",
    "c = C.backward_fft(chat)\n",
    "c -= np.average(c)\n",
    "\n",
    "\n",
    "plt.plot(x,f)\n",
    "fsol -= np.average(fsol)\n",
    "plt.plot(x,fsol,\"r--\")\n",
    "plt.plot(x,c)\n",
    "plt.show()"
   ]
  },
  {
   "cell_type": "code",
   "execution_count": 36,
   "metadata": {},
   "outputs": [
    {
     "data": {
      "text/plain": [
       "[<matplotlib.lines.Line2D at 0x7fe5b0428470>]"
      ]
     },
     "execution_count": 36,
     "metadata": {},
     "output_type": "execute_result"
    },
    {
     "data": {
      "image/png": "[encoded data removed]",
      "text/plain": [
       "<Figure size 432x288 with 1 Axes>"
      ]
     },
     "metadata": {
      "needs_background": "light"
     },
     "output_type": "display_data"
    }
   ],
   "source": [
    "plt.plot(x,C.get_basis(i=2))"
   ]
  },
  {
   "cell_type": "code",
   "execution_count": 14,
   "metadata": {},
   "outputs": [
    {
     "data": {
      "text/plain": [
       "array([-3.04242178e-01,  1.13720761e-17, -9.70867865e-01,  2.15876699e-17,\n",
       "        3.02849144e-01, -2.46716228e-17, -2.90911557e-02,  9.86864911e-17,\n",
       "        1.35205405e-03,  0.00000000e+00])"
      ]
     },
     "execution_count": 14,
     "metadata": {},
     "output_type": "execute_result"
    }
   ],
   "source": [
    "fhat"
   ]
  },
  {
   "cell_type": "code",
   "execution_count": 64,
   "metadata": {},
   "outputs": [
    {
     "data": {
      "text/plain": [
       "array([[ 0.41666667,  0.        , -0.16666667,  0.        ],\n",
       "       [ 0.        ,  0.10416667,  0.        , -0.0625    ],\n",
       "       [-0.02083333,  0.        ,  0.02083333,  0.        ],\n",
       "       [ 0.        , -0.0125    ,  0.        ,  0.0125    ]])"
      ]
     },
     "execution_count": 64,
     "metadata": {},
     "output_type": "execute_result"
    }
   ],
   "source": [
    "N = 6\n",
    "C = Chebyshev(N)\n",
    "CD = ChebDirichlet(N)\n",
    "\n",
    "B = C.B(2)\n",
    "S = CD.S\n",
    "\n",
    "(B@S)[2:,:]"
   ]
  },
  {
   "cell_type": "code",
   "execution_count": 63,
   "metadata": {},
   "outputs": [
    {
     "data": {
      "text/plain": [
       "array([[ 0.41666667,  0.        , -0.16666667,  0.        ],\n",
       "       [ 0.        ,  0.10416667,  0.        , -0.0625    ],\n",
       "       [-0.02083333,  0.        ,  0.02083333,  0.        ],\n",
       "       [ 0.        , -0.0125    ,  0.        ,  0.0125    ]])"
      ]
     },
     "execution_count": 63,
     "metadata": {},
     "output_type": "execute_result"
    }
   ],
   "source": [
    "B = B[2:,:]\n",
    "B@S"
   ]
  },
  {
   "cell_type": "code",
   "execution_count": 60,
   "metadata": {},
   "outputs": [
    {
     "data": {
      "text/plain": [
       "(6, 6)"
      ]
     },
     "execution_count": 60,
     "metadata": {},
     "output_type": "execute_result"
    }
   ],
   "source": [
    "B.shape"
   ]
  },
  {
   "cell_type": "code",
   "execution_count": 61,
   "metadata": {},
   "outputs": [
    {
     "data": {
      "text/plain": [
       "(6, 4)"
      ]
     },
     "execution_count": 61,
     "metadata": {},
     "output_type": "execute_result"
    }
   ],
   "source": [
    "S.shape"
   ]
  },
  {
   "cell_type": "code",
   "execution_count": null,
   "metadata": {},
   "outputs": [],
   "source": []
  }
 ],
 "metadata": {
  "kernelspec": {
   "display_name": "Python 3",
   "language": "python",
   "name": "python3"
  },
  "language_info": {
   "codemirror_mode": {
    "name": "ipython",
    "version": 3
   },
   "file_extension": ".py",
   "mimetype": "text/x-python",
   "name": "python",
   "nbconvert_exporter": "python",
   "pygments_lexer": "ipython3",
   "version": "3.6.9"
  }
 },
 "nbformat": 4,
 "nbformat_minor": 4
}
