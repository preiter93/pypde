{
 "cells": [
  {
   "cell_type": "markdown",
   "metadata": {},
   "source": [
    "### Solve $Ax = b$"
   ]
  },
  {
   "cell_type": "code",
   "execution_count": 1,
   "metadata": {},
   "outputs": [],
   "source": [
    "import numpy as np \n",
    "import scipy.sparse as sp\n",
    "import matplotlib.pyplot as plt\n",
    "\n",
    "A = np.array([[1,2,3],[0,4,5],[0,0,7]])\n",
    "b = np.array([10,11,12])"
   ]
  },
  {
   "cell_type": "markdown",
   "metadata": {},
   "source": [
    "## 1D"
   ]
  },
  {
   "cell_type": "code",
   "execution_count": 2,
   "metadata": {},
   "outputs": [
    {
     "name": "stdout",
     "output_type": "stream",
     "text": [
      "[3.64285714 0.60714286 1.71428571]\n"
     ]
    }
   ],
   "source": [
    "x = np.linalg.solve(A,b)\n",
    "assert np.allclose(A@x,b)\n",
    "print(x)"
   ]
  },
  {
   "cell_type": "markdown",
   "metadata": {},
   "source": [
    "## 2D"
   ]
  },
  {
   "cell_type": "code",
   "execution_count": 3,
   "metadata": {},
   "outputs": [
    {
     "name": "stdout",
     "output_type": "stream",
     "text": [
      "[[4.28571429 4.71428571 5.14285714]\n",
      " [0.71428571 0.78571429 0.85714286]\n",
      " [1.42857143 1.57142857 1.71428571]]\n"
     ]
    }
   ],
   "source": [
    "b3 = np.array([[10,10,10],[11,11,11],[12,12,12]])\n",
    "# axis 0\n",
    "x = np.linalg.solve(A,b3)\n",
    "assert np.allclose(A@x,b3)\n",
    "\n",
    "# axis 1\n",
    "x = np.linalg.solve(A,b3.T)\n",
    "print(x)\n",
    "assert np.allclose(x.T@A.T,b3)"
   ]
  },
  {
   "cell_type": "code",
   "execution_count": 4,
   "metadata": {},
   "outputs": [],
   "source": [
    "class MatrixBase():\n",
    "    ''' \n",
    "    Store Scalars/Matrices and Information along which axis they\n",
    "    should be multiplied.\n",
    "    \n",
    "    Input\n",
    "        A: scalar or ndarray\n",
    "        axis: int\n",
    "            Defines along which axis PM should be applied\n",
    "        \n",
    "    '''\n",
    "    scalar = False\n",
    "    def __init__(self,A,axis=0,sparse=False):\n",
    "        self.sparse = sparse\n",
    "        self.axis = axis\n",
    "        \n",
    "        # Input is a scalar\n",
    "        if isinstance(A,float) or isinstance(A,int):\n",
    "            self.A = float(A)\n",
    "            self.scalar=True\n",
    "            \n",
    "        # Input is a Matrix\n",
    "        elif not sp.issparse(A) and sparse:\n",
    "            self.A = sp.csr_matrix(A)\n",
    "        elif sp.issparse(A) and not sparse:\n",
    "            self.A = self.A.toarray()\n",
    "        else:\n",
    "            self.A = A\n",
    "            \n",
    "        \n",
    "        # Store Transpose if axis ==1\n",
    "        if self.axis==1 and not self.scalar:\n",
    "            if self.sparse:\n",
    "                self.AT = sp.csr_matrix(\n",
    "                    self.A.toarray().T)\n",
    "            else:\n",
    "                self.AT = self.A.T\n",
    "                \n",
    "        # Define matrix multiplication\n",
    "        if self.scalar:\n",
    "            self.dot = self.dot_sc\n",
    "        else:\n",
    "            self.dot = self.dot_mm\n",
    "            \n",
    "            \n",
    "    def dot_mm(self,b):\n",
    "        if self.axis==0:\n",
    "            return self.A@b\n",
    "        else:\n",
    "            return b@self.AT\n",
    "        \n",
    "    def dot_sc(self,b):\n",
    "        return self.A*b\n",
    "    \n",
    "class MatrixRHS(MatrixBase):\n",
    "    def __init__(self,A,axis=0):\n",
    "        MatrixBase.__init__(self,A,axis,sparse=True)            \n",
    "                \n",
    "        \n",
    "class RHSExplicit():\n",
    "    '''\n",
    "    Class handles rhs (b) of the system of equations:\n",
    "        Ax = b\n",
    "    or\n",
    "        Ax = PM@b\n",
    "    when premultiply is specified\n",
    "        \n",
    "    Input:\n",
    "        b: ndarray (ndim)\n",
    "            Add rhs part b. More b's can be added by self.add(b).\n",
    "        premultiply: MatrixBase (optional) \n",
    "            Premultiply rhs at each step with sparse Matrix or scalar.\n",
    "            More can be added via self.add_PM(PM).\n",
    "    \n",
    "    Use:\n",
    "        >>> b = np.array([1,2,3])\n",
    "        >>> P = np.array([[1,2,3],[4,5,6],[7,8,9]])\n",
    "        >>> PM = MatrixRHS(P,axis=0)\n",
    "        >>> R = RHSExplicit(b)\n",
    "        >>> R.add_PM(PM)\n",
    "        >>> R.rhs\n",
    "        >>> array([14, 32, 50]) # = P@b\n",
    "    '''\n",
    "    def __init__(self,b,premultiply=None):\n",
    "        self._b = b\n",
    "        self.ndim = b.ndim\n",
    "        self.PM = []\n",
    "        if premultiply is not None:\n",
    "            self.add_PM(premultiply)\n",
    "            \n",
    "    @property    \n",
    "    def b(self):\n",
    "        return self._b\n",
    "    \n",
    "    @b.setter\n",
    "    def b(self,value):\n",
    "        self._b = value\n",
    "        \n",
    "    def add(self, b):\n",
    "        assert b.ndim == self.ndim\n",
    "        self.b += b\n",
    "    \n",
    "    def add_PM(self,PM):\n",
    "        assert isinstance(PM,MatrixBase), \"PM must be instance Matrixbase\"\n",
    "        assert PM.sparse, \"PM must be sparse\"\n",
    "        self.PM.append(PM)\n",
    "    \n",
    "    @property\n",
    "    def rhs(self):\n",
    "        if self.PM:\n",
    "            x = self.b\n",
    "            for P in self.PM:\n",
    "                x = P.dot(x)\n",
    "            return x \n",
    "        return self.b\n"
   ]
  },
  {
   "cell_type": "code",
   "execution_count": 5,
   "metadata": {},
   "outputs": [
    {
     "data": {
      "text/plain": [
       "array([14, 32, 50])"
      ]
     },
     "execution_count": 5,
     "metadata": {},
     "output_type": "execute_result"
    }
   ],
   "source": [
    "b = np.array([1,2,3])\n",
    "\n",
    "P = np.array([[1,2,3],[4,5,6],[7,8,9]])\n",
    "\n",
    "PM = MatrixRHS(P,axis=0)\n",
    "R = RHSExplicit(b)\n",
    "R.add_PM(PM)\n",
    "R.rhs\n",
    "\n",
    "assert np.allclose(R.rhs,P@b)\n",
    "P@b"
   ]
  },
  {
   "cell_type": "code",
   "execution_count": 20,
   "metadata": {},
   "outputs": [],
   "source": [
    "from scipy.linalg import solve_triangular as sp_triangular\n",
    "from pypde.solver.fortran import linalg as lafort\n",
    "\n",
    "class MatrixLHS(MatrixBase):\n",
    "    '''\n",
    "    Extends MatrixBase and adds functionality to solve\n",
    "        Ax = b\n",
    "    where the type of solver should be chosen by the \n",
    "    type of matrix A.\n",
    "    \n",
    "    Input:\n",
    "        See MatrixBase\n",
    "        \n",
    "        ndim: int\n",
    "            Dimensionality of rhs b\n",
    "            \n",
    "        axis: int\n",
    "            Axis along which A should act on b\n",
    "        \n",
    "        solver: str (default='solve')\n",
    "            'solve' : General solver np.linalg.solver(A,b)\n",
    "            'diag'  :  A is filled only on the main diagonal\n",
    "            'uptria':  A is upper triangular\n",
    "            'uptria2': A is upper triangular with 1 lower\n",
    "                subdiagonal shifted by 2. Arising in HelmholtzProblem\n",
    "            \n",
    "    '''\n",
    "    all_methods = [\n",
    "        \"solve\",\n",
    "        \"uptria\",\n",
    "    ]\n",
    "    def __init__(self,A,ndim,axis,sparse=False,solver=\"solve\"):\n",
    "        MatrixBase.__init__(self,A,axis,sparse=sparse)\n",
    "        self.solver = solver\n",
    "        self.ndim = ndim\n",
    "        self.set_subsolver()\n",
    "        \n",
    "        assert solver in self.all_methods, \"Solver type not found!\"\n",
    "        if solver in [\"solve\"]:\n",
    "            self.solve = self.solver_solve\n",
    "        if solver in [\"uptria\"]:\n",
    "            self.solve = self.solve_uptria\n",
    "        \n",
    "\n",
    "    def solver_solve(self,b):\n",
    "        assert self.ndim == b.ndim, \"Dimensionality mismatch in MatrixLHS. Check ndim.\"\n",
    "        if self.axis==0:\n",
    "            return np.linalg.solve(self.A,b)\n",
    "        elif self.axis==1:\n",
    "            assert b.ndim > 1\n",
    "            return np.linalg.solve(self.A,b.T)\n",
    "        \n",
    "    def solve_uptria(self,b):\n",
    "        #solve_triangular = sp_triangular\n",
    "            \n",
    "        if self.axis==0:\n",
    "            return self._triangular(self.A, b)\n",
    "        if self.axis==1:\n",
    "            assert b.ndim > 1\n",
    "            return self._triangular(self.A, b.T)\n",
    "        \n",
    "    def set_subsolver(self):\n",
    "        if self.ndim==1:\n",
    "            self._triangular = lafort.triangular.solve_1d\n",
    "        elif self.ndim == 2:\n",
    "            self._triangular = lafort.triangular.solve_2d\n",
    "        \n",
    "        \n",
    "class LHSImplicit():\n",
    "    '''\n",
    "    Class handles lhs (A) of the system of equations:\n",
    "        Ax = b\n",
    "    and defines which strategy should be used to solve\n",
    "    the system of equations.\n",
    "    \n",
    "    Input\n",
    "        A: MatrixLHS (optional) \n",
    "            Contains lhs matrices and information about the solver strategy.\n",
    "            Additional lhs' can be added using LHSImplicit.add(A)\n",
    "    \n",
    "    Use\n",
    "        >>> A = np.array([[1,2,3],[0,4,5],[0,0,7]])\n",
    "        >>> b = np.array([[10,10,10],[11,11,11],[12,12,12]])\n",
    "        >>> MA = MatrixLHS(A,ndim=2,axis=0,solver=\"uptria\")\n",
    "        >>> L = LHSImplicit(MA)\n",
    "        >>> L.solve(b)\n",
    "        >>> assert np.allclose(x,np.linalg.solve(A,b))\n",
    "    '''\n",
    "    \n",
    "    def __init__(self,A=None):\n",
    "        self.A = []\n",
    "        if A is not None:\n",
    "            self.add(A)\n",
    "        \n",
    "    def add(self,A):\n",
    "        assert isinstance(A,MatrixLHS), \"PM must be instance MatrixLHS\"\n",
    "        self.A.append(A)\n",
    "        \n",
    "    def solve(self,b):\n",
    "        if self.A:\n",
    "            for a in self.A:\n",
    "                b = a.solve(b)\n",
    "        return b\n",
    "        "
   ]
  },
  {
   "cell_type": "code",
   "execution_count": 25,
   "metadata": {},
   "outputs": [],
   "source": [
    "A = np.array([[1,2,3],[0,4,5],[0,0,7]])\n",
    "b = np.array([10,11,12])\n",
    "b = np.array([[10,10,10],[11,11,11],[12,12,12]])\n",
    "\n",
    "MA = MatrixLHS(A,ndim=2,axis=0,solver=\"uptria\")\n",
    "L = LHSImplicit(MA)\n",
    "x = L.solve(b)\n",
    "assert np.allclose(x,np.linalg.solve(A,b))\n",
    "#np.linalg.solve(A,b)"
   ]
  },
  {
   "cell_type": "code",
   "execution_count": 1,
   "metadata": {},
   "outputs": [],
   "source": [
    "import numpy as np \n",
    "import matplotlib.pyplot as plt\n",
    "from pypde.field import Field\n",
    "from pypde.utils.memoize import memoized\n",
    "from pypde.bases.chebyshev import Chebyshev, ChebDirichlet\n",
    "from pypde.solver.matrix import *\n",
    "from pypde.solver.operator import *\n",
    "from pypde.solver.base import SolverBase\n",
    "        \n",
    "class Diffusion1D(SolverBase):\n",
    "    CONFIG={\n",
    "        \"N\": 50,\n",
    "        \"kappa\": 1.0,\n",
    "        \"tsave\": 0.01,\n",
    "        \"dt\": 0.2,\n",
    "        \"ndim\": 1,\n",
    "    }\n",
    "    def __init__(self,**kwargs):\n",
    "        SolverBase.__init__(self)\n",
    "        self.__dict__.update(**self.CONFIG)\n",
    "        self.update_config(**kwargs)\n",
    "        \n",
    "        \n",
    "        self.field = Field(self.N)   # Field variable\n",
    "        self.time = 0.0              # Time\n",
    "        self.xf = ChebDirichlet(self.N+2,bc=(0,0))   # Basis in x\n",
    "        self.x  = self.xf.x          # X-coordinates\n",
    "    \n",
    "    @property\n",
    "    def v(self):\n",
    "        '''  Main variable (dv/dt) '''\n",
    "        return self.field.v\n",
    "    \n",
    "    @v.setter\n",
    "    def v(self,value):\n",
    "        self.field.v = value\n",
    "        \n",
    "    @property\n",
    "    @memoized\n",
    "    def LHS(self):\n",
    "        '''\n",
    "        (I-alpha*dt*D2) u = rhs\n",
    "        '''\n",
    "        D2 = self.xf.stiff.toarray()\n",
    "        M  = self.xf.mass.toarray()\n",
    "        A = M - self.dt*(self.kappa*D2)\n",
    "        A = MatrixLHS(A,ndim=self.ndim,axis=0,solver=\"uptria2\")\n",
    "        return LHSImplicit(A)\n",
    "    \n",
    "    @property\n",
    "    @memoized\n",
    "    def RHS(self):\n",
    "        '''\n",
    "        lhs = dt*f + u\n",
    "        only dt*f is stored initially, u is updated in update()\n",
    "        '''\n",
    "        M  = self.xf.mass.toarray()\n",
    "        fhat = self.dt*self.xf.forward_fft(self._f())\n",
    "        \n",
    "        b = RHSExplicit(f=fhat)\n",
    "        b.add_PM(MatrixRHS(M,axis=0))\n",
    "        return b\n",
    "        \n",
    "    def _f(self):\n",
    "        ''' Forcing Functions'''\n",
    "        return np.cos(1*np.pi/2*self.x)\n",
    "        \n",
    "        \n",
    "    def update_config(self,**kwargs):\n",
    "        self.__dict__.update(**kwargs)\n",
    "        \n",
    "    def set_bc(self):\n",
    "        self.v[ [-2,-1] ] = 0.0\n",
    "        \n",
    "    def update(self):\n",
    "        ''' \n",
    "        Update pde by 1 timestep \n",
    "        '''\n",
    "        self.set_bc()\n",
    "        self.RHS.b = self.v\n",
    "        self.v = self.LHS.solve(self.RHS.rhs)\n",
    "        self.update_time()\n",
    "        \n"
   ]
  },
  {
   "cell_type": "code",
   "execution_count": 6,
   "metadata": {},
   "outputs": [
    {
     "name": "stdout",
     "output_type": "stream",
     "text": [
      "Time: 0.100\n",
      "Time: 0.200\n",
      "Time: 0.300\n",
      "Time: 0.400\n",
      "Time: 0.500\n",
      "Time: 0.600\n",
      "Time: 0.700\n",
      "Time: 0.800\n",
      "Time: 0.900\n",
      "Time: 1.000\n",
      "Time: 1.100\n",
      "Save animation to out/anim.mp4\n"
     ]
    },
    {
     "data": {
      "image/png": "[encoded data removed]",
      "text/plain": [
       "<Figure size 432x288 with 1 Axes>"
      ]
     },
     "metadata": {
      "needs_background": "light"
     },
     "output_type": "display_data"
    }
   ],
   "source": [
    "D = Diffusion1D(N=100,dt=0.1,tsave=0.1)\n",
    "#D.update()\n",
    "\n",
    "D.iterate(1)\n",
    "# # Transfer stored fields to real space\n",
    "for i,vv in enumerate(D.field.V):\n",
    "    D.field.V[i] = D.xf.backward_fft(vv)\n",
    "\n",
    "anim = D.field.animate(D.x,duration=4)\n",
    "plt.show()"
   ]
  },
  {
   "cell_type": "code",
   "execution_count": 3,
   "metadata": {},
   "outputs": [
    {
     "data": {
      "text/plain": [
       "array([[ 1.900e+00,  0.000e+00, -1.000e-01, ...,  0.000e+00,  4.000e-01,\n",
       "         0.000e+00],\n",
       "       [ 0.000e+00,  2.200e+00,  0.000e+00, ...,  8.000e-01,  0.000e+00,\n",
       "         8.000e-01],\n",
       "       [-5.000e-01,  0.000e+00,  3.400e+00, ...,  0.000e+00,  1.200e+00,\n",
       "         0.000e+00],\n",
       "       ...,\n",
       "       [ 0.000e+00,  0.000e+00,  0.000e+00, ...,  4.714e+02,  0.000e+00,\n",
       "         1.870e+01],\n",
       "       [ 0.000e+00,  0.000e+00,  0.000e+00, ...,  0.000e+00,  4.910e+02,\n",
       "         0.000e+00],\n",
       "       [ 0.000e+00,  0.000e+00,  0.000e+00, ..., -5.000e-01,  0.000e+00,\n",
       "         5.115e+02]])"
      ]
     },
     "execution_count": 3,
     "metadata": {},
     "output_type": "execute_result"
    },
    {
     "data": {
      "image/png": "[encoded data removed]",
      "text/plain": [
       "<Figure size 432x288 with 1 Axes>"
      ]
     },
     "metadata": {
      "needs_background": "light"
     },
     "output_type": "display_data"
    }
   ],
   "source": [
    "plt.spy(D.LHS.A[0].A)\n",
    "D.LHS.A[0].A"
   ]
  },
  {
   "cell_type": "code",
   "execution_count": 18,
   "metadata": {},
   "outputs": [],
   "source": [
    "import numpy as np \n",
    "import matplotlib.pyplot as plt\n",
    "from pypde.field import Field\n",
    "from pypde.utils.memoize import memoized\n",
    "from pypde.bases.chebyshev import Chebyshev, ChebDirichlet\n",
    "from pypde.solver.matrix import *\n",
    "from pypde.solver.operator import *\n",
    "from pypde.solver.base import SolverBase\n",
    "\n",
    "class Diffusion2D(SolverBase):\n",
    "    CONFIG={\n",
    "        \"N\": 50,\n",
    "        \"kappa\": 1.0,\n",
    "        \"tsave\": 0.01,\n",
    "        \"dt\": 0.2,\n",
    "        \"ndim\": 2,\n",
    "    }\n",
    "    def __init__(self,**kwargs):\n",
    "        SolverBase.__init__(self)\n",
    "        self.__dict__.update(**self.CONFIG)\n",
    "        self.update_config(**kwargs)\n",
    "        \n",
    "        shape = (self.N,self.N)\n",
    "        self.field = Field(shape)   # Field variable\n",
    "        self.time = 0.0              # Time\n",
    "        self.xf = ChebDirichlet(self.N+2,bc=(0,0))   # Basis in x\n",
    "        self.x  = self.xf.x          # X-coordinates\n",
    "    \n",
    "    @property\n",
    "    def v(self):\n",
    "        '''  Main variable (dv/dt) '''\n",
    "        return self.field.v\n",
    "    \n",
    "    @v.setter\n",
    "    def v(self,value):\n",
    "        self.field.v = value\n",
    "        \n",
    "    @property\n",
    "    @memoized\n",
    "    def LHS(self):\n",
    "        '''\n",
    "        (I-alpha*dt*D2) u = rhs\n",
    "        '''\n",
    "        D2 = self.xf.stiff.toarray()\n",
    "        M  = self.xf.mass.toarray()\n",
    "        A = M - self.dt*(self.kappa*D2)\n",
    "        A1 = MatrixLHS(A,ndim=self.ndim,axis=0,solver=\"uptria2\")\n",
    "        LHS = LHSImplicit(A1)\n",
    "        A2 = MatrixLHS(A,ndim=self.ndim,axis=1,solver=\"uptria2\")\n",
    "        LHS.add(A2)\n",
    "        return LHS\n",
    "    \n",
    "    @property\n",
    "    @memoized\n",
    "    def RHS(self):\n",
    "        '''\n",
    "        lhs = dt*f + u\n",
    "        only dt*f is stored initially, u is updated in update()\n",
    "        '''\n",
    "        M  = self.xf.mass.toarray()\n",
    "        fhat = self._f()\n",
    "        fhat = self.xf.forward_fft(self._f())\n",
    "        fhat = self.xf.forward_fft(fhat.T).T\n",
    "        fhat *= self.dt\n",
    "        \n",
    "        b = RHSExplicit(f=fhat)\n",
    "        b.add_PM(MatrixRHS(M,axis=0))\n",
    "        b.add_PM(MatrixRHS(M,axis=1))\n",
    "        return b\n",
    "        \n",
    "    def _f(self):\n",
    "        ''' Forcing Functions'''\n",
    "        xx,yy = np.meshgrid(self.x,self.x)\n",
    "        return np.cos(1*np.pi/2*xx)*np.cos(1*np.pi/2*yy)\n",
    "        \n",
    "    def update_config(self,**kwargs):\n",
    "        self.__dict__.update(**kwargs)\n",
    "        \n",
    "    def set_bc(self):\n",
    "        self.v[ [-2,-1] ] = 0.0\n",
    "        \n",
    "    def update(self):\n",
    "        ''' \n",
    "        Update pde by 1 timestep \n",
    "        '''\n",
    "        self.set_bc()\n",
    "        self.RHS.b = self.v\n",
    "        self.v = self.LHS.solve(self.RHS.rhs)\n",
    "        self.update_time()\n",
    "        "
   ]
  },
  {
   "cell_type": "code",
   "execution_count": 19,
   "metadata": {},
   "outputs": [
    {
     "name": "stdout",
     "output_type": "stream",
     "text": [
      "Time: 0.050\n",
      "Time: 0.100\n",
      "Time: 0.150\n",
      "Time: 0.200\n",
      "Time: 0.250\n",
      "Time: 0.300\n",
      "Time: 0.350\n",
      "Time: 0.400\n",
      "Time: 0.450\n",
      "Time: 0.500\n",
      "Time: 0.550\n",
      "Time: 0.600\n",
      "Time: 0.650\n",
      "Time: 0.700\n",
      "Time: 0.750\n",
      "Time: 0.800\n",
      "Time: 0.850\n",
      "Time: 0.900\n",
      "Time: 0.950\n",
      "Time: 1.000\n",
      "CPU times: user 2min 1s, sys: 536 ms, total: 2min 2s\n",
      "Wall time: 2min 1s\n"
     ]
    }
   ],
   "source": [
    "%%time\n",
    "\n",
    "D = Diffusion2D(N=600,dt=0.001,tsave=0.05)\n",
    "D.update()\n",
    "D.iterate(1.0)"
   ]
  },
  {
   "cell_type": "code",
   "execution_count": 17,
   "metadata": {},
   "outputs": [
    {
     "name": "stdout",
     "output_type": "stream",
     "text": [
      "Time: 0.050\n",
      "Time: 0.100\n",
      "Time: 0.150\n",
      "Time: 0.200\n",
      "Time: 0.250\n",
      "Time: 0.300\n",
      "Time: 0.350\n",
      "Time: 0.400\n",
      "Time: 0.450\n",
      "Time: 0.500\n",
      "Time: 0.550\n",
      "Time: 0.600\n",
      "Time: 0.650\n",
      "Time: 0.700\n",
      "Time: 0.750\n",
      "Time: 0.800\n",
      "Time: 0.850\n",
      "Time: 0.900\n",
      "Time: 0.950\n",
      "Time: 1.000\n",
      "CPU times: user 3min 15s, sys: 42 s, total: 3min 57s\n",
      "Wall time: 1min 6s\n"
     ]
    }
   ],
   "source": [
    "%%time\n",
    "\n",
    "D = Diffusion2D(N=600,dt=0.001,tsave=0.05)\n",
    "D.update()\n",
    "D.iterate(1.0)\n",
    "#print(D.v)"
   ]
  },
  {
   "cell_type": "code",
   "execution_count": 3,
   "metadata": {},
   "outputs": [
    {
     "name": "stdout",
     "output_type": "stream",
     "text": [
      "Save animation to out/anim.mp4\n"
     ]
    },
    {
     "data": {
      "image/png": "[encoded data removed]",
      "text/plain": [
       "<Figure size 432x288 with 1 Axes>"
      ]
     },
     "metadata": {
      "needs_background": "light"
     },
     "output_type": "display_data"
    }
   ],
   "source": [
    "# # Transfer stored fields to real space\n",
    "for i,vv in enumerate(D.field.V):\n",
    "    D1 = D.xf.backward_fft(vv)\n",
    "    D.field.V[i] = D.xf.backward_fft(D1.T).T\n",
    "\n",
    "anim = D.field.animate(D.x,duration=4)\n",
    "plt.show()"
   ]
  },
  {
   "cell_type": "code",
   "execution_count": null,
   "metadata": {},
   "outputs": [],
   "source": []
  }
 ],
 "metadata": {
  "kernelspec": {
   "display_name": "Python 3",
   "language": "python",
   "name": "python3"
  },
  "language_info": {
   "codemirror_mode": {
    "name": "ipython",
    "version": 3
   },
   "file_extension": ".py",
   "mimetype": "text/x-python",
   "name": "python",
   "nbconvert_exporter": "python",
   "pygments_lexer": "ipython3",
   "version": "3.6.9"
  }
 },
 "nbformat": 4,
 "nbformat_minor": 4
}
