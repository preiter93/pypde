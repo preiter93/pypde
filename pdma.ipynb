{
 "cells": [
  {
   "cell_type": "code",
   "execution_count": 35,
   "id": "f0951c6c",
   "metadata": {},
   "outputs": [],
   "source": [
    "import numpy as np \n",
    "\n",
    "class PDMA:\n",
    "    \"\"\"Pentadiagonal matrix solver\n",
    "    Parameters\n",
    "    ----------\n",
    "        mat : SparseMatrix\n",
    "            Pentadiagonal matrix with diagonals in offsets\n",
    "            -4, -2, 0, 2, 4\n",
    "        neumann : bool, optional\n",
    "            Whether matrix represents a Neumann problem, where\n",
    "            the first index is known as the mean value and we\n",
    "            solve for slice(1, N-3).\n",
    "            If `mat` is a :class:`.SpectralMatrix`, then the\n",
    "            `neumann` keyword is ignored and the information\n",
    "            extracted from the matrix.\n",
    "    \"\"\"\n",
    "\n",
    "    def __init__(self, mat, neumann=False):\n",
    "        self.mat = mat\n",
    "        self.N = 0\n",
    "        self.d0 = np.zeros(0)\n",
    "        self.d1 = None\n",
    "        self.d2 = None\n",
    "        self.A = None\n",
    "        self.L = None\n",
    "        self.neumann = neumann\n",
    "\n",
    "    def init(self):\n",
    "        \"\"\"Initialize and allocate solver\"\"\"\n",
    "        B = self.mat\n",
    "        shape = self.mat.shape[1]\n",
    "        # Broadcast in case diagonal is simply a constant.\n",
    "        self.d0 = np.broadcast_to(np.diag(B,0), shape).copy()#*B.scale\n",
    "        self.d1 = np.broadcast_to(np.diag(B,2), shape-2).copy()#*B.scale\n",
    "        self.d2 = np.broadcast_to(np.diag(B,4), shape-4).copy()#*B.scale\n",
    "        if self.neumann:\n",
    "            self.d0[0] = 1\n",
    "            self.d1[0] = 0\n",
    "            self.d2[0] = 0\n",
    "        self.l1 = np.broadcast_to(np.diag(B,-2), shape-2).copy()#*B.scale\n",
    "        self.l2 = np.broadcast_to(np.diag(B,-4), shape-4).copy()#*B.scale\n",
    "        self.PDMA_LU(self.l2, self.l1, self.d0, self.d1, self.d2)\n",
    "            \n",
    "    @staticmethod\n",
    "    def PDMA_LU(a, b, d, e, f): # pragma: no cover\n",
    "        \"\"\"LU decomposition\"\"\"\n",
    "        n = d.shape[0]\n",
    "        m = e.shape[0]\n",
    "        k = n - m\n",
    "\n",
    "        for i in range(n-2*k):\n",
    "            lam = b[i]/d[i]\n",
    "            d[i+k] -= lam*e[i]\n",
    "            e[i+k] -= lam*f[i]\n",
    "            b[i] = lam\n",
    "            lam = a[i]/d[i]\n",
    "            b[i+k] -= lam*e[i]\n",
    "            d[i+2*k] -= lam*f[i]\n",
    "            a[i] = lam\n",
    "\n",
    "        i = n-4\n",
    "        lam = b[i]/d[i]\n",
    "        d[i+k] -= lam*e[i]\n",
    "        b[i] = lam\n",
    "        i = n-3\n",
    "        lam = b[i]/d[i]\n",
    "        d[i+k] -= lam*e[i]\n",
    "        b[i] = lam\n",
    "\n",
    "\n",
    "    @staticmethod\n",
    "    def PDMA_Solve(a, b, d, e, f, h, axis=0): # pragma: no cover\n",
    "        \"\"\"Symmetric solve (for testing only)\"\"\"\n",
    "        n = d.shape[0]\n",
    "        bc = h\n",
    "\n",
    "        bc[2] -= b[0]*bc[0]\n",
    "        bc[3] -= b[1]*bc[1]\n",
    "        for k in range(4, n):\n",
    "            bc[k] -= (b[k-2]*bc[k-2] + a[k-4]*bc[k-4])\n",
    "\n",
    "        bc[n-1] /= d[n-1]\n",
    "        bc[n-2] /= d[n-2]\n",
    "        bc[n-3] = (bc[n-3]-e[n-3]*bc[n-1])/d[n-3]\n",
    "        bc[n-4] = (bc[n-4]-e[n-4]*bc[n-2])/d[n-4]\n",
    "        for k in range(n-5, -1, -1):\n",
    "            bc[k] = (bc[k]-e[k]*bc[k+2]-f[k]*bc[k+4])/d[k]\n",
    "            \n",
    "    def solve(self,x):\n",
    "        self.PDMA_Solve(self.l2, self.l1, self.d0, self.d1, self.d2, x, axis=0)"
   ]
  },
  {
   "cell_type": "code",
   "execution_count": 39,
   "id": "709c1ade",
   "metadata": {},
   "outputs": [
    {
     "data": {
      "text/plain": [
       "array([-0.36702836,  0.00951234,  1.86959482,  1.49593577, -0.90858678,\n",
       "       -1.1843992 ,  0.07224869,  1.12629228,  1.2845515 ,  0.90442261])"
      ]
     },
     "execution_count": 39,
     "metadata": {},
     "output_type": "execute_result"
    }
   ],
   "source": [
    "N = 10\n",
    "l2 = np.random.random(N-4)\n",
    "l1 = np.random.random(N-2)\n",
    "d0 = np.random.random(N+0)\n",
    "u1 = np.random.random(N-2)\n",
    "u2 = np.random.random(N-4)\n",
    "x = np.random.random(N)\n",
    "\n",
    "A = np.diag(l2,-4)+np.diag(l1,-2)+np.diag(d0,0)+np.diag(u1,+2)+np.diag(u2,+4)\n",
    "np.linalg.solve(A,x)"
   ]
  },
  {
   "cell_type": "code",
   "execution_count": 40,
   "id": "5eeb6e76",
   "metadata": {},
   "outputs": [
    {
     "name": "stdout",
     "output_type": "stream",
     "text": [
      "[0.77809456 0.02890255 0.7192478  0.72930258 0.32962444 0.84240715\n",
      " 0.71712376 0.81441328 0.01630718 0.93305048]\n",
      "[-0.36702836  0.00951234  1.86959482  1.49593577 -0.90858678 -1.1843992\n",
      "  0.07224869  1.12629228  1.2845515   0.90442261]\n"
     ]
    }
   ],
   "source": [
    "P = PDMA(A)\n",
    "P.init()\n",
    "print(x)\n",
    "P.solve(x)\n",
    "print(x)"
   ]
  },
  {
   "cell_type": "code",
   "execution_count": 21,
   "id": "a8d03fb5",
   "metadata": {},
   "outputs": [
    {
     "data": {
      "text/plain": [
       "array([0.67909353, 0.        , 0.01144835, 0.        , 0.72930119,\n",
       "       0.        , 0.        , 0.        , 0.        , 0.        ])"
      ]
     },
     "execution_count": 21,
     "metadata": {},
     "output_type": "execute_result"
    }
   ],
   "source": [
    "P.mat[0]"
   ]
  },
  {
   "cell_type": "code",
   "execution_count": null,
   "id": "0cb599d8",
   "metadata": {},
   "outputs": [],
   "source": []
  }
 ],
 "metadata": {
  "kernelspec": {
   "display_name": "Python 3",
   "language": "python",
   "name": "python3"
  },
  "language_info": {
   "codemirror_mode": {
    "name": "ipython",
    "version": 3
   },
   "file_extension": ".py",
   "mimetype": "text/x-python",
   "name": "python",
   "nbconvert_exporter": "python",
   "pygments_lexer": "ipython3",
   "version": "3.9.1"
  }
 },
 "nbformat": 4,
 "nbformat_minor": 5
}
