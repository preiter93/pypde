{
 "cells": [
  {
   "cell_type": "code",
   "execution_count": 1,
   "metadata": {},
   "outputs": [],
   "source": [
    "import numpy as np \n",
    "from pypde.bases.linalg.tdma import TDMA"
   ]
  },
  {
   "cell_type": "markdown",
   "metadata": {},
   "source": [
    "## Diagonals -1, 0, +1"
   ]
  },
  {
   "cell_type": "code",
   "execution_count": 2,
   "metadata": {},
   "outputs": [],
   "source": [
    "N = 10\n",
    "a = np.arange(N-1) +1\n",
    "b = np.arange(N) + 2\n",
    "c = np.arange(N-1) + 3\n",
    "\n",
    "d = range(N)\n",
    "\n",
    "A = np.diag(a,-1) + np.diag(b,0) + np.diag(c,1)"
   ]
  },
  {
   "cell_type": "markdown",
   "metadata": {},
   "source": [
    "## Diagonals -2, 0, +2"
   ]
  },
  {
   "cell_type": "code",
   "execution_count": 3,
   "metadata": {},
   "outputs": [],
   "source": [
    "import numpy as np\n",
    "from pypde.bases.linalg.tdma import TDMA_offset as TDMA\n",
    "N = 10\n",
    "a = np.arange(N-2) +1\n",
    "b = np.arange(N) + 3\n",
    "c = np.arange(N-2) + 6\n",
    "\n",
    "d = range(N)\n",
    "\n",
    "A = np.diag(a,-2) + np.diag(b,0) + np.diag(c,2)"
   ]
  },
  {
   "cell_type": "code",
   "execution_count": 4,
   "metadata": {},
   "outputs": [
    {
     "data": {
      "text/plain": [
       "array([-4.44837758, -4.16961091,  2.22418879,  2.52549195, -0.5840708 ,\n",
       "       -0.42374776,  0.14159292, -0.15563506,  0.63716814,  0.85375671])"
      ]
     },
     "execution_count": 4,
     "metadata": {},
     "output_type": "execute_result"
    }
   ],
   "source": [
    "xnp = np.linalg.solve(A,d)\n",
    "xnp"
   ]
  },
  {
   "cell_type": "code",
   "execution_count": 5,
   "metadata": {},
   "outputs": [
    {
     "data": {
      "text/plain": [
       "array([-4.44837758, -4.16961091,  2.22418879,  2.52549195, -0.5840708 ,\n",
       "       -0.42374776,  0.14159292, -0.15563506,  0.63716814,  0.85375671])"
      ]
     },
     "execution_count": 5,
     "metadata": {},
     "output_type": "execute_result"
    }
   ],
   "source": [
    "x = TDMA(a,b,c,d,2)\n",
    "x"
   ]
  },
  {
   "cell_type": "code",
   "execution_count": null,
   "metadata": {},
   "outputs": [],
   "source": []
  }
 ],
 "metadata": {
  "kernelspec": {
   "display_name": "Python 3",
   "language": "python",
   "name": "python3"
  },
  "language_info": {
   "codemirror_mode": {
    "name": "ipython",
    "version": 3
   },
   "file_extension": ".py",
   "mimetype": "text/x-python",
   "name": "python",
   "nbconvert_exporter": "python",
   "pygments_lexer": "ipython3",
   "version": "3.9.1"
  }
 },
 "nbformat": 4,
 "nbformat_minor": 4
}
