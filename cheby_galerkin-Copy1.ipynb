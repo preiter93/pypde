{
 "cells": [
  {
   "cell_type": "code",
   "execution_count": 88,
   "metadata": {},
   "outputs": [
    {
     "name": "stdout",
     "output_type": "stream",
     "text": [
      "[-2.13504428e-18 -4.24765060e-01 -6.66205675e-18 -5.82243921e-02\n",
      " -2.17566426e-17  7.45649316e-01  2.34611021e-17 -3.15042260e-01\n",
      " -4.17044767e-17  5.82477683e-02  9.11412196e-18 -6.29565048e-03\n",
      "  8.14674894e-18  4.52771175e-04  2.22201773e-17 -2.33768866e-05\n",
      "  1.52932061e-17  9.11617199e-07  4.72844986e-19 -2.78529108e-08\n",
      "  2.98718114e-18  6.85569893e-10  1.59024137e-17 -1.38959482e-11\n",
      "  9.31162866e-18  2.36037403e-13 -4.44800891e-20 -3.39538578e-15\n",
      "  2.13504428e-18 -3.42857215e-17  1.13869028e-17  4.82198622e-17\n",
      "  0.00000000e+00  2.05651547e-16  9.10952225e-17 -1.60631912e-17\n",
      "  5.69345141e-18 -1.73907192e-16  0.00000000e+00 -2.63322128e-17]\n"
     ]
    },
    {
     "data": {
      "image/png": "[encoded data removed]",
      "text/plain": [
       "<Figure size 432x288 with 1 Axes>"
      ]
     },
     "metadata": {
      "needs_background": "light"
     },
     "output_type": "display_data"
    }
   ],
   "source": [
    "#https://mikaem.github.io/shenfun-demos/content/poisson.html#shen1\n",
    "import numpy as np \n",
    "import matplotlib.pyplot as plt\n",
    "from pypde.bases.dmsuite import *\n",
    "from scipy.fftpack import dctn\n",
    "from pypde.bases.chebyshev import *\n",
    "from pypde.bases.inner import *\n",
    "from scipy.sparse import diags\n",
    "from scipy.sparse.linalg import inv\n",
    "\n",
    "def f(x,m=1):\n",
    "    arg = 2*np.pi/2*m\n",
    "    return np.sin(arg*x)#+np.cos(arg*x)\n",
    "\n",
    "def df(x,m=1):\n",
    "    arg = 2*np.pi/2*m\n",
    "    return -arg**2*np.sin(arg*x)#+np.cos(arg*x)\n",
    "\n",
    "def pm(M):\n",
    "    np.set_printoptions(formatter={'float': \"{: 4.2f}\\t\".format})\n",
    "    print(M)\n",
    "    np.set_printoptions()\n",
    "\n",
    "class ChebDirichlet(Spectralbase):\n",
    "    \"\"\"\n",
    "    Function space for Dirichlet boundary conditions\n",
    "    .. math::\n",
    "        \\phi_k = T_k - T_{k+2}\n",
    "    \n",
    "    Parameters:\n",
    "        N: int\n",
    "            Number of grid points\n",
    "        bc: 2-tuple of floats, optional\n",
    "            Boundary conditions at, respectively, x=(-1, 1).\n",
    "            \n",
    "    \"\"\"\n",
    "    def __init__(self,N,bc=(0,0)):\n",
    "        Spectralbase.__init__(self,N)\n",
    "        \n",
    "        #self.bc = BoundaryValues(self, bc=bc) # TODO\n",
    "\n",
    "    def eval(self,c):\n",
    "        ''' \n",
    "        Evaluate f(x) from spectral coefficients c \n",
    "        '''\n",
    "        y = np.zeros(self.N) \n",
    "        for i in range(self.N):\n",
    "            y += c[i]*self.get_basis(i)\n",
    "        return y\n",
    "            \n",
    "    def get_basis(self, i=0, x=None):\n",
    "        if x is None: x = self.x\n",
    "        if i < self.N-2:\n",
    "            w = np.arccos(x)\n",
    "            return np.cos(i*w) - np.cos((i+2)*w)\n",
    "        elif i == self.N-2:\n",
    "            return 0.5*(1-x)\n",
    "        elif i == self.N-1:\n",
    "            return 0.5*(1+x)\n",
    "    \n",
    "    def _mass(self):\n",
    "        ''' \n",
    "        Eq. (2.5) of Shen - Effcient Spectral-Galerkin Method II.\n",
    "        '''\n",
    "        diag0 = [1.5, *[1.0]*(self.N-4), 1.5]\n",
    "        diag2 = [*[-0.5]*(self.N-4) ]\n",
    "        return diags([diag2, diag0, diag2], [-2, 0, 2],format=\"csc\")\n",
    "    \n",
    "    def _mass_inv(self):\n",
    "        return inv(self._mass())\n",
    "\n",
    "    def slice(self):\n",
    "        ''' \n",
    "        Chebdirichlet space defined for [0,N-3] bases + 2 BCs\n",
    "        '''\n",
    "        return slice(0, self.N-2)\n",
    "\n",
    "    def forward_fft(self,f):\n",
    "        '''  \n",
    "        Transform to spectral space via DCT \n",
    "        '''\n",
    "        c = Chebyshev.forward_fft(self,f,nomass=True)\n",
    "        c = self._map(c)\n",
    "        c[self.slice()] = self._mass_inv()@c[self.slice()]\n",
    "        c[ [-2,-1] ] = 0 # BCs\n",
    "        return c\n",
    "    \n",
    "    def backward_fft(self,c):\n",
    "        '''  \n",
    "        Transform to physical space via DCT \n",
    "        ''' \n",
    "        c = self._map(c,inv=True)\n",
    "        return Chebyshev.backward_fft(self,c)\n",
    "    \n",
    "    @property\n",
    "    def _s0(self):\n",
    "        return slice(0, self.N-2)\n",
    "    \n",
    "    @property\n",
    "    def _s1(self):\n",
    "        return slice(2, self.N)\n",
    "    \n",
    "    def derivative(self,f,deriv,method=\"fft\"):\n",
    "        ''' \n",
    "        Calculate derivative of input array f \n",
    "        '''\n",
    "        if method in (\"fft\", \"spectral\"):\n",
    "            c = self.forward_fft(f)\n",
    "            S = -stencil(self.N,diag=-2)\n",
    "            Si = np.linalg.inv(S)\n",
    "            pm(Si)\n",
    "            #c = self._map(c,True)\n",
    "            \n",
    "            #dc = diffmat_spectral(self.N,deriv)@c\n",
    "            #print(Si)\n",
    "            #dc = Si@dc \n",
    "            D2 = -diffmat_spectral(self.N,deriv)@S\n",
    "            print(D2)\n",
    "            #D2 = Si@diffmat_spectral(self.N,deriv)@S\n",
    "            dc = D2@c\n",
    "            print(D2)\n",
    "            print( diffmat_spectral(self.N,deriv) )\n",
    "            return Chebyshev.backward_fft(self,dc)\n",
    "        \n",
    "        elif method in (\"fft2\", \"spectral\"):\n",
    "            c = self.forward_fft(f)\n",
    "            S = -stencil(self.N,diag=-2)\n",
    "            Si = np.linalg.inv(S)\n",
    "            #pm(Si)\n",
    "            D2 = diffmat_spectral(self.N,deriv)@S\n",
    "            dc = D2@c\n",
    "            #pm(Si@D2@S)\n",
    "            dc = Chebyshev.backward_fft(self,dc)\n",
    "            #dc = Si@dc\n",
    "            return dc\n",
    "        \n",
    "        elif method in (\"dm\", \"physical\"):\n",
    "            return self.get_deriv_mat(deriv)@f\n",
    "        else: \n",
    "            raise NotImplementedError(\"Not implemented method: {:s}\".format(method))\n",
    "    \n",
    "    def _map(self,c,inv=False):\n",
    "        ''' \n",
    "        Map from Galerkin to Chebshev representation.\n",
    "        K. Julien: doi:10.1016/j.jcp.2008.10.043 \n",
    "        '''\n",
    "        _c = c; \n",
    "        if inv:\n",
    "            _c[self._s1] -= _c[self._s0]\n",
    "        else:\n",
    "            _c[self._s0] -= _c[self._s1]\n",
    "        return _c\n",
    "    \n",
    "    @memoized\n",
    "    def get_deriv_mat(self,deriv):\n",
    "        D = chebdif(self.N,deriv)[1]\n",
    "        I = np.eye(self.N)\n",
    "        D[:,[0,-1]] = I[:,[0,-1]] # replace row for dirichlet bcs\n",
    "        return D\n",
    "\n",
    "def stencil(N,diag=2):\n",
    "    ''' \n",
    "    Stencil Matrix to transform from Chebshev to Galerking representation.\n",
    "    K. Julien: doi:10.1016/j.jcp.2008.10.043 \n",
    "    '''\n",
    "    d0 = [1]*N\n",
    "    d1 = [-1]*(N-abs(2))\n",
    "    return diags([d0,d1], [0,diag],format=\"csc\").toarray()\n",
    "\n",
    "N = 40\n",
    "CD = ChebDirichlet(N)\n",
    "CD1 = Chebyshev(N)\n",
    "x = CD.x\n",
    "u = f(x,2)#CD.get_basis(i=2)\n",
    "ud = df(x,2)\n",
    "\n",
    "du = CD.derivative(u,2,method=\"fft2\")\n",
    "#fhat = CD.project(u)\n",
    "#pm(fhat)\n",
    "#fhat = CD.forward_fft(u)\n",
    "#pm(fhat)\n",
    "\n",
    "#f = CD.backward_fft(fhat)\n",
    "#pm(u)\n",
    "#pm(f)\n",
    "plt.plot(x,u)\n",
    "plt.plot(x,ud,\"k\")\n",
    "plt.plot(x,du,\"r-\")\n",
    "plt.plot(x,CD1.derivative(u,2),\"g--\")\n",
    "plt.show()"
   ]
  },
  {
   "cell_type": "code",
   "execution_count": 4,
   "metadata": {},
   "outputs": [
    {
     "data": {
      "text/plain": [
       "6.333333333333333"
      ]
     },
     "execution_count": 4,
     "metadata": {},
     "output_type": "execute_result"
    }
   ],
   "source": [
    "76/12"
   ]
  },
  {
   "cell_type": "code",
   "execution_count": 125,
   "metadata": {},
   "outputs": [
    {
     "name": "stdout",
     "output_type": "stream",
     "text": [
      "[[ 0.75\t  0.00\t  0.25\t]\n",
      " [ 0.00\t  1.00\t  0.00\t]\n",
      " [ 0.25\t  0.00\t  0.75\t]]\n"
     ]
    }
   ],
   "source": [
    "import scipy\n",
    "import scipy.linalg\n",
    "\n",
    "MI = CD._mass()\n",
    "#pm( MI.toarray() )\n",
    "\n",
    "MI = CD._mass_inv()\n",
    "pm( MI.toarray()  )\n",
    "\n",
    "#P, L, U = scipy.linalg.lu(MI)\n",
    "\n",
    "#pm(U)"
   ]
  },
  {
   "cell_type": "code",
   "execution_count": 31,
   "metadata": {},
   "outputs": [
    {
     "data": {
      "text/plain": [
       "{'_shape': (4, 4),\n",
       " 'maxprint': 50,\n",
       " 'indices': array([0, 1, 2, 3], dtype=int32),\n",
       " 'indptr': array([0, 1, 2, 3, 4], dtype=int32),\n",
       " 'data': array([0.25, 1.  , 1.  , 0.25])}"
      ]
     },
     "execution_count": 31,
     "metadata": {},
     "output_type": "execute_result"
    }
   ],
   "source": [
    "s = sparse.diags([0.5, *[1.0]*2, 0.5],0)\n",
    "out = s@s\n",
    "out.__dict__"
   ]
  },
  {
   "cell_type": "code",
   "execution_count": 7,
   "metadata": {},
   "outputs": [
    {
     "name": "stdout",
     "output_type": "stream",
     "text": [
      "[[1 2 3]\n",
      " [4 5 6]\n",
      " [7 8 9]]\n"
     ]
    },
    {
     "data": {
      "text/plain": [
       "(3, 3)"
      ]
     },
     "execution_count": 7,
     "metadata": {},
     "output_type": "execute_result"
    }
   ],
   "source": [
    "import numpy as np\n",
    "A = [[1,2,3],[4,5,6],[7,8,9]]\n",
    "A = np.array(A)\n",
    "Ah = np.vstack(A)\n",
    "Av = np.hstack(A)\n",
    "print(Ah)\n",
    "Ah.shape"
   ]
  },
  {
   "cell_type": "code",
   "execution_count": 2,
   "metadata": {},
   "outputs": [
    {
     "name": "stdout",
     "output_type": "stream",
     "text": [
      "0\n",
      "1\n",
      "2\n",
      "3\n"
     ]
    }
   ],
   "source": [
    "sl = slice(0,4)\n",
    "for i in range(10)[sl]:\n",
    "    print(i)"
   ]
  },
  {
   "cell_type": "code",
   "execution_count": 2,
   "metadata": {},
   "outputs": [
    {
     "data": {
      "image/png": "[encoded data removed]",
      "text/plain": [
       "<Figure size 432x288 with 1 Axes>"
      ]
     },
     "metadata": {
      "needs_background": "light"
     },
     "output_type": "display_data"
    }
   ],
   "source": [
    "N = 7\n",
    "CD = ChebDirichlet(N)\n",
    "x = CD.x\n",
    "\n",
    "def fun(x):\n",
    "    return np.sin(2*np.pi/2*x)\n",
    "\n",
    "c = CD.project_via_mass(fun(x))\n",
    "y = CD.eval(c)\n",
    "plt.plot(x,fun(x),\"k\")\n",
    "plt.plot(x,y,\"r--\")\n",
    "plt.show()"
   ]
  },
  {
   "cell_type": "code",
   "execution_count": 6,
   "metadata": {},
   "outputs": [
    {
     "data": {
      "image/png": "[encoded data removed]",
      "text/plain": [
       "<Figure size 432x288 with 1 Axes>"
      ]
     },
     "metadata": {
      "needs_background": "light"
     },
     "output_type": "display_data"
    }
   ],
   "source": [
    "\n",
    "from shenfun import *\n",
    "N = 20\n",
    "D0 = FunctionSpace(N, 'C', basis='Orthogonal'   ,quad=\"GL\")\n",
    "DS = FunctionSpace(N, 'C', basis='ShenDirichlet',quad=\"GL\")\n",
    "x = D0.mesh()\n",
    "plt.plot(x,D0.evaluate_basis(x,i=1))\n",
    "plt.plot(x,DS.evaluate_basis(x,i=1))\n",
    "plt.plot(x,fun(x),\"k\")\n",
    "plt.show()\n",
    "\n",
    "\n",
    "c = project(fun(x), D0)"
   ]
  }
 ],
 "metadata": {
  "kernelspec": {
   "display_name": "Python 3",
   "language": "python",
   "name": "python3"
  },
  "language_info": {
   "codemirror_mode": {
    "name": "ipython",
    "version": 3
   },
   "file_extension": ".py",
   "mimetype": "text/x-python",
   "name": "python",
   "nbconvert_exporter": "python",
   "pygments_lexer": "ipython3",
   "version": "3.6.9"
  }
 },
 "nbformat": 4,
 "nbformat_minor": 4
}
