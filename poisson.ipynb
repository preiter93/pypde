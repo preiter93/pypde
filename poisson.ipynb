{
 "cells": [
  {
   "cell_type": "code",
   "execution_count": 89,
   "metadata": {},
   "outputs": [
    {
     "name": "stdout",
     "output_type": "stream",
     "text": [
      "set color cycle ...\n",
      "register goldfish colorbar as 'gfcmap' ...\n",
      "update rc params to default ...\n"
     ]
    },
    {
     "data": {
      "image/png": "[encoded data removed]",
      "text/plain": [
       "<Figure size 288x216 with 1 Axes>"
      ]
     },
     "metadata": {
      "needs_background": "light"
     },
     "output_type": "display_data"
    }
   ],
   "source": [
    "from pypde import *\n",
    "import matplotlib.pyplot as plt\n",
    "initplot()\n",
    "\n",
    "shape = (120,120)\n",
    "\n",
    "# Create velocity fields\n",
    "\n",
    "xbase = Base(shape[0],\"CD\")\n",
    "ybase = Base(shape[1],\"CD\")\n",
    "\n",
    "ux = Field([xbase,ybase])\n",
    "uz = Field([xbase,ybase])\n",
    "\n",
    "xbase = Base(shape[0],\"CH\")\n",
    "ybase = Base(shape[1],\"CH\")\n",
    "deriv = Field([xbase,ybase])\n",
    "\n",
    "x,y = ux.x, ux.y\n",
    "xx,yy = np.meshgrid(x,y,indexing=\"ij\")\n",
    "\n",
    "# Set velocity fields\n",
    "m,n = 1,1\n",
    "ux.v =  2*np.cos(0.5*m*np.pi*xx)*np.sin(1.0*n*np.pi*yy)\n",
    "uz.v = -2*np.sin(1.0*m*np.pi*xx)*np.cos(0.5*n*np.pi*yy)\n",
    "\n",
    "\n",
    "ux.v =  2*np.sin(1.0*m*np.pi*xx)*np.sin(1.0*n*np.pi*yy)\n",
    "uz.v = -2*np.sin(1.0*m*np.pi*xx)*np.sin(1.0*n*np.pi*yy)\n",
    "\n",
    "ux.forward()\n",
    "uz.forward()\n",
    "\n",
    "plt.contourf(xx,yy,ux.v)\n",
    "plt.show()"
   ]
  },
  {
   "cell_type": "markdown",
   "metadata": {},
   "source": [
    "## Divergence of u\n",
    "f = $\\nabla \\cdot u$"
   ]
  },
  {
   "cell_type": "code",
   "execution_count": 90,
   "metadata": {},
   "outputs": [
    {
     "name": "stdout",
     "output_type": "stream",
     "text": [
      "Divergence: 8.33e+00\n"
     ]
    },
    {
     "data": {
      "image/png": "[encoded data removed]",
      "text/plain": [
       "<Figure size 288x216 with 1 Axes>"
      ]
     },
     "metadata": {
      "needs_background": "light"
     },
     "output_type": "display_data"
    }
   ],
   "source": [
    "dudx = grad(ux,deriv=(1,0),return_field=False)\n",
    "dudz = grad(uz,deriv=(0,1),return_field=False)\n",
    "#dudx = deriv.backward(dudx)\n",
    "#dudz = deriv.backward(dudz)\n",
    "\n",
    "f = dudx + dudz\n",
    "print(\"Divergence: {:4.2e}\".format(np.linalg.norm(f)))\n",
    "\n",
    "levels = np.linspace(-0.0000001,0.0000001,100)\n",
    "plt.contourf(xx,yy,dudx,levels=levels)\n",
    "plt.show()"
   ]
  },
  {
   "cell_type": "code",
   "execution_count": 91,
   "metadata": {},
   "outputs": [
    {
     "data": {
      "image/png": "[encoded data removed]",
      "text/plain": [
       "<Figure size 288x216 with 1 Axes>"
      ]
     },
     "metadata": {
      "needs_background": "light"
     },
     "output_type": "display_data"
    }
   ],
   "source": [
    "class Poisson(Integrator):\n",
    "    CONFIG={\n",
    "        \"shape\": (50,50),\n",
    "        \"bases\": (\"CN\",\"CN\"),\n",
    "        \"ndim\": 2,\n",
    "        \"singular\": True,\n",
    "    }\n",
    "    def __init__(self,**kwargs):\n",
    "        Integrator.__init__(self)\n",
    "        self.__dict__.update(**self.CONFIG)\n",
    "        self.__dict__.update(**kwargs)\n",
    "        \n",
    "        # Field\n",
    "        xbase = Base(self.shape[0],self.bases[0])\n",
    "        ybase = Base(self.shape[1],self.bases[1])\n",
    "        self.field = Field( [xbase,ybase])\n",
    "\n",
    "        # Solver\n",
    "        self.setup_solver()\n",
    "        \n",
    "        # Space for derivatives\n",
    "        xbase = Base(self.shape[0],\"CH\")\n",
    "        ybase = Base(self.shape[1],\"CH\")\n",
    "        self.deriv_field = Field( [xbase,ybase] )\n",
    "        \n",
    "    def setup_solver(self):\n",
    "        from pypde.templates.poisson import solverplan_poisson2d\n",
    "        self.solver = solverplan_poisson2d(self.field.xs,\n",
    "            singular=self.singular)\n",
    "        \n",
    "    def update(self,fhat):\n",
    "        rhs  = self.solver.solve_rhs(fhat)\n",
    "        #print(rhs)\n",
    "        self.field.vhat[:] = self.solver.solve_lhs(rhs)\n",
    "        #print(self.field.vhat)\n",
    "        if self.singular:\n",
    "            self.field.vhat[0,0] = 0\n",
    "        #print(self.field.vhat)\n",
    "        #print(self.field.vhat)\n",
    "        \n",
    "P  = Poisson(shape=shape)\n",
    "P.update(f)\n",
    "\n",
    "P.field.backward()\n",
    "\n",
    "plt.contourf(xx,yy,P.field.v)\n",
    "plt.show()\n",
    "\n",
    "#P.field.vhat"
   ]
  },
  {
   "cell_type": "code",
   "execution_count": 104,
   "metadata": {},
   "outputs": [
    {
     "data": {
      "text/plain": [
       "<matplotlib.contour.QuadContourSet at 0x7f0add10ec50>"
      ]
     },
     "execution_count": 104,
     "metadata": {},
     "output_type": "execute_result"
    },
    {
     "data": {
      "image/png": "[encoded data removed]",
      "text/plain": [
       "<Figure size 288x216 with 1 Axes>"
      ]
     },
     "metadata": {
      "needs_background": "light"
     },
     "output_type": "display_data"
    }
   ],
   "source": [
    "xx,yy = np.meshgrid(P.field.x[:],P.field.y[:],indexing=\"ij\" )\n",
    "\n",
    "dpdx = grad(P.field,deriv=(1,0),return_field=False)\n",
    "dpdz = grad(P.field,deriv=(0,1),return_field=False)\n",
    "\n",
    "d2pdx = grad(P.field,deriv=(2,0),return_field=False)\n",
    "d2pdz = grad(P.field,deriv=(0,2),return_field=False)\n",
    "#dpdx = P.deriv_field.backward(dpdx)\n",
    "\n",
    "#plt.contourf(xx,yy,dpdx)\n",
    "#plt.show()\n",
    "\n",
    "def cheby_to_u(vhat,u_field):\n",
    "    vhat = u_field.xs[0].from_chebyshev(vhat)\n",
    "    vhat = np.swapaxes(vhat,0,1)\n",
    "    vhat = u_field.xs[1].from_chebyshev(vhat)\n",
    "    return np.swapaxes(vhat,0,1)\n",
    "\n",
    "dpdx2 = cheby_to_galerkin(dpdx,ux)\n",
    "dpdz2 = cheby_to_galerkin(dpdz,uz)\n",
    "\n",
    "xbase = Base(shape[0],\"CD\")\n",
    "ybase = Base(shape[1],\"CD\")\n",
    "\n",
    "dp = Field([xbase,ybase])\n",
    "dp.vhat = dpdx2\n",
    "dp.backward()\n",
    "plt.contourf(xx,yy,dp.v)"
   ]
  },
  {
   "cell_type": "code",
   "execution_count": 102,
   "metadata": {},
   "outputs": [
    {
     "data": {
      "text/plain": [
       "[<matplotlib.lines.Line2D at 0x7f0ad03e1a90>]"
      ]
     },
     "execution_count": 102,
     "metadata": {},
     "output_type": "execute_result"
    },
    {
     "data": {
      "image/png": "[encoded data removed]",
      "text/plain": [
       "<Figure size 288x216 with 1 Axes>"
      ]
     },
     "metadata": {
      "needs_background": "light"
     },
     "output_type": "display_data"
    }
   ],
   "source": [
    "plt.plot(x,dp.v[:,20])\n",
    "\n",
    "plt.plot(y,dp.v[20,:])"
   ]
  },
  {
   "cell_type": "code",
   "execution_count": 93,
   "metadata": {},
   "outputs": [
    {
     "data": {
      "text/plain": [
       "3.228246985082156e-10"
      ]
     },
     "execution_count": 93,
     "metadata": {},
     "output_type": "execute_result"
    }
   ],
   "source": [
    "f2 = d2pdx + d2pdz\n",
    "np.linalg.norm(f-f2)"
   ]
  },
  {
   "cell_type": "code",
   "execution_count": null,
   "metadata": {},
   "outputs": [],
   "source": []
  },
  {
   "cell_type": "code",
   "execution_count": 94,
   "metadata": {},
   "outputs": [
    {
     "name": "stdout",
     "output_type": "stream",
     "text": [
      "Divergence: 3.23e-10\n"
     ]
    },
    {
     "data": {
      "text/plain": [
       "1.5276446346965193"
      ]
     },
     "execution_count": 94,
     "metadata": {},
     "output_type": "execute_result"
    },
    {
     "data": {
      "image/png": "[encoded data removed]",
      "text/plain": [
       "<Figure size 288x216 with 1 Axes>"
      ]
     },
     "metadata": {
      "needs_background": "light"
     },
     "output_type": "display_data"
    }
   ],
   "source": [
    "uxold = grad(ux,deriv=(0,0),return_field=True)\n",
    "uzold = grad(uz,deriv=(0,0),return_field=True)\n",
    "\n",
    "uxold.vhat -= dpdx\n",
    "uzold.vhat -= dpdz\n",
    "\n",
    "dudx = grad(uxold,deriv=(1,0),return_field=False)\n",
    "dudz = grad(uzold,deriv=(0,1),return_field=False)\n",
    "\n",
    "f = dudx + dudz\n",
    "print(\"Divergence: {:4.2e}\".format(np.linalg.norm(f)))\n",
    "\n",
    "P.deriv_field.vhat = uxold.vhat\n",
    "P.deriv_field.backward()\n",
    "\n",
    "plt.contourf(xx,yy,P.deriv_field.v)\n",
    "P.deriv_field.v.max()"
   ]
  },
  {
   "cell_type": "code",
   "execution_count": 95,
   "metadata": {},
   "outputs": [
    {
     "name": "stdout",
     "output_type": "stream",
     "text": [
      "Divergence: 4.91e-02\n"
     ]
    },
    {
     "data": {
      "text/plain": [
       "1.5258361662006918"
      ]
     },
     "execution_count": 95,
     "metadata": {},
     "output_type": "execute_result"
    },
    {
     "data": {
      "image/png": "[encoded data removed]",
      "text/plain": [
       "<Figure size 288x216 with 1 Axes>"
      ]
     },
     "metadata": {
      "needs_background": "light"
     },
     "output_type": "display_data"
    }
   ],
   "source": [
    "uxnew = ux\n",
    "uznew = uz\n",
    "\n",
    "uxnew.vhat -= cheby_to_galerkin(dpdx,uxnew)\n",
    "uznew.vhat -= cheby_to_galerkin(dpdz,uznew)\n",
    "\n",
    "dudx = grad(uxnew,deriv=(1,0),return_field=False)\n",
    "dudz = grad(uznew,deriv=(0,1),return_field=False)\n",
    "\n",
    "f = dudx[5:-5,5:-5] + dudz[5:-5,5:-5]\n",
    "print(\"Divergence: {:4.2e}\".format(np.linalg.norm(f)))\n",
    "\n",
    "#P.deriv_field.vhat = uxnew.vhat\n",
    "#P.deriv_field.backward()\n",
    "uxnew.backward()\n",
    "plt.contourf(xx,yy,uxnew.v)\n",
    "uxnew.v.max()\n",
    "\n"
   ]
  },
  {
   "cell_type": "code",
   "execution_count": 97,
   "metadata": {},
   "outputs": [
    {
     "data": {
      "text/plain": [
       "0.005903865337189947"
      ]
     },
     "execution_count": 97,
     "metadata": {},
     "output_type": "execute_result"
    }
   ],
   "source": [
    "f.argmax()\n",
    "amax = np.unravel_index(f.argmax(), f.shape)\n",
    "f[amax]"
   ]
  },
  {
   "cell_type": "code",
   "execution_count": 87,
   "metadata": {},
   "outputs": [
    {
     "ename": "AssertionError",
     "evalue": "120 118",
     "output_type": "error",
     "traceback": [
      "\u001b[0;31m---------------------------------------------------------------------------\u001b[0m",
      "\u001b[0;31mAssertionError\u001b[0m                            Traceback (most recent call last)",
      "\u001b[0;32m<ipython-input-87-8749d24437b2>\u001b[0m in \u001b[0;36m<module>\u001b[0;34m\u001b[0m\n\u001b[1;32m      2\u001b[0m \u001b[0muz\u001b[0m\u001b[0;34m.\u001b[0m\u001b[0mvhat\u001b[0m \u001b[0;34m=\u001b[0m \u001b[0muznew\u001b[0m\u001b[0;34m\u001b[0m\u001b[0;34m\u001b[0m\u001b[0m\n\u001b[1;32m      3\u001b[0m \u001b[0;34m\u001b[0m\u001b[0m\n\u001b[0;32m----> 4\u001b[0;31m \u001b[0mdudx\u001b[0m \u001b[0;34m=\u001b[0m \u001b[0mgrad\u001b[0m\u001b[0;34m(\u001b[0m\u001b[0mux\u001b[0m\u001b[0;34m,\u001b[0m\u001b[0mderiv\u001b[0m\u001b[0;34m=\u001b[0m\u001b[0;34m(\u001b[0m\u001b[0;36m1\u001b[0m\u001b[0;34m,\u001b[0m\u001b[0;36m0\u001b[0m\u001b[0;34m)\u001b[0m\u001b[0;34m,\u001b[0m\u001b[0mreturn_field\u001b[0m\u001b[0;34m=\u001b[0m\u001b[0;32mFalse\u001b[0m\u001b[0;34m)\u001b[0m\u001b[0;34m\u001b[0m\u001b[0;34m\u001b[0m\u001b[0m\n\u001b[0m\u001b[1;32m      5\u001b[0m \u001b[0mdudz\u001b[0m \u001b[0;34m=\u001b[0m \u001b[0mgrad\u001b[0m\u001b[0;34m(\u001b[0m\u001b[0muz\u001b[0m\u001b[0;34m,\u001b[0m\u001b[0mderiv\u001b[0m\u001b[0;34m=\u001b[0m\u001b[0;34m(\u001b[0m\u001b[0;36m0\u001b[0m\u001b[0;34m,\u001b[0m\u001b[0;36m1\u001b[0m\u001b[0;34m)\u001b[0m\u001b[0;34m,\u001b[0m\u001b[0mreturn_field\u001b[0m\u001b[0;34m=\u001b[0m\u001b[0;32mFalse\u001b[0m\u001b[0;34m)\u001b[0m\u001b[0;34m\u001b[0m\u001b[0;34m\u001b[0m\u001b[0m\n\u001b[1;32m      6\u001b[0m \u001b[0;34m\u001b[0m\u001b[0m\n",
      "\u001b[0;32m~/Python/pypde/pypde/field.py\u001b[0m in \u001b[0;36mgrad\u001b[0;34m(field, deriv, return_field)\u001b[0m\n\u001b[1;32m    327\u001b[0m \u001b[0;34m\u001b[0m\u001b[0m\n\u001b[1;32m    328\u001b[0m     \u001b[0;32mfor\u001b[0m \u001b[0maxis\u001b[0m \u001b[0;32min\u001b[0m \u001b[0mrange\u001b[0m\u001b[0;34m(\u001b[0m\u001b[0mfield\u001b[0m\u001b[0;34m.\u001b[0m\u001b[0mndim\u001b[0m\u001b[0;34m)\u001b[0m\u001b[0;34m:\u001b[0m\u001b[0;34m\u001b[0m\u001b[0;34m\u001b[0m\u001b[0m\n\u001b[0;32m--> 329\u001b[0;31m         \u001b[0mdvhat\u001b[0m \u001b[0;34m=\u001b[0m \u001b[0mfield\u001b[0m\u001b[0;34m.\u001b[0m\u001b[0mderivative\u001b[0m\u001b[0;34m(\u001b[0m\u001b[0mdvhat\u001b[0m\u001b[0;34m,\u001b[0m\u001b[0mderiv\u001b[0m\u001b[0;34m[\u001b[0m\u001b[0maxis\u001b[0m\u001b[0;34m]\u001b[0m\u001b[0;34m,\u001b[0m\u001b[0maxis\u001b[0m\u001b[0;34m=\u001b[0m\u001b[0maxis\u001b[0m\u001b[0;34m)\u001b[0m\u001b[0;34m\u001b[0m\u001b[0;34m\u001b[0m\u001b[0m\n\u001b[0m\u001b[1;32m    330\u001b[0m \u001b[0;34m\u001b[0m\u001b[0m\n\u001b[1;32m    331\u001b[0m     \u001b[0;32mif\u001b[0m \u001b[0mreturn_field\u001b[0m\u001b[0;34m:\u001b[0m\u001b[0;34m\u001b[0m\u001b[0;34m\u001b[0m\u001b[0m\n",
      "\u001b[0;32m~/Python/pypde/pypde/bases/spectralspace.py\u001b[0m in \u001b[0;36mderivative\u001b[0;34m(self, vhat, deriv, axis, out_cheby)\u001b[0m\n\u001b[1;32m     52\u001b[0m     \u001b[0;32mdef\u001b[0m \u001b[0mderivative\u001b[0m\u001b[0;34m(\u001b[0m\u001b[0mself\u001b[0m\u001b[0;34m,\u001b[0m\u001b[0mvhat\u001b[0m\u001b[0;34m,\u001b[0m\u001b[0mderiv\u001b[0m\u001b[0;34m,\u001b[0m\u001b[0maxis\u001b[0m\u001b[0;34m,\u001b[0m\u001b[0mout_cheby\u001b[0m\u001b[0;34m=\u001b[0m\u001b[0;32mTrue\u001b[0m\u001b[0;34m)\u001b[0m\u001b[0;34m:\u001b[0m\u001b[0;34m\u001b[0m\u001b[0;34m\u001b[0m\u001b[0m\n\u001b[1;32m     53\u001b[0m         \u001b[0;32mif\u001b[0m \u001b[0maxis\u001b[0m \u001b[0;34m==\u001b[0m \u001b[0;36m0\u001b[0m\u001b[0;34m:\u001b[0m\u001b[0;34m\u001b[0m\u001b[0;34m\u001b[0m\u001b[0m\n\u001b[0;32m---> 54\u001b[0;31m             \u001b[0;32mreturn\u001b[0m \u001b[0mself\u001b[0m\u001b[0;34m.\u001b[0m\u001b[0mxs\u001b[0m\u001b[0;34m[\u001b[0m\u001b[0maxis\u001b[0m\u001b[0;34m]\u001b[0m\u001b[0;34m.\u001b[0m\u001b[0mderivative\u001b[0m\u001b[0;34m(\u001b[0m\u001b[0mvhat\u001b[0m\u001b[0;34m,\u001b[0m\u001b[0mderiv\u001b[0m\u001b[0;34m,\u001b[0m\u001b[0mout_cheby\u001b[0m\u001b[0;34m)\u001b[0m\u001b[0;34m\u001b[0m\u001b[0;34m\u001b[0m\u001b[0m\n\u001b[0m\u001b[1;32m     55\u001b[0m         \u001b[0;32melse\u001b[0m\u001b[0;34m:\u001b[0m\u001b[0;34m\u001b[0m\u001b[0;34m\u001b[0m\u001b[0m\n\u001b[1;32m     56\u001b[0m             \u001b[0mvhat\u001b[0m \u001b[0;34m=\u001b[0m \u001b[0mnp\u001b[0m\u001b[0;34m.\u001b[0m\u001b[0mswapaxes\u001b[0m\u001b[0;34m(\u001b[0m\u001b[0mvhat\u001b[0m\u001b[0;34m,\u001b[0m\u001b[0maxis\u001b[0m\u001b[0;34m,\u001b[0m\u001b[0;36m0\u001b[0m\u001b[0;34m)\u001b[0m\u001b[0;34m\u001b[0m\u001b[0;34m\u001b[0m\u001b[0m\n",
      "\u001b[0;32m~/Python/pypde/pypde/bases/chebyshev.py\u001b[0m in \u001b[0;36mderivative\u001b[0;34m(self, vhat, deriv, out_cheby)\u001b[0m\n\u001b[1;32m    304\u001b[0m             \u001b[0motherwise\u001b[0m \u001b[0;32mreturn\u001b[0m \u001b[0mgalerkin\u001b[0m \u001b[0mcoeff\u001b[0m\u001b[0;34m\u001b[0m\u001b[0;34m\u001b[0m\u001b[0m\n\u001b[1;32m    305\u001b[0m         '''\n\u001b[0;32m--> 306\u001b[0;31m         \u001b[0muhat\u001b[0m \u001b[0;34m=\u001b[0m \u001b[0mself\u001b[0m\u001b[0;34m.\u001b[0m\u001b[0mto_chebyshev\u001b[0m\u001b[0;34m(\u001b[0m\u001b[0mvhat\u001b[0m\u001b[0;34m)\u001b[0m\u001b[0;34m\u001b[0m\u001b[0;34m\u001b[0m\u001b[0m\n\u001b[0m\u001b[1;32m    307\u001b[0m         \u001b[0mduhat\u001b[0m \u001b[0;34m=\u001b[0m  \u001b[0mself\u001b[0m\u001b[0;34m.\u001b[0m\u001b[0mfamily\u001b[0m\u001b[0;34m.\u001b[0m\u001b[0mderivative\u001b[0m\u001b[0;34m(\u001b[0m\u001b[0muhat\u001b[0m\u001b[0;34m,\u001b[0m\u001b[0mderiv\u001b[0m\u001b[0;34m)\u001b[0m\u001b[0;34m\u001b[0m\u001b[0;34m\u001b[0m\u001b[0m\n\u001b[1;32m    308\u001b[0m         \u001b[0;32mif\u001b[0m \u001b[0mout_cheby\u001b[0m\u001b[0;34m:\u001b[0m\u001b[0;34m\u001b[0m\u001b[0;34m\u001b[0m\u001b[0m\n",
      "\u001b[0;32m~/Python/pypde/pypde/bases/chebyshev.py\u001b[0m in \u001b[0;36mto_chebyshev\u001b[0;34m(self, vhat)\u001b[0m\n\u001b[1;32m    241\u001b[0m                     \u001b[0mS\u001b[0m \u001b[0mv\u001b[0m \u001b[0;34m=\u001b[0m \u001b[0mu\u001b[0m\u001b[0;34m\u001b[0m\u001b[0;34m\u001b[0m\u001b[0m\n\u001b[1;32m    242\u001b[0m         '''\n\u001b[0;32m--> 243\u001b[0;31m         \u001b[0;32massert\u001b[0m \u001b[0mvhat\u001b[0m\u001b[0;34m.\u001b[0m\u001b[0mshape\u001b[0m\u001b[0;34m[\u001b[0m\u001b[0;36m0\u001b[0m\u001b[0;34m]\u001b[0m \u001b[0;34m==\u001b[0m \u001b[0mself\u001b[0m\u001b[0;34m.\u001b[0m\u001b[0mM\u001b[0m\u001b[0;34m,\u001b[0m\u001b[0;34m\"{} {}\"\u001b[0m\u001b[0;34m.\u001b[0m\u001b[0mformat\u001b[0m\u001b[0;34m(\u001b[0m\u001b[0mvhat\u001b[0m\u001b[0;34m.\u001b[0m\u001b[0mshape\u001b[0m\u001b[0;34m[\u001b[0m\u001b[0;36m0\u001b[0m\u001b[0;34m]\u001b[0m\u001b[0;34m,\u001b[0m\u001b[0mself\u001b[0m\u001b[0;34m.\u001b[0m\u001b[0mM\u001b[0m\u001b[0;34m)\u001b[0m\u001b[0;34m\u001b[0m\u001b[0;34m\u001b[0m\u001b[0m\n\u001b[0m\u001b[1;32m    244\u001b[0m         \u001b[0;32mreturn\u001b[0m \u001b[0mself\u001b[0m\u001b[0;34m.\u001b[0m\u001b[0mS_sp\u001b[0m\u001b[0;34m@\u001b[0m\u001b[0mvhat\u001b[0m\u001b[0;34m\u001b[0m\u001b[0;34m\u001b[0m\u001b[0m\n\u001b[1;32m    245\u001b[0m \u001b[0;34m\u001b[0m\u001b[0m\n",
      "\u001b[0;31mAssertionError\u001b[0m: 120 118"
     ]
    }
   ],
   "source": [
    "ux.vhat = uxnew\n",
    "uz.vhat = uznew\n",
    "\n",
    "dudx = grad(ux,deriv=(1,0),return_field=False)\n",
    "dudz = grad(uz,deriv=(0,1),return_field=False)\n",
    "\n",
    "#dudx = deriv.backward(dudx)\n",
    "#dudz = deriv.backward(dudz)\n",
    "f = dudx + dudz"
   ]
  },
  {
   "cell_type": "code",
   "execution_count": 88,
   "metadata": {},
   "outputs": [
    {
     "name": "stdout",
     "output_type": "stream",
     "text": [
      "Divergence: 1.03e+00\n"
     ]
    }
   ],
   "source": [
    "print(\"Divergence: {:4.2e}\".format(np.linalg.norm(f)))"
   ]
  },
  {
   "cell_type": "code",
   "execution_count": 91,
   "metadata": {},
   "outputs": [
    {
     "data": {
      "text/plain": [
       "<matplotlib.contour.QuadContourSet at 0x7f26c2991e48>"
      ]
     },
     "execution_count": 91,
     "metadata": {},
     "output_type": "execute_result"
    },
    {
     "data": {
      "image/png": "[encoded data removed]",
      "text/plain": [
       "<Figure size 288x216 with 1 Axes>"
      ]
     },
     "metadata": {
      "needs_background": "light"
     },
     "output_type": "display_data"
    }
   ],
   "source": [
    "levels = np.linspace(-0.1,0.1,100)\n",
    "plt.contourf(xx,yy,f,levels=levels)"
   ]
  },
  {
   "cell_type": "code",
   "execution_count": 113,
   "metadata": {},
   "outputs": [
    {
     "data": {
      "image/png": "[encoded data removed]",
      "text/plain": [
       "<Figure size 288x216 with 1 Axes>"
      ]
     },
     "metadata": {
      "needs_background": "light"
     },
     "output_type": "display_data"
    }
   ],
   "source": [
    "uz.backward()\n",
    "\n",
    "plt.contourf(xx,yy,uz.v)\n",
    "plt.show()"
   ]
  },
  {
   "cell_type": "code",
   "execution_count": 114,
   "metadata": {},
   "outputs": [
    {
     "data": {
      "image/png": "[encoded data removed]",
      "text/plain": [
       "<Figure size 288x216 with 1 Axes>"
      ]
     },
     "metadata": {
      "needs_background": "light"
     },
     "output_type": "display_data"
    }
   ],
   "source": [
    "ux.backward()\n",
    "\n",
    "plt.contourf(xx,yy,ux.v)\n",
    "plt.show()"
   ]
  },
  {
   "cell_type": "code",
   "execution_count": 149,
   "metadata": {},
   "outputs": [],
   "source": [
    "shape = (6,6)\n",
    "\n",
    "# Create velocity fields\n",
    "\n",
    "xbase = Base(shape[0],\"CH\")\n",
    "ybase = Base(shape[1],\"CH\")\n",
    "CH = Field([xbase,ybase])\n",
    "xbase = Base(shape[0],\"CD\")\n",
    "ybase = Base(shape[1],\"CD\")\n",
    "CD = Field([xbase,ybase])\n",
    "\n",
    "x,y = CH.x, CH.y\n",
    "xx,yy = np.meshgrid(x,y,indexing=\"ij\")\n",
    "\n",
    "CH.v = np.sin(np.pi*xx)*np.sin(np.pi*yy)\n",
    "CD.v = np.sin(np.pi*xx)*np.sin(np.pi*yy)\n",
    "CH.forward()\n",
    "CD.forward()"
   ]
  },
  {
   "cell_type": "code",
   "execution_count": 150,
   "metadata": {},
   "outputs": [
    {
     "data": {
      "text/plain": [
       "array([[-6.16297582e-34, -8.48134921e-19,  6.16297582e-34,\n",
       "        -5.81320323e-18,  0.00000000e+00,  6.66133815e-18],\n",
       "       [-5.55111512e-18,  3.24301597e-01, -2.22044605e-17,\n",
       "        -3.83687782e-01,  0.00000000e+00,  5.93861849e-02],\n",
       "       [ 0.00000000e+00,  2.53495177e-17,  2.46519033e-33,\n",
       "        -3.42313019e-17,  0.00000000e+00,  8.88178420e-18],\n",
       "       [-1.11022302e-17, -3.83687782e-01, -4.44089210e-17,\n",
       "         4.53948779e-01, -2.22044605e-17, -7.02609971e-02],\n",
       "       [ 0.00000000e+00, -1.97215226e-33,  1.36845553e-49,\n",
       "        -1.97215226e-33, -1.36845553e-49, -9.86076132e-34],\n",
       "       [ 1.38777878e-18,  5.93861849e-02,  1.11022302e-17,\n",
       "        -7.02609971e-02, -5.55111512e-18,  1.08748122e-02]])"
      ]
     },
     "execution_count": 150,
     "metadata": {},
     "output_type": "execute_result"
    }
   ],
   "source": [
    "CH.vhat"
   ]
  },
  {
   "cell_type": "code",
   "execution_count": 151,
   "metadata": {},
   "outputs": [
    {
     "data": {
      "text/plain": [
       "array([[-2.13821177e-50, -9.01526253e-18, -3.08148791e-34,\n",
       "        -1.48029737e-18],\n",
       "       [-3.70074342e-18,  3.24301597e-01, -1.85037171e-18,\n",
       "        -5.93861849e-02],\n",
       "       [-2.05432527e-34,  8.16712761e-18,  5.13581319e-34,\n",
       "        -5.18104078e-18],\n",
       "       [ 9.25185854e-19, -5.93861849e-02, -7.86407976e-18,\n",
       "         1.08748122e-02]])"
      ]
     },
     "execution_count": 151,
     "metadata": {},
     "output_type": "execute_result"
    }
   ],
   "source": [
    "CD.vhat"
   ]
  },
  {
   "cell_type": "code",
   "execution_count": 152,
   "metadata": {},
   "outputs": [
    {
     "data": {
      "text/plain": [
       "array([[-1.36955018e-34, -9.01526253e-18, -2.73910037e-34,\n",
       "        -1.48029737e-18],\n",
       "       [-2.15876699e-18,  3.24301597e-01, -7.55568447e-18,\n",
       "        -5.93861849e-02],\n",
       "       [-4.79342564e-34,  8.16712761e-18,  2.73910037e-34,\n",
       "        -5.18104078e-18],\n",
       "       [ 6.78469626e-18, -5.93861849e-02, -9.56025382e-18,\n",
       "         1.08748122e-02]])"
      ]
     },
     "execution_count": 152,
     "metadata": {},
     "output_type": "execute_result"
    }
   ],
   "source": [
    "cheby_to_galerkin(CH.vhat,CD)"
   ]
  },
  {
   "cell_type": "code",
   "execution_count": 143,
   "metadata": {},
   "outputs": [
    {
     "data": {
      "image/png": "[encoded data removed]",
      "text/plain": [
       "<Figure size 288x216 with 1 Axes>"
      ]
     },
     "metadata": {
      "needs_background": "light"
     },
     "output_type": "display_data"
    }
   ],
   "source": [
    "plt.contourf(xx,yy,CH.v)\n",
    "plt.show()"
   ]
  },
  {
   "cell_type": "code",
   "execution_count": null,
   "metadata": {},
   "outputs": [],
   "source": []
  }
 ],
 "metadata": {
  "kernelspec": {
   "display_name": "Python 3",
   "language": "python",
   "name": "python3"
  },
  "language_info": {
   "codemirror_mode": {
    "name": "ipython",
    "version": 3
   },
   "file_extension": ".py",
   "mimetype": "text/x-python",
   "name": "python",
   "nbconvert_exporter": "python",
   "pygments_lexer": "ipython3",
   "version": "3.6.9"
  }
 },
 "nbformat": 4,
 "nbformat_minor": 4
}
