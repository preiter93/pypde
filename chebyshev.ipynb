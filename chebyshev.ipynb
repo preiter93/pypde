{
 "cells": [
  {
   "cell_type": "code",
   "execution_count": 216,
   "metadata": {},
   "outputs": [
    {
     "name": "stdout",
     "output_type": "stream",
     "text": [
      "The autoreload extension is already loaded. To reload it, use:\n",
      "  %reload_ext autoreload\n"
     ]
    }
   ],
   "source": [
    "%load_ext autoreload\n",
    "%autoreload 2\n",
    "import numpy as np \n",
    "import matplotlib.pyplot as plt\n",
    "from pypde.bases import *\n",
    "\n",
    "N = 10\n",
    "\n",
    "# Bases\n",
    "CH = SpectralBase(N,\"CH\")\n",
    "CD = SpectralBase(N,\"CD\")\n",
    "DC = DirichletC(N)\n",
    "\n",
    "# Space\n",
    "x = CH.x\n",
    "f = (x-1)*0.5\n",
    "\n",
    "# Boundary conditions\n",
    "bc = np.zeros(2)\n",
    "bc[0] = -1\n",
    "\n",
    "# Transform\n",
    "fhatch = CH.forward_fft(f)\n",
    "fhatcd = CD.forward_fft(f,bc=bc)\n",
    "\n"
   ]
  },
  {
   "cell_type": "code",
   "execution_count": 217,
   "metadata": {},
   "outputs": [
    {
     "data": {
      "image/png": "[encoded data removed]",
      "text/plain": [
       "<Figure size 432x288 with 1 Axes>"
      ]
     },
     "metadata": {
      "needs_background": "light"
     },
     "output_type": "display_data"
    }
   ],
   "source": [
    "plt.plot(x,f)\n",
    "plt.plot(x,CH.backward_fft(fhatch),\"--\")\n",
    "plt.plot(x,CD.backward_fft(fhatcd,bc=bc),\"r--\")\n",
    "plt.show()"
   ]
  },
  {
   "cell_type": "code",
   "execution_count": 213,
   "metadata": {},
   "outputs": [
    {
     "data": {
      "text/plain": [
       "array([[ 0.5 ,  0.5 ],\n",
       "       [-0.25,  0.25],\n",
       "       [-0.5 , -0.5 ],\n",
       "       [ 0.25, -0.25],\n",
       "       [ 0.  ,  0.  ],\n",
       "       [ 0.  ,  0.  ],\n",
       "       [ 0.  ,  0.  ],\n",
       "       [ 0.  ,  0.  ],\n",
       "       [ 0.  ,  0.  ],\n",
       "       [ 0.  ,  0.  ]])"
      ]
     },
     "execution_count": 213,
     "metadata": {},
     "output_type": "execute_result"
    }
   ],
   "source": [
    "CD.stencil()@inner(CD,DC)"
   ]
  },
  {
   "cell_type": "code",
   "execution_count": 20,
   "metadata": {},
   "outputs": [
    {
     "data": {
      "text/plain": [
       "array([1.        , 0.96984631, 0.88302222, 0.75      , 0.58682409,\n",
       "       0.41317591, 0.25      , 0.11697778, 0.03015369, 0.        ])"
      ]
     },
     "execution_count": 20,
     "metadata": {},
     "output_type": "execute_result"
    }
   ],
   "source": []
  },
  {
   "cell_type": "code",
   "execution_count": null,
   "metadata": {},
   "outputs": [],
   "source": []
  }
 ],
 "metadata": {
  "kernelspec": {
   "display_name": "Python 3",
   "language": "python",
   "name": "python3"
  },
  "language_info": {
   "codemirror_mode": {
    "name": "ipython",
    "version": 3
   },
   "file_extension": ".py",
   "mimetype": "text/x-python",
   "name": "python",
   "nbconvert_exporter": "python",
   "pygments_lexer": "ipython3",
   "version": "3.9.1"
  }
 },
 "nbformat": 4,
 "nbformat_minor": 4
}
