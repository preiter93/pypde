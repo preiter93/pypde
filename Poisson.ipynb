{
 "cells": [
  {
   "cell_type": "markdown",
   "metadata": {},
   "source": [
    "### Solve $\\nabla^2 x = b$"
   ]
  },
  {
   "cell_type": "code",
   "execution_count": 9,
   "metadata": {},
   "outputs": [
    {
     "name": "stdout",
     "output_type": "stream",
     "text": [
      "Initialization finished.\n"
     ]
    },
    {
     "data": {
      "image/png": "[encoded data removed]",
      "text/plain": [
       "<Figure size 432x288 with 1 Axes>"
      ]
     },
     "metadata": {
      "needs_background": "light"
     },
     "output_type": "display_data"
    }
   ],
   "source": [
    "import numpy as np\n",
    "from pypde.bases.chebyshev import *\n",
    "from numpy.linalg import solve\n",
    "from pypde.solver.matrix import *\n",
    "from pypde.solver.operator import *\n",
    "import matplotlib.pyplot as plt\n",
    "\n",
    "def f(x):\n",
    "    return np.cos(1*np.pi/2*x)\n",
    "\n",
    "def usol(x):\n",
    "    return -np.cos(1*np.pi/2*x)*(1*np.pi/2)**-2\n",
    "\n",
    "class Poisson():\n",
    "    def __init__(self,f,N):\n",
    "        self.N  = N\n",
    "        self.xf = ChebDirichlet(self.N+2,bc=(0,0))   # Basis in x\n",
    "        self.x  = self.xf.x                          # X-coordinates\n",
    "\n",
    "        # -- Matrices ------\n",
    "        D = Chebyshev(self.N+2).D(2)     # Spectral derivative matrix\n",
    "        B = Chebyshev(self.N+2).B(2)     # Pseudo inverse of D\n",
    "        S = self.xf.S                    # Transform stencil Galerkin--> Chebyshev\n",
    "        M =  (B@S)[2:,:]\n",
    "        D2 = (B@D@S)[2:,:]\n",
    "\n",
    "        # -- RHS ---\n",
    "        fhat = self.xf.forward_fft(f)\n",
    "        self.b = RHSExplicit(f=fhat)\n",
    "        self.b.add_PM(MatrixRHS(M,axis=0))\n",
    "\n",
    "        # -- LHS ---\n",
    "        A =  D2\n",
    "        A0 = MatrixLHS(A,ndim=1,axis=0,\n",
    "            solver=\"solve\")                 # Use numpy.linalg.solve\n",
    "        A1 = MatrixLHS(A,ndim=1,axis=0,\n",
    "            solver=\"tdma\")                  # Use diagonal solver\n",
    "        self.A0 = LHSImplicit(A0)\n",
    "        self.A1 = LHSImplicit(A1)\n",
    "\n",
    "        # -- Solution ----\n",
    "        #self.sol = self.usol(self.x)\n",
    "        #self.solhat = self.xf.forward_fft(self.sol)\n",
    "\n",
    "        print(\"Initialization finished.\") \n",
    "        \n",
    "    def solve(self):\n",
    "        uhat = self.A0.solve(self.b.rhs)\n",
    "        u = self.xf.backward_fft(uhat)\n",
    "        #u = self.xf.backward_fft(u.T).T\n",
    "        return u\n",
    "        \n",
    "N = 10\n",
    "xf = ChebDirichlet(N+2,bc=(0,0))\n",
    "x = xf.x\n",
    "P = Poisson(f(x),N)\n",
    "u = P.solve()\n",
    "\n",
    "plt.plot(x,u)\n",
    "plt.plot(x,usol(x),\"r--\")\n",
    "plt.show()"
   ]
  },
  {
   "cell_type": "code",
   "execution_count": 129,
   "metadata": {},
   "outputs": [
    {
     "name": "stdout",
     "output_type": "stream",
     "text": [
      "(102, 100)\n",
      "Initialization finished.\n"
     ]
    }
   ],
   "source": [
    "import numpy as np\n",
    "from pypde.bases.chebyshev import *\n",
    "from numpy.linalg import solve\n",
    "from pypde.solver.matrix import *\n",
    "from pypde.solver.operator import *\n",
    "import matplotlib.pyplot as plt\n",
    "\n",
    "ARG = np.pi/2\n",
    "def f(xx,yy):\n",
    "    return np.cos(ARG*xx)*np.cos(ARG*yy)\n",
    "\n",
    "def usol(xx,yy):\n",
    "    return f(xx,yy)*-1/ARG**2/2\n",
    "\n",
    "class Poisson2D():\n",
    "    def __init__(self,f,N):\n",
    "        assert f.ndim==2\n",
    "        self.N  = N\n",
    "        self.xf = ChebDirichlet(self.N+2,bc=(0,0))   # Basis in x\n",
    "        self.x  = self.xf.x                          # X-coordinates\n",
    "\n",
    "        # -- Matrices ------\n",
    "        D = Chebyshev(self.N+2).D(2)     # Spectral derivative matrix\n",
    "        B = Chebyshev(self.N+2).B(2)     # Pseudo inverse of D\n",
    "        S = self.xf.S                    # Transform stencil Galerkin--> Chebyshev\n",
    "        M =  (B@S)[2:,:]\n",
    "        D2 = (B@D@S)[2:,:]\n",
    "        self.B = B[2:,:]\n",
    "        \n",
    "        self.M = M\n",
    "        self.D = D2\n",
    "        print(S.shape)\n",
    "        \n",
    "        # -- Eigendecomposition ---\n",
    "        Mi = np.linalg.inv(M)\n",
    "        self.eigdecomp(D2.T@Mi.T)\n",
    "        self.Mi = Mi\n",
    "        self.MiT = np.linalg.inv(M).T\n",
    "        self.D2T = np.linalg.inv(D2).T\n",
    "        \n",
    "        #self.Bi = np.linalg.inv(B)\n",
    "        \n",
    "        # -- RHS ---\n",
    "        CH = Chebyshev(self.N+2)\n",
    "        self.ff = f\n",
    "        fhat = CH.forward_fft(f)\n",
    "        fhat = CH.forward_fft(f.T).T\n",
    "        fhat = fhat#[2:,2:]\n",
    "        self.fhat = fhat\n",
    "        BB = B#[2:]\n",
    "        self.b = RHSExplicit(f=fhat)\n",
    "        self.b.add_PM(MatrixRHS(M,axis=0))\n",
    "        self.b.add_PM(MatrixRHS(self.Qi,axis=1))\n",
    "\n",
    "        # -- LHS ---\n",
    "        A =  D2\n",
    "        #A0 = MatrixLHS(A,ndim=1,axis=0,\n",
    "        #    solver=\"solve\")                 # Use numpy.linalg.solve\n",
    "        A0 = MatrixLHS(A=self.M,ndim=2,axis=0,\n",
    "            solver=\"poisson\",lam=self.w,C=self.D)\n",
    "        B0 = MatrixLHS(A=self.Q,ndim=2,axis=1,\n",
    "            solver=\"matmul\")\n",
    "        self.A0 = LHSImplicit(A0)\n",
    "        self.A0.add(B0)\n",
    "        \n",
    "\n",
    "        # -- Solution ----\n",
    "        #self.sol = self.usol(self.x)\n",
    "        #self.solhat = self.xf.forward_fft(self.sol)\n",
    "\n",
    "        print(\"Initialization finished.\") \n",
    "        \n",
    "    def solve(self):\n",
    "        f = self.b.rhs # MfQi\n",
    "        \n",
    "        uhat = self.A0.solve(f)\n",
    "        u = self.backward(uhat)\n",
    "        return u\n",
    "    \n",
    "    \n",
    "    def solve_numpy(self):\n",
    "        '''\n",
    "        Pure numpy version of solve.\n",
    "        Only for testing, much slower\n",
    "        '''\n",
    "        u = 0\n",
    "        #f = self.b.rhs # MfQi\n",
    "        f = self.B@self.fhat[:,:]\n",
    "        #f = f[2:,2:]\n",
    "        f = f@self.B.T@self.D2T\n",
    "        f = f@self.Q\n",
    "        \n",
    "        fhat = self.forward(self.ff)\n",
    "        fhat = self.M@fhat@self.Q\n",
    "        f = fhat\n",
    "        \n",
    "        \n",
    "        uhat = np.zeros(f.shape)\n",
    "        n,m = uhat.shape\n",
    "        assert m == self.w.size\n",
    "\n",
    "        for i in range(m):\n",
    "            #W = np.eye(n)*self.w[i]\n",
    "            W = self.M.copy()\n",
    "            #for j in range(n):\n",
    "            #    W[j,j] *= self.w[i]\n",
    "            A = W*self.w[i] + self.D\n",
    "            b = f[:,i]\n",
    "            uhat[:,i] = np.linalg.solve(A,b)\n",
    "        uhat = uhat@self.Qi\n",
    "        u = self.backward(uhat)\n",
    "    \n",
    "        return u\n",
    "    \n",
    "    def eigdecomp(self,A):\n",
    "        w, Q = np.linalg.eig(A)\n",
    "        argsort = np.argsort(w)\n",
    "        self.w = w[argsort]\n",
    "        self.Q = Q[:,argsort]\n",
    "        self.Qi = np.linalg.inv(self.Q)\n",
    "        #print(\"Eigenvalues:\", self.w)\n",
    "    \n",
    "    def forward(self,u):\n",
    "        uhat = self.xf.forward_fft(u)\n",
    "        return self.xf.forward_fft(uhat.T).T\n",
    "    \n",
    "    def backward(self,uhat):\n",
    "        u = self.xf.backward_fft(uhat)\n",
    "        return self.xf.backward_fft(u.T).T\n",
    "\n",
    "\n",
    "N = 100\n",
    "xf = ChebDirichlet(N+2,bc=(0,0))\n",
    "x = xf.x\n",
    "xx,yy = np.meshgrid(x,x)\n",
    "P = Poisson2D(f(xx,yy),N)"
   ]
  },
  {
   "cell_type": "code",
   "execution_count": 130,
   "metadata": {},
   "outputs": [],
   "source": [
    "#%%timeit\n",
    "\n",
    "\n",
    "u = P.solve_numpy()"
   ]
  },
  {
   "cell_type": "code",
   "execution_count": 131,
   "metadata": {},
   "outputs": [
    {
     "name": "stdout",
     "output_type": "stream",
     "text": [
      "-0.2025214619096303\n"
     ]
    },
    {
     "data": {
      "image/png": "[encoded data removed]",
      "text/plain": [
       "<Figure size 432x288 with 1 Axes>"
      ]
     },
     "metadata": {
      "needs_background": "light"
     },
     "output_type": "display_data"
    },
    {
     "name": "stdout",
     "output_type": "stream",
     "text": [
      "-0.20252146191115317\n"
     ]
    },
    {
     "data": {
      "image/png": "[encoded data removed]",
      "text/plain": [
       "<Figure size 432x288 with 1 Axes>"
      ]
     },
     "metadata": {
      "needs_background": "light"
     },
     "output_type": "display_data"
    }
   ],
   "source": [
    "plt.contourf(xx,yy,u)\n",
    "print(np.amin(u))\n",
    "plt.show()\n",
    "plt.contourf(xx,yy,usol(xx,yy))\n",
    "print(np.amin(usol(xx,yy)))\n",
    "plt.show()"
   ]
  },
  {
   "cell_type": "code",
   "execution_count": null,
   "metadata": {},
   "outputs": [],
   "source": []
  }
 ],
 "metadata": {
  "kernelspec": {
   "display_name": "Python 3",
   "language": "python",
   "name": "python3"
  },
  "language_info": {
   "codemirror_mode": {
    "name": "ipython",
    "version": 3
   },
   "file_extension": ".py",
   "mimetype": "text/x-python",
   "name": "python",
   "nbconvert_exporter": "python",
   "pygments_lexer": "ipython3",
   "version": "3.6.9"
  }
 },
 "nbformat": 4,
 "nbformat_minor": 4
}
